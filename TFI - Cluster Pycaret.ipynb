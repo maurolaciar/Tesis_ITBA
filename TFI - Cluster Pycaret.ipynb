{
 "cells": [
  {
   "cell_type": "markdown",
   "id": "11ba446a-f525-4b02-960d-0a57b383fe38",
   "metadata": {},
   "source": [
    "# Árbol aumentos\n",
    "\n",
    "---\n",
    "\n",
    "[Conexión con base de datos](##Conexión-con-base-de-datos)\n",
    "\n",
    "[Limpieza de datos](#Limpieza-de-datos)\n",
    "\n",
    "[Metadata](#Metadata)\n",
    "\n",
    "[Árbol de decisión](#Árbol-de-decisión)"
   ]
  },
  {
   "cell_type": "markdown",
   "id": "67d29ef1-7135-4708-b489-9ed623fc6329",
   "metadata": {},
   "source": [
    "## Conexión con base de datos\n",
    "---\n",
    "Realiza la conexión con base de datos local que contiene datos históricos"
   ]
  },
  {
   "cell_type": "code",
   "execution_count": 1,
   "id": "ce59edbe-4781-4c46-bb25-a7127c21103a",
   "metadata": {},
   "outputs": [],
   "source": [
    "import pandas as pd"
   ]
  },
  {
   "cell_type": "code",
   "execution_count": 2,
   "id": "74c1bbb0-e82a-41e3-8572-34bd27829d82",
   "metadata": {},
   "outputs": [
    {
     "name": "stderr",
     "output_type": "stream",
     "text": [
      "C:\\Users\\lacia\\AppData\\Local\\Temp\\ipykernel_20964\\1628910066.py:1: DtypeWarning: Columns (5,7,8,9,12,14,15,16,17,18) have mixed types. Specify dtype option on import or set low_memory=False.\n",
      "  df = pd.read_csv('./data/base.csv')\n"
     ]
    }
   ],
   "source": [
    "df = pd.read_csv('./data/base.csv')"
   ]
  },
  {
   "cell_type": "code",
   "execution_count": 3,
   "id": "34f77882-a0b0-4238-92ad-12a79db0f1b8",
   "metadata": {},
   "outputs": [
    {
     "data": {
      "text/html": [
       "<div>\n",
       "<style scoped>\n",
       "    .dataframe tbody tr th:only-of-type {\n",
       "        vertical-align: middle;\n",
       "    }\n",
       "\n",
       "    .dataframe tbody tr th {\n",
       "        vertical-align: top;\n",
       "    }\n",
       "\n",
       "    .dataframe thead th {\n",
       "        text-align: right;\n",
       "    }\n",
       "</style>\n",
       "<table border=\"1\" class=\"dataframe\">\n",
       "  <thead>\n",
       "    <tr style=\"text-align: right;\">\n",
       "      <th></th>\n",
       "      <th>Unnamed: 0</th>\n",
       "      <th>key</th>\n",
       "      <th>bandera_id</th>\n",
       "      <th>lat</th>\n",
       "      <th>lng</th>\n",
       "      <th>sucursalnombre</th>\n",
       "      <th>id_</th>\n",
       "      <th>sucursaltipo</th>\n",
       "      <th>provincia</th>\n",
       "      <th>promo1_descripcion</th>\n",
       "      <th>...</th>\n",
       "      <th>actualizadohoy</th>\n",
       "      <th>direccion</th>\n",
       "      <th>banderadescripcion</th>\n",
       "      <th>localidad</th>\n",
       "      <th>comerciorazonsocial</th>\n",
       "      <th>comercioid</th>\n",
       "      <th>marca</th>\n",
       "      <th>nombre</th>\n",
       "      <th>presentacion</th>\n",
       "      <th>fecha</th>\n",
       "    </tr>\n",
       "  </thead>\n",
       "  <tbody>\n",
       "    <tr>\n",
       "      <th>0</th>\n",
       "      <td>0</td>\n",
       "      <td>sucursales</td>\n",
       "      <td>1</td>\n",
       "      <td>-34.603651</td>\n",
       "      <td>-58.405234</td>\n",
       "      <td>384 - BALVANERA</td>\n",
       "      <td>7790070012050</td>\n",
       "      <td>Autoservicio</td>\n",
       "      <td>AR-C</td>\n",
       "      <td>0% de descuento. Precio Promocional Exclusivo ...</td>\n",
       "      <td>...</td>\n",
       "      <td>True</td>\n",
       "      <td>Av Pueyrredon 576 (Balvanera)</td>\n",
       "      <td>Supermercados DIA</td>\n",
       "      <td>CAPITAL FEDERAL</td>\n",
       "      <td>DIA Argentina S.A</td>\n",
       "      <td>15</td>\n",
       "      <td>COCINERO</td>\n",
       "      <td>Aceite de Girasol Cocinero 900 Ml</td>\n",
       "      <td>900.0 ml</td>\n",
       "      <td>2022-08-24</td>\n",
       "    </tr>\n",
       "    <tr>\n",
       "      <th>1</th>\n",
       "      <td>1</td>\n",
       "      <td>sucursales</td>\n",
       "      <td>1</td>\n",
       "      <td>-34.676463</td>\n",
       "      <td>-58.493397</td>\n",
       "      <td>386 - VILLA LUGANO</td>\n",
       "      <td>7790070012050</td>\n",
       "      <td>Autoservicio</td>\n",
       "      <td>AR-C</td>\n",
       "      <td>0% de descuento. Precio Promocional Exclusivo ...</td>\n",
       "      <td>...</td>\n",
       "      <td>True</td>\n",
       "      <td>Montiel 3829 (Villa Lugano)</td>\n",
       "      <td>Supermercados DIA</td>\n",
       "      <td>CAPITAL FEDERAL</td>\n",
       "      <td>DIA Argentina S.A</td>\n",
       "      <td>15</td>\n",
       "      <td>COCINERO</td>\n",
       "      <td>Aceite de Girasol Cocinero 900 Ml</td>\n",
       "      <td>900.0 ml</td>\n",
       "      <td>2022-08-24</td>\n",
       "    </tr>\n",
       "    <tr>\n",
       "      <th>2</th>\n",
       "      <td>2</td>\n",
       "      <td>sucursales</td>\n",
       "      <td>1</td>\n",
       "      <td>-34.653074</td>\n",
       "      <td>-58.481413</td>\n",
       "      <td>387 - PARQUE AVELLANEDA</td>\n",
       "      <td>7790070012050</td>\n",
       "      <td>Autoservicio</td>\n",
       "      <td>AR-C</td>\n",
       "      <td>0% de descuento. Precio Promocional Exclusivo ...</td>\n",
       "      <td>...</td>\n",
       "      <td>True</td>\n",
       "      <td>Av Olivera 1268 (Villa Lugano)</td>\n",
       "      <td>Supermercados DIA</td>\n",
       "      <td>CAPITAL FEDERAL</td>\n",
       "      <td>DIA Argentina S.A</td>\n",
       "      <td>15</td>\n",
       "      <td>COCINERO</td>\n",
       "      <td>Aceite de Girasol Cocinero 900 Ml</td>\n",
       "      <td>900.0 ml</td>\n",
       "      <td>2022-08-24</td>\n",
       "    </tr>\n",
       "    <tr>\n",
       "      <th>3</th>\n",
       "      <td>3</td>\n",
       "      <td>sucursales</td>\n",
       "      <td>1</td>\n",
       "      <td>-34.626284</td>\n",
       "      <td>-58.456988</td>\n",
       "      <td>389 - FLORES</td>\n",
       "      <td>7790070012050</td>\n",
       "      <td>Autoservicio</td>\n",
       "      <td>AR-C</td>\n",
       "      <td>0% de descuento. Precio Promocional Exclusivo ...</td>\n",
       "      <td>...</td>\n",
       "      <td>True</td>\n",
       "      <td>Av Boyaca 37 (Flores)</td>\n",
       "      <td>Supermercados DIA</td>\n",
       "      <td>CAPITAL FEDERAL</td>\n",
       "      <td>DIA Argentina S.A</td>\n",
       "      <td>15</td>\n",
       "      <td>COCINERO</td>\n",
       "      <td>Aceite de Girasol Cocinero 900 Ml</td>\n",
       "      <td>900.0 ml</td>\n",
       "      <td>2022-08-24</td>\n",
       "    </tr>\n",
       "    <tr>\n",
       "      <th>4</th>\n",
       "      <td>4</td>\n",
       "      <td>sucursales</td>\n",
       "      <td>1</td>\n",
       "      <td>-35.053089</td>\n",
       "      <td>-58.760641</td>\n",
       "      <td>39 - CAÑUELAS</td>\n",
       "      <td>7790070012050</td>\n",
       "      <td>Autoservicio</td>\n",
       "      <td>AR-B</td>\n",
       "      <td>0% de descuento. Precio Promocional Exclusivo ...</td>\n",
       "      <td>...</td>\n",
       "      <td>True</td>\n",
       "      <td>Cl Rivadavia 800</td>\n",
       "      <td>Supermercados DIA</td>\n",
       "      <td>BUENOS AIRES</td>\n",
       "      <td>DIA Argentina S.A</td>\n",
       "      <td>15</td>\n",
       "      <td>COCINERO</td>\n",
       "      <td>Aceite de Girasol Cocinero 900 Ml</td>\n",
       "      <td>900.0 ml</td>\n",
       "      <td>2022-08-24</td>\n",
       "    </tr>\n",
       "  </tbody>\n",
       "</table>\n",
       "<p>5 rows × 24 columns</p>\n",
       "</div>"
      ],
      "text/plain": [
       "   Unnamed: 0         key  bandera_id        lat        lng  \\\n",
       "0           0  sucursales           1 -34.603651 -58.405234   \n",
       "1           1  sucursales           1 -34.676463 -58.493397   \n",
       "2           2  sucursales           1 -34.653074 -58.481413   \n",
       "3           3  sucursales           1 -34.626284 -58.456988   \n",
       "4           4  sucursales           1 -35.053089 -58.760641   \n",
       "\n",
       "            sucursalnombre            id_  sucursaltipo provincia  \\\n",
       "0          384 - BALVANERA  7790070012050  Autoservicio      AR-C   \n",
       "1       386 - VILLA LUGANO  7790070012050  Autoservicio      AR-C   \n",
       "2  387 - PARQUE AVELLANEDA  7790070012050  Autoservicio      AR-C   \n",
       "3             389 - FLORES  7790070012050  Autoservicio      AR-C   \n",
       "4            39 - CAÑUELAS  7790070012050  Autoservicio      AR-B   \n",
       "\n",
       "                                  promo1_descripcion  ...  actualizadohoy  \\\n",
       "0  0% de descuento. Precio Promocional Exclusivo ...  ...            True   \n",
       "1  0% de descuento. Precio Promocional Exclusivo ...  ...            True   \n",
       "2  0% de descuento. Precio Promocional Exclusivo ...  ...            True   \n",
       "3  0% de descuento. Precio Promocional Exclusivo ...  ...            True   \n",
       "4  0% de descuento. Precio Promocional Exclusivo ...  ...            True   \n",
       "\n",
       "                         direccion banderadescripcion        localidad  \\\n",
       "0   Av Pueyrredon 576 (Balvanera)   Supermercados DIA  CAPITAL FEDERAL   \n",
       "1     Montiel 3829 (Villa Lugano)   Supermercados DIA  CAPITAL FEDERAL   \n",
       "2  Av Olivera 1268 (Villa Lugano)   Supermercados DIA  CAPITAL FEDERAL   \n",
       "3           Av Boyaca 37 (Flores)   Supermercados DIA  CAPITAL FEDERAL   \n",
       "4                 Cl Rivadavia 800  Supermercados DIA     BUENOS AIRES   \n",
       "\n",
       "  comerciorazonsocial comercioid     marca                             nombre  \\\n",
       "0   DIA Argentina S.A         15  COCINERO  Aceite de Girasol Cocinero 900 Ml   \n",
       "1   DIA Argentina S.A         15  COCINERO  Aceite de Girasol Cocinero 900 Ml   \n",
       "2   DIA Argentina S.A         15  COCINERO  Aceite de Girasol Cocinero 900 Ml   \n",
       "3   DIA Argentina S.A         15  COCINERO  Aceite de Girasol Cocinero 900 Ml   \n",
       "4   DIA Argentina S.A         15  COCINERO  Aceite de Girasol Cocinero 900 Ml   \n",
       "\n",
       "  presentacion       fecha  \n",
       "0     900.0 ml  2022-08-24  \n",
       "1     900.0 ml  2022-08-24  \n",
       "2     900.0 ml  2022-08-24  \n",
       "3     900.0 ml  2022-08-24  \n",
       "4     900.0 ml  2022-08-24  \n",
       "\n",
       "[5 rows x 24 columns]"
      ]
     },
     "execution_count": 3,
     "metadata": {},
     "output_type": "execute_result"
    }
   ],
   "source": [
    "df.head()"
   ]
  },
  {
   "cell_type": "code",
   "execution_count": 4,
   "id": "0944e516-2003-469c-b0ad-11a8dd5b2545",
   "metadata": {},
   "outputs": [
    {
     "data": {
      "text/plain": [
       "(1153800, 24)"
      ]
     },
     "execution_count": 4,
     "metadata": {},
     "output_type": "execute_result"
    }
   ],
   "source": [
    "df.shape"
   ]
  },
  {
   "cell_type": "code",
   "execution_count": 5,
   "id": "8732d7aa-2caa-493d-a184-4b84f19a2d89",
   "metadata": {},
   "outputs": [],
   "source": [
    "import pycaret.clustering as pc"
   ]
  },
  {
   "cell_type": "code",
   "execution_count": 11,
   "id": "bc657cf1-d182-44a7-a8fb-381c0f721201",
   "metadata": {},
   "outputs": [
    {
     "data": {
      "text/html": [
       "<style type=\"text/css\">\n",
       "#T_6de2e_row2_col1, #T_6de2e_row10_col1 {\n",
       "  background-color: lightgreen;\n",
       "}\n",
       "</style>\n",
       "<table id=\"T_6de2e\">\n",
       "  <thead>\n",
       "    <tr>\n",
       "      <th class=\"blank level0\" >&nbsp;</th>\n",
       "      <th id=\"T_6de2e_level0_col0\" class=\"col_heading level0 col0\" >Description</th>\n",
       "      <th id=\"T_6de2e_level0_col1\" class=\"col_heading level0 col1\" >Value</th>\n",
       "    </tr>\n",
       "  </thead>\n",
       "  <tbody>\n",
       "    <tr>\n",
       "      <th id=\"T_6de2e_level0_row0\" class=\"row_heading level0 row0\" >0</th>\n",
       "      <td id=\"T_6de2e_row0_col0\" class=\"data row0 col0\" >session_id</td>\n",
       "      <td id=\"T_6de2e_row0_col1\" class=\"data row0 col1\" >5743</td>\n",
       "    </tr>\n",
       "    <tr>\n",
       "      <th id=\"T_6de2e_level0_row1\" class=\"row_heading level0 row1\" >1</th>\n",
       "      <td id=\"T_6de2e_row1_col0\" class=\"data row1 col0\" >Original Data</td>\n",
       "      <td id=\"T_6de2e_row1_col1\" class=\"data row1 col1\" >(1153800, 24)</td>\n",
       "    </tr>\n",
       "    <tr>\n",
       "      <th id=\"T_6de2e_level0_row2\" class=\"row_heading level0 row2\" >2</th>\n",
       "      <td id=\"T_6de2e_row2_col0\" class=\"data row2 col0\" >Missing Values</td>\n",
       "      <td id=\"T_6de2e_row2_col1\" class=\"data row2 col1\" >True</td>\n",
       "    </tr>\n",
       "    <tr>\n",
       "      <th id=\"T_6de2e_level0_row3\" class=\"row_heading level0 row3\" >3</th>\n",
       "      <td id=\"T_6de2e_row3_col0\" class=\"data row3 col0\" >Numeric Features</td>\n",
       "      <td id=\"T_6de2e_row3_col1\" class=\"data row3 col1\" >7</td>\n",
       "    </tr>\n",
       "    <tr>\n",
       "      <th id=\"T_6de2e_level0_row4\" class=\"row_heading level0 row4\" >4</th>\n",
       "      <td id=\"T_6de2e_row4_col0\" class=\"data row4 col0\" >Categorical Features</td>\n",
       "      <td id=\"T_6de2e_row4_col1\" class=\"data row4 col1\" >16</td>\n",
       "    </tr>\n",
       "    <tr>\n",
       "      <th id=\"T_6de2e_level0_row5\" class=\"row_heading level0 row5\" >5</th>\n",
       "      <td id=\"T_6de2e_row5_col0\" class=\"data row5 col0\" >Ordinal Features</td>\n",
       "      <td id=\"T_6de2e_row5_col1\" class=\"data row5 col1\" >False</td>\n",
       "    </tr>\n",
       "    <tr>\n",
       "      <th id=\"T_6de2e_level0_row6\" class=\"row_heading level0 row6\" >6</th>\n",
       "      <td id=\"T_6de2e_row6_col0\" class=\"data row6 col0\" >High Cardinality Features</td>\n",
       "      <td id=\"T_6de2e_row6_col1\" class=\"data row6 col1\" >False</td>\n",
       "    </tr>\n",
       "    <tr>\n",
       "      <th id=\"T_6de2e_level0_row7\" class=\"row_heading level0 row7\" >7</th>\n",
       "      <td id=\"T_6de2e_row7_col0\" class=\"data row7 col0\" >High Cardinality Method</td>\n",
       "      <td id=\"T_6de2e_row7_col1\" class=\"data row7 col1\" >None</td>\n",
       "    </tr>\n",
       "    <tr>\n",
       "      <th id=\"T_6de2e_level0_row8\" class=\"row_heading level0 row8\" >8</th>\n",
       "      <td id=\"T_6de2e_row8_col0\" class=\"data row8 col0\" >Transformed Data</td>\n",
       "      <td id=\"T_6de2e_row8_col1\" class=\"data row8 col1\" >(1153800, 5444)</td>\n",
       "    </tr>\n",
       "    <tr>\n",
       "      <th id=\"T_6de2e_level0_row9\" class=\"row_heading level0 row9\" >9</th>\n",
       "      <td id=\"T_6de2e_row9_col0\" class=\"data row9 col0\" >CPU Jobs</td>\n",
       "      <td id=\"T_6de2e_row9_col1\" class=\"data row9 col1\" >-1</td>\n",
       "    </tr>\n",
       "    <tr>\n",
       "      <th id=\"T_6de2e_level0_row10\" class=\"row_heading level0 row10\" >10</th>\n",
       "      <td id=\"T_6de2e_row10_col0\" class=\"data row10 col0\" >Use GPU</td>\n",
       "      <td id=\"T_6de2e_row10_col1\" class=\"data row10 col1\" >True</td>\n",
       "    </tr>\n",
       "    <tr>\n",
       "      <th id=\"T_6de2e_level0_row11\" class=\"row_heading level0 row11\" >11</th>\n",
       "      <td id=\"T_6de2e_row11_col0\" class=\"data row11 col0\" >Log Experiment</td>\n",
       "      <td id=\"T_6de2e_row11_col1\" class=\"data row11 col1\" >False</td>\n",
       "    </tr>\n",
       "    <tr>\n",
       "      <th id=\"T_6de2e_level0_row12\" class=\"row_heading level0 row12\" >12</th>\n",
       "      <td id=\"T_6de2e_row12_col0\" class=\"data row12 col0\" >Experiment Name</td>\n",
       "      <td id=\"T_6de2e_row12_col1\" class=\"data row12 col1\" >cluster-default-name</td>\n",
       "    </tr>\n",
       "    <tr>\n",
       "      <th id=\"T_6de2e_level0_row13\" class=\"row_heading level0 row13\" >13</th>\n",
       "      <td id=\"T_6de2e_row13_col0\" class=\"data row13 col0\" >USI</td>\n",
       "      <td id=\"T_6de2e_row13_col1\" class=\"data row13 col1\" >08c4</td>\n",
       "    </tr>\n",
       "    <tr>\n",
       "      <th id=\"T_6de2e_level0_row14\" class=\"row_heading level0 row14\" >14</th>\n",
       "      <td id=\"T_6de2e_row14_col0\" class=\"data row14 col0\" >Imputation Type</td>\n",
       "      <td id=\"T_6de2e_row14_col1\" class=\"data row14 col1\" >simple</td>\n",
       "    </tr>\n",
       "    <tr>\n",
       "      <th id=\"T_6de2e_level0_row15\" class=\"row_heading level0 row15\" >15</th>\n",
       "      <td id=\"T_6de2e_row15_col0\" class=\"data row15 col0\" >Iterative Imputation Iteration</td>\n",
       "      <td id=\"T_6de2e_row15_col1\" class=\"data row15 col1\" >None</td>\n",
       "    </tr>\n",
       "    <tr>\n",
       "      <th id=\"T_6de2e_level0_row16\" class=\"row_heading level0 row16\" >16</th>\n",
       "      <td id=\"T_6de2e_row16_col0\" class=\"data row16 col0\" >Numeric Imputer</td>\n",
       "      <td id=\"T_6de2e_row16_col1\" class=\"data row16 col1\" >mean</td>\n",
       "    </tr>\n",
       "    <tr>\n",
       "      <th id=\"T_6de2e_level0_row17\" class=\"row_heading level0 row17\" >17</th>\n",
       "      <td id=\"T_6de2e_row17_col0\" class=\"data row17 col0\" >Iterative Imputation Numeric Model</td>\n",
       "      <td id=\"T_6de2e_row17_col1\" class=\"data row17 col1\" >None</td>\n",
       "    </tr>\n",
       "    <tr>\n",
       "      <th id=\"T_6de2e_level0_row18\" class=\"row_heading level0 row18\" >18</th>\n",
       "      <td id=\"T_6de2e_row18_col0\" class=\"data row18 col0\" >Categorical Imputer</td>\n",
       "      <td id=\"T_6de2e_row18_col1\" class=\"data row18 col1\" >mode</td>\n",
       "    </tr>\n",
       "    <tr>\n",
       "      <th id=\"T_6de2e_level0_row19\" class=\"row_heading level0 row19\" >19</th>\n",
       "      <td id=\"T_6de2e_row19_col0\" class=\"data row19 col0\" >Iterative Imputation Categorical Model</td>\n",
       "      <td id=\"T_6de2e_row19_col1\" class=\"data row19 col1\" >None</td>\n",
       "    </tr>\n",
       "    <tr>\n",
       "      <th id=\"T_6de2e_level0_row20\" class=\"row_heading level0 row20\" >20</th>\n",
       "      <td id=\"T_6de2e_row20_col0\" class=\"data row20 col0\" >Unknown Categoricals Handling</td>\n",
       "      <td id=\"T_6de2e_row20_col1\" class=\"data row20 col1\" >least_frequent</td>\n",
       "    </tr>\n",
       "    <tr>\n",
       "      <th id=\"T_6de2e_level0_row21\" class=\"row_heading level0 row21\" >21</th>\n",
       "      <td id=\"T_6de2e_row21_col0\" class=\"data row21 col0\" >Normalize</td>\n",
       "      <td id=\"T_6de2e_row21_col1\" class=\"data row21 col1\" >False</td>\n",
       "    </tr>\n",
       "    <tr>\n",
       "      <th id=\"T_6de2e_level0_row22\" class=\"row_heading level0 row22\" >22</th>\n",
       "      <td id=\"T_6de2e_row22_col0\" class=\"data row22 col0\" >Normalize Method</td>\n",
       "      <td id=\"T_6de2e_row22_col1\" class=\"data row22 col1\" >None</td>\n",
       "    </tr>\n",
       "    <tr>\n",
       "      <th id=\"T_6de2e_level0_row23\" class=\"row_heading level0 row23\" >23</th>\n",
       "      <td id=\"T_6de2e_row23_col0\" class=\"data row23 col0\" >Transformation</td>\n",
       "      <td id=\"T_6de2e_row23_col1\" class=\"data row23 col1\" >False</td>\n",
       "    </tr>\n",
       "    <tr>\n",
       "      <th id=\"T_6de2e_level0_row24\" class=\"row_heading level0 row24\" >24</th>\n",
       "      <td id=\"T_6de2e_row24_col0\" class=\"data row24 col0\" >Transformation Method</td>\n",
       "      <td id=\"T_6de2e_row24_col1\" class=\"data row24 col1\" >None</td>\n",
       "    </tr>\n",
       "    <tr>\n",
       "      <th id=\"T_6de2e_level0_row25\" class=\"row_heading level0 row25\" >25</th>\n",
       "      <td id=\"T_6de2e_row25_col0\" class=\"data row25 col0\" >PCA</td>\n",
       "      <td id=\"T_6de2e_row25_col1\" class=\"data row25 col1\" >False</td>\n",
       "    </tr>\n",
       "    <tr>\n",
       "      <th id=\"T_6de2e_level0_row26\" class=\"row_heading level0 row26\" >26</th>\n",
       "      <td id=\"T_6de2e_row26_col0\" class=\"data row26 col0\" >PCA Method</td>\n",
       "      <td id=\"T_6de2e_row26_col1\" class=\"data row26 col1\" >None</td>\n",
       "    </tr>\n",
       "    <tr>\n",
       "      <th id=\"T_6de2e_level0_row27\" class=\"row_heading level0 row27\" >27</th>\n",
       "      <td id=\"T_6de2e_row27_col0\" class=\"data row27 col0\" >PCA Components</td>\n",
       "      <td id=\"T_6de2e_row27_col1\" class=\"data row27 col1\" >None</td>\n",
       "    </tr>\n",
       "    <tr>\n",
       "      <th id=\"T_6de2e_level0_row28\" class=\"row_heading level0 row28\" >28</th>\n",
       "      <td id=\"T_6de2e_row28_col0\" class=\"data row28 col0\" >Ignore Low Variance</td>\n",
       "      <td id=\"T_6de2e_row28_col1\" class=\"data row28 col1\" >False</td>\n",
       "    </tr>\n",
       "    <tr>\n",
       "      <th id=\"T_6de2e_level0_row29\" class=\"row_heading level0 row29\" >29</th>\n",
       "      <td id=\"T_6de2e_row29_col0\" class=\"data row29 col0\" >Combine Rare Levels</td>\n",
       "      <td id=\"T_6de2e_row29_col1\" class=\"data row29 col1\" >False</td>\n",
       "    </tr>\n",
       "    <tr>\n",
       "      <th id=\"T_6de2e_level0_row30\" class=\"row_heading level0 row30\" >30</th>\n",
       "      <td id=\"T_6de2e_row30_col0\" class=\"data row30 col0\" >Rare Level Threshold</td>\n",
       "      <td id=\"T_6de2e_row30_col1\" class=\"data row30 col1\" >None</td>\n",
       "    </tr>\n",
       "    <tr>\n",
       "      <th id=\"T_6de2e_level0_row31\" class=\"row_heading level0 row31\" >31</th>\n",
       "      <td id=\"T_6de2e_row31_col0\" class=\"data row31 col0\" >Numeric Binning</td>\n",
       "      <td id=\"T_6de2e_row31_col1\" class=\"data row31 col1\" >False</td>\n",
       "    </tr>\n",
       "    <tr>\n",
       "      <th id=\"T_6de2e_level0_row32\" class=\"row_heading level0 row32\" >32</th>\n",
       "      <td id=\"T_6de2e_row32_col0\" class=\"data row32 col0\" >Remove Outliers</td>\n",
       "      <td id=\"T_6de2e_row32_col1\" class=\"data row32 col1\" >False</td>\n",
       "    </tr>\n",
       "    <tr>\n",
       "      <th id=\"T_6de2e_level0_row33\" class=\"row_heading level0 row33\" >33</th>\n",
       "      <td id=\"T_6de2e_row33_col0\" class=\"data row33 col0\" >Outliers Threshold</td>\n",
       "      <td id=\"T_6de2e_row33_col1\" class=\"data row33 col1\" >None</td>\n",
       "    </tr>\n",
       "    <tr>\n",
       "      <th id=\"T_6de2e_level0_row34\" class=\"row_heading level0 row34\" >34</th>\n",
       "      <td id=\"T_6de2e_row34_col0\" class=\"data row34 col0\" >Remove Multicollinearity</td>\n",
       "      <td id=\"T_6de2e_row34_col1\" class=\"data row34 col1\" >False</td>\n",
       "    </tr>\n",
       "    <tr>\n",
       "      <th id=\"T_6de2e_level0_row35\" class=\"row_heading level0 row35\" >35</th>\n",
       "      <td id=\"T_6de2e_row35_col0\" class=\"data row35 col0\" >Multicollinearity Threshold</td>\n",
       "      <td id=\"T_6de2e_row35_col1\" class=\"data row35 col1\" >None</td>\n",
       "    </tr>\n",
       "    <tr>\n",
       "      <th id=\"T_6de2e_level0_row36\" class=\"row_heading level0 row36\" >36</th>\n",
       "      <td id=\"T_6de2e_row36_col0\" class=\"data row36 col0\" >Remove Perfect Collinearity</td>\n",
       "      <td id=\"T_6de2e_row36_col1\" class=\"data row36 col1\" >False</td>\n",
       "    </tr>\n",
       "    <tr>\n",
       "      <th id=\"T_6de2e_level0_row37\" class=\"row_heading level0 row37\" >37</th>\n",
       "      <td id=\"T_6de2e_row37_col0\" class=\"data row37 col0\" >Clustering</td>\n",
       "      <td id=\"T_6de2e_row37_col1\" class=\"data row37 col1\" >False</td>\n",
       "    </tr>\n",
       "    <tr>\n",
       "      <th id=\"T_6de2e_level0_row38\" class=\"row_heading level0 row38\" >38</th>\n",
       "      <td id=\"T_6de2e_row38_col0\" class=\"data row38 col0\" >Clustering Iteration</td>\n",
       "      <td id=\"T_6de2e_row38_col1\" class=\"data row38 col1\" >None</td>\n",
       "    </tr>\n",
       "    <tr>\n",
       "      <th id=\"T_6de2e_level0_row39\" class=\"row_heading level0 row39\" >39</th>\n",
       "      <td id=\"T_6de2e_row39_col0\" class=\"data row39 col0\" >Polynomial Features</td>\n",
       "      <td id=\"T_6de2e_row39_col1\" class=\"data row39 col1\" >False</td>\n",
       "    </tr>\n",
       "    <tr>\n",
       "      <th id=\"T_6de2e_level0_row40\" class=\"row_heading level0 row40\" >40</th>\n",
       "      <td id=\"T_6de2e_row40_col0\" class=\"data row40 col0\" >Polynomial Degree</td>\n",
       "      <td id=\"T_6de2e_row40_col1\" class=\"data row40 col1\" >None</td>\n",
       "    </tr>\n",
       "    <tr>\n",
       "      <th id=\"T_6de2e_level0_row41\" class=\"row_heading level0 row41\" >41</th>\n",
       "      <td id=\"T_6de2e_row41_col0\" class=\"data row41 col0\" >Trignometry Features</td>\n",
       "      <td id=\"T_6de2e_row41_col1\" class=\"data row41 col1\" >False</td>\n",
       "    </tr>\n",
       "    <tr>\n",
       "      <th id=\"T_6de2e_level0_row42\" class=\"row_heading level0 row42\" >42</th>\n",
       "      <td id=\"T_6de2e_row42_col0\" class=\"data row42 col0\" >Polynomial Threshold</td>\n",
       "      <td id=\"T_6de2e_row42_col1\" class=\"data row42 col1\" >None</td>\n",
       "    </tr>\n",
       "    <tr>\n",
       "      <th id=\"T_6de2e_level0_row43\" class=\"row_heading level0 row43\" >43</th>\n",
       "      <td id=\"T_6de2e_row43_col0\" class=\"data row43 col0\" >Group Features</td>\n",
       "      <td id=\"T_6de2e_row43_col1\" class=\"data row43 col1\" >False</td>\n",
       "    </tr>\n",
       "    <tr>\n",
       "      <th id=\"T_6de2e_level0_row44\" class=\"row_heading level0 row44\" >44</th>\n",
       "      <td id=\"T_6de2e_row44_col0\" class=\"data row44 col0\" >Feature Selection</td>\n",
       "      <td id=\"T_6de2e_row44_col1\" class=\"data row44 col1\" >False</td>\n",
       "    </tr>\n",
       "    <tr>\n",
       "      <th id=\"T_6de2e_level0_row45\" class=\"row_heading level0 row45\" >45</th>\n",
       "      <td id=\"T_6de2e_row45_col0\" class=\"data row45 col0\" >Feature Selection Method</td>\n",
       "      <td id=\"T_6de2e_row45_col1\" class=\"data row45 col1\" >classic</td>\n",
       "    </tr>\n",
       "    <tr>\n",
       "      <th id=\"T_6de2e_level0_row46\" class=\"row_heading level0 row46\" >46</th>\n",
       "      <td id=\"T_6de2e_row46_col0\" class=\"data row46 col0\" >Features Selection Threshold</td>\n",
       "      <td id=\"T_6de2e_row46_col1\" class=\"data row46 col1\" >None</td>\n",
       "    </tr>\n",
       "    <tr>\n",
       "      <th id=\"T_6de2e_level0_row47\" class=\"row_heading level0 row47\" >47</th>\n",
       "      <td id=\"T_6de2e_row47_col0\" class=\"data row47 col0\" >Feature Interaction</td>\n",
       "      <td id=\"T_6de2e_row47_col1\" class=\"data row47 col1\" >False</td>\n",
       "    </tr>\n",
       "    <tr>\n",
       "      <th id=\"T_6de2e_level0_row48\" class=\"row_heading level0 row48\" >48</th>\n",
       "      <td id=\"T_6de2e_row48_col0\" class=\"data row48 col0\" >Feature Ratio</td>\n",
       "      <td id=\"T_6de2e_row48_col1\" class=\"data row48 col1\" >False</td>\n",
       "    </tr>\n",
       "    <tr>\n",
       "      <th id=\"T_6de2e_level0_row49\" class=\"row_heading level0 row49\" >49</th>\n",
       "      <td id=\"T_6de2e_row49_col0\" class=\"data row49 col0\" >Interaction Threshold</td>\n",
       "      <td id=\"T_6de2e_row49_col1\" class=\"data row49 col1\" >None</td>\n",
       "    </tr>\n",
       "  </tbody>\n",
       "</table>\n"
      ],
      "text/plain": [
       "<pandas.io.formats.style.Styler at 0x1beaa607fa0>"
      ]
     },
     "metadata": {},
     "output_type": "display_data"
    }
   ],
   "source": [
    "clf1 = pc.setup(data = df, use_gpu=True)"
   ]
  },
  {
   "cell_type": "code",
   "execution_count": null,
   "id": "1e1f6982-5714-47b7-a3c0-f1f2504416d7",
   "metadata": {},
   "outputs": [],
   "source": [
    "#transformed_dataset = pc.get_config('X')"
   ]
  },
  {
   "cell_type": "code",
   "execution_count": null,
   "id": "998b9c3d-a4c1-4911-b570-25f660593437",
   "metadata": {},
   "outputs": [],
   "source": [
    "#transformed_dataset.head()"
   ]
  },
  {
   "cell_type": "code",
   "execution_count": null,
   "id": "3a7b500e-3ee8-4c4c-986e-546c7ca4d217",
   "metadata": {},
   "outputs": [],
   "source": [
    "#transformed_dataset.shape"
   ]
  },
  {
   "cell_type": "code",
   "execution_count": 12,
   "id": "59cdeccb-8687-4388-809f-c6af4266d921",
   "metadata": {},
   "outputs": [
    {
     "data": {
      "text/html": [
       "<div>\n",
       "<style scoped>\n",
       "    .dataframe tbody tr th:only-of-type {\n",
       "        vertical-align: middle;\n",
       "    }\n",
       "\n",
       "    .dataframe tbody tr th {\n",
       "        vertical-align: top;\n",
       "    }\n",
       "\n",
       "    .dataframe thead th {\n",
       "        text-align: right;\n",
       "    }\n",
       "</style>\n",
       "<table border=\"1\" class=\"dataframe\">\n",
       "  <thead>\n",
       "    <tr style=\"text-align: right;\">\n",
       "      <th></th>\n",
       "      <th>Name</th>\n",
       "      <th>Reference</th>\n",
       "    </tr>\n",
       "    <tr>\n",
       "      <th>ID</th>\n",
       "      <th></th>\n",
       "      <th></th>\n",
       "    </tr>\n",
       "  </thead>\n",
       "  <tbody>\n",
       "    <tr>\n",
       "      <th>kmeans</th>\n",
       "      <td>K-Means Clustering</td>\n",
       "      <td>sklearn.cluster._kmeans.KMeans</td>\n",
       "    </tr>\n",
       "    <tr>\n",
       "      <th>ap</th>\n",
       "      <td>Affinity Propagation</td>\n",
       "      <td>sklearn.cluster._affinity_propagation.Affinity...</td>\n",
       "    </tr>\n",
       "    <tr>\n",
       "      <th>meanshift</th>\n",
       "      <td>Mean Shift Clustering</td>\n",
       "      <td>sklearn.cluster._mean_shift.MeanShift</td>\n",
       "    </tr>\n",
       "    <tr>\n",
       "      <th>sc</th>\n",
       "      <td>Spectral Clustering</td>\n",
       "      <td>sklearn.cluster._spectral.SpectralClustering</td>\n",
       "    </tr>\n",
       "    <tr>\n",
       "      <th>hclust</th>\n",
       "      <td>Agglomerative Clustering</td>\n",
       "      <td>sklearn.cluster._agglomerative.AgglomerativeCl...</td>\n",
       "    </tr>\n",
       "    <tr>\n",
       "      <th>dbscan</th>\n",
       "      <td>Density-Based Spatial Clustering</td>\n",
       "      <td>sklearn.cluster._dbscan.DBSCAN</td>\n",
       "    </tr>\n",
       "    <tr>\n",
       "      <th>optics</th>\n",
       "      <td>OPTICS Clustering</td>\n",
       "      <td>sklearn.cluster._optics.OPTICS</td>\n",
       "    </tr>\n",
       "    <tr>\n",
       "      <th>birch</th>\n",
       "      <td>Birch Clustering</td>\n",
       "      <td>sklearn.cluster._birch.Birch</td>\n",
       "    </tr>\n",
       "    <tr>\n",
       "      <th>kmodes</th>\n",
       "      <td>K-Modes Clustering</td>\n",
       "      <td>kmodes.kmodes.KModes</td>\n",
       "    </tr>\n",
       "  </tbody>\n",
       "</table>\n",
       "</div>"
      ],
      "text/plain": [
       "                                       Name  \\\n",
       "ID                                            \n",
       "kmeans                   K-Means Clustering   \n",
       "ap                     Affinity Propagation   \n",
       "meanshift             Mean Shift Clustering   \n",
       "sc                      Spectral Clustering   \n",
       "hclust             Agglomerative Clustering   \n",
       "dbscan     Density-Based Spatial Clustering   \n",
       "optics                    OPTICS Clustering   \n",
       "birch                      Birch Clustering   \n",
       "kmodes                   K-Modes Clustering   \n",
       "\n",
       "                                                   Reference  \n",
       "ID                                                            \n",
       "kmeans                        sklearn.cluster._kmeans.KMeans  \n",
       "ap         sklearn.cluster._affinity_propagation.Affinity...  \n",
       "meanshift              sklearn.cluster._mean_shift.MeanShift  \n",
       "sc              sklearn.cluster._spectral.SpectralClustering  \n",
       "hclust     sklearn.cluster._agglomerative.AgglomerativeCl...  \n",
       "dbscan                        sklearn.cluster._dbscan.DBSCAN  \n",
       "optics                        sklearn.cluster._optics.OPTICS  \n",
       "birch                           sklearn.cluster._birch.Birch  \n",
       "kmodes                                  kmodes.kmodes.KModes  "
      ]
     },
     "execution_count": 12,
     "metadata": {},
     "output_type": "execute_result"
    }
   ],
   "source": [
    "pc.models()"
   ]
  },
  {
   "cell_type": "code",
   "execution_count": 13,
   "id": "206fbc0a-03aa-43f7-8f48-93db5c2983ae",
   "metadata": {},
   "outputs": [
    {
     "data": {
      "application/vnd.jupyter.widget-view+json": {
       "model_id": "3745f0de70e74a75a03fcb29eeb0d985",
       "version_major": 2,
       "version_minor": 0
      },
      "text/plain": [
       "IntProgress(value=0, description='Processing: ', max=3)"
      ]
     },
     "metadata": {},
     "output_type": "display_data"
    },
    {
     "data": {
      "text/html": [
       "<div>\n",
       "<style scoped>\n",
       "    .dataframe tbody tr th:only-of-type {\n",
       "        vertical-align: middle;\n",
       "    }\n",
       "\n",
       "    .dataframe tbody tr th {\n",
       "        vertical-align: top;\n",
       "    }\n",
       "\n",
       "    .dataframe thead th {\n",
       "        text-align: right;\n",
       "    }\n",
       "</style>\n",
       "<table border=\"1\" class=\"dataframe\">\n",
       "  <thead>\n",
       "    <tr style=\"text-align: right;\">\n",
       "      <th></th>\n",
       "      <th></th>\n",
       "      <th></th>\n",
       "    </tr>\n",
       "    <tr>\n",
       "      <th></th>\n",
       "      <th></th>\n",
       "      <th></th>\n",
       "    </tr>\n",
       "  </thead>\n",
       "  <tbody>\n",
       "    <tr>\n",
       "      <th>Initiated</th>\n",
       "      <td>. . . . . . . . . . . . . . . . . .</td>\n",
       "      <td>07:48:39</td>\n",
       "    </tr>\n",
       "    <tr>\n",
       "      <th>Status</th>\n",
       "      <td>. . . . . . . . . . . . . . . . . .</td>\n",
       "      <td>Fitting 4 Clusters</td>\n",
       "    </tr>\n",
       "    <tr>\n",
       "      <th>Estimator</th>\n",
       "      <td>. . . . . . . . . . . . . . . . . .</td>\n",
       "      <td>K-Means Clustering</td>\n",
       "    </tr>\n",
       "  </tbody>\n",
       "</table>\n",
       "</div>"
      ],
      "text/plain": [
       "                                                                  \n",
       "                                                                  \n",
       "Initiated  . . . . . . . . . . . . . . . . . .            07:48:39\n",
       "Status     . . . . . . . . . . . . . . . . . .  Fitting 4 Clusters\n",
       "Estimator  . . . . . . . . . . . . . . . . . .  K-Means Clustering"
      ]
     },
     "metadata": {},
     "output_type": "display_data"
    },
    {
     "data": {
      "text/html": [
       "<div>\n",
       "<style scoped>\n",
       "    .dataframe tbody tr th:only-of-type {\n",
       "        vertical-align: middle;\n",
       "    }\n",
       "\n",
       "    .dataframe tbody tr th {\n",
       "        vertical-align: top;\n",
       "    }\n",
       "\n",
       "    .dataframe thead th {\n",
       "        text-align: right;\n",
       "    }\n",
       "</style>\n",
       "<table border=\"1\" class=\"dataframe\">\n",
       "  <thead>\n",
       "    <tr style=\"text-align: right;\">\n",
       "      <th></th>\n",
       "      <th>Silhouette</th>\n",
       "      <th>Calinski-Harabasz</th>\n",
       "      <th>Davies-Bouldin</th>\n",
       "      <th>Homogeneity</th>\n",
       "      <th>Rand Index</th>\n",
       "      <th>Completeness</th>\n",
       "    </tr>\n",
       "  </thead>\n",
       "  <tbody>\n",
       "  </tbody>\n",
       "</table>\n",
       "</div>"
      ],
      "text/plain": [
       "Empty DataFrame\n",
       "Columns: [Silhouette, Calinski-Harabasz, Davies-Bouldin, Homogeneity, Rand Index, Completeness]\n",
       "Index: []"
      ]
     },
     "metadata": {},
     "output_type": "display_data"
    },
    {
     "ename": "MemoryError",
     "evalue": "Unable to allocate 23.4 GiB for an array with shape (5444, 1153800) and data type float32",
     "output_type": "error",
     "traceback": [
      "\u001b[1;31m---------------------------------------------------------------------------\u001b[0m",
      "\u001b[1;31mMemoryError\u001b[0m                               Traceback (most recent call last)",
      "Input \u001b[1;32mIn [13]\u001b[0m, in \u001b[0;36m<cell line: 1>\u001b[1;34m()\u001b[0m\n\u001b[1;32m----> 1\u001b[0m kmeans \u001b[38;5;241m=\u001b[39m \u001b[43mpc\u001b[49m\u001b[38;5;241;43m.\u001b[39;49m\u001b[43mcreate_model\u001b[49m\u001b[43m(\u001b[49m\u001b[38;5;124;43m'\u001b[39;49m\u001b[38;5;124;43mkmeans\u001b[39;49m\u001b[38;5;124;43m'\u001b[39;49m\u001b[43m)\u001b[49m\n",
      "File \u001b[1;32m~\\anaconda3\\envs\\pycaret\\lib\\site-packages\\pycaret\\clustering.py:552\u001b[0m, in \u001b[0;36mcreate_model\u001b[1;34m(model, num_clusters, ground_truth, round, fit_kwargs, verbose, experiment_custom_tags, **kwargs)\u001b[0m\n\u001b[0;32m    456\u001b[0m \u001b[38;5;28;01mdef\u001b[39;00m \u001b[38;5;21mcreate_model\u001b[39m(\n\u001b[0;32m    457\u001b[0m     model: Union[\u001b[38;5;28mstr\u001b[39m, Any],\n\u001b[0;32m    458\u001b[0m     num_clusters: \u001b[38;5;28mint\u001b[39m \u001b[38;5;241m=\u001b[39m \u001b[38;5;241m4\u001b[39m,\n\u001b[1;32m   (...)\u001b[0m\n\u001b[0;32m    464\u001b[0m     \u001b[38;5;241m*\u001b[39m\u001b[38;5;241m*\u001b[39mkwargs\n\u001b[0;32m    465\u001b[0m ):\n\u001b[0;32m    467\u001b[0m     \u001b[38;5;124;03m\"\"\"\u001b[39;00m\n\u001b[0;32m    468\u001b[0m \u001b[38;5;124;03m    This function trains and evaluates the performance of a given model.\u001b[39;00m\n\u001b[0;32m    469\u001b[0m \u001b[38;5;124;03m    Metrics evaluated can be accessed using the ``get_metrics`` function. \u001b[39;00m\n\u001b[1;32m   (...)\u001b[0m\n\u001b[0;32m    549\u001b[0m \u001b[38;5;124;03m       \u001b[39;00m\n\u001b[0;32m    550\u001b[0m \u001b[38;5;124;03m    \"\"\"\u001b[39;00m\n\u001b[1;32m--> 552\u001b[0m     \u001b[38;5;28;01mreturn\u001b[39;00m \u001b[43mpycaret\u001b[49m\u001b[38;5;241;43m.\u001b[39;49m\u001b[43minternal\u001b[49m\u001b[38;5;241;43m.\u001b[39;49m\u001b[43mtabular\u001b[49m\u001b[38;5;241;43m.\u001b[39;49m\u001b[43mcreate_model_unsupervised\u001b[49m\u001b[43m(\u001b[49m\n\u001b[0;32m    553\u001b[0m \u001b[43m        \u001b[49m\u001b[43mestimator\u001b[49m\u001b[38;5;241;43m=\u001b[39;49m\u001b[43mmodel\u001b[49m\u001b[43m,\u001b[49m\n\u001b[0;32m    554\u001b[0m \u001b[43m        \u001b[49m\u001b[43mnum_clusters\u001b[49m\u001b[38;5;241;43m=\u001b[39;49m\u001b[43mnum_clusters\u001b[49m\u001b[43m,\u001b[49m\n\u001b[0;32m    555\u001b[0m \u001b[43m        \u001b[49m\u001b[43mground_truth\u001b[49m\u001b[38;5;241;43m=\u001b[39;49m\u001b[43mground_truth\u001b[49m\u001b[43m,\u001b[49m\n\u001b[0;32m    556\u001b[0m \u001b[43m        \u001b[49m\u001b[38;5;28;43mround\u001b[39;49m\u001b[38;5;241;43m=\u001b[39;49m\u001b[38;5;28;43mround\u001b[39;49m\u001b[43m,\u001b[49m\n\u001b[0;32m    557\u001b[0m \u001b[43m        \u001b[49m\u001b[43mfit_kwargs\u001b[49m\u001b[38;5;241;43m=\u001b[39;49m\u001b[43mfit_kwargs\u001b[49m\u001b[43m,\u001b[49m\n\u001b[0;32m    558\u001b[0m \u001b[43m        \u001b[49m\u001b[43mverbose\u001b[49m\u001b[38;5;241;43m=\u001b[39;49m\u001b[43mverbose\u001b[49m\u001b[43m,\u001b[49m\n\u001b[0;32m    559\u001b[0m \u001b[43m        \u001b[49m\u001b[43mexperiment_custom_tags\u001b[49m\u001b[38;5;241;43m=\u001b[39;49m\u001b[43mexperiment_custom_tags\u001b[49m\u001b[43m,\u001b[49m\n\u001b[0;32m    560\u001b[0m \u001b[43m        \u001b[49m\u001b[38;5;241;43m*\u001b[39;49m\u001b[38;5;241;43m*\u001b[39;49m\u001b[43mkwargs\u001b[49m\u001b[43m,\u001b[49m\n\u001b[0;32m    561\u001b[0m \u001b[43m    \u001b[49m\u001b[43m)\u001b[49m\n",
      "File \u001b[1;32m~\\anaconda3\\envs\\pycaret\\lib\\site-packages\\pycaret\\internal\\tabular.py:2696\u001b[0m, in \u001b[0;36mcreate_model_unsupervised\u001b[1;34m(estimator, num_clusters, fraction, ground_truth, round, fit_kwargs, verbose, system, add_to_model_list, raise_num_clusters, X_data, experiment_custom_tags, display, **kwargs)\u001b[0m\n\u001b[0;32m   2692\u001b[0m                 \u001b[38;5;28;01mraise\u001b[39;00m \u001b[38;5;167;01mRuntimeError\u001b[39;00m(\n\u001b[0;32m   2693\u001b[0m                     \u001b[38;5;124m\"\u001b[39m\u001b[38;5;124mCould not form valid cluster separation. Try a different dataset or model.\u001b[39m\u001b[38;5;124m\"\u001b[39m\n\u001b[0;32m   2694\u001b[0m                 )\n\u001b[0;32m   2695\u001b[0m     \u001b[38;5;28;01melse\u001b[39;00m:\n\u001b[1;32m-> 2696\u001b[0m         \u001b[43mpipeline_with_model\u001b[49m\u001b[38;5;241;43m.\u001b[39;49m\u001b[43mfit\u001b[49m\u001b[43m(\u001b[49m\u001b[43mdata_X\u001b[49m\u001b[43m,\u001b[49m\u001b[43m \u001b[49m\u001b[38;5;241;43m*\u001b[39;49m\u001b[38;5;241;43m*\u001b[39;49m\u001b[43mfit_kwargs\u001b[49m\u001b[43m)\u001b[49m\n\u001b[0;32m   2697\u001b[0m model_fit_end \u001b[38;5;241m=\u001b[39m time\u001b[38;5;241m.\u001b[39mtime()\n\u001b[0;32m   2699\u001b[0m model_fit_time \u001b[38;5;241m=\u001b[39m np\u001b[38;5;241m.\u001b[39marray(model_fit_end \u001b[38;5;241m-\u001b[39m model_fit_start)\u001b[38;5;241m.\u001b[39mround(\u001b[38;5;241m2\u001b[39m)\n",
      "File \u001b[1;32m~\\anaconda3\\envs\\pycaret\\lib\\site-packages\\pycaret\\internal\\pipeline.py:118\u001b[0m, in \u001b[0;36mPipeline.fit\u001b[1;34m(self, X, y, **fit_kwargs)\u001b[0m\n\u001b[0;32m    117\u001b[0m \u001b[38;5;28;01mdef\u001b[39;00m \u001b[38;5;21mfit\u001b[39m(\u001b[38;5;28mself\u001b[39m, X, y\u001b[38;5;241m=\u001b[39m\u001b[38;5;28;01mNone\u001b[39;00m, \u001b[38;5;241m*\u001b[39m\u001b[38;5;241m*\u001b[39mfit_kwargs):\n\u001b[1;32m--> 118\u001b[0m     result \u001b[38;5;241m=\u001b[39m \u001b[38;5;28;43msuper\u001b[39;49m\u001b[43m(\u001b[49m\u001b[43m)\u001b[49m\u001b[38;5;241;43m.\u001b[39;49m\u001b[43mfit\u001b[49m\u001b[43m(\u001b[49m\u001b[43mX\u001b[49m\u001b[43m,\u001b[49m\u001b[43m \u001b[49m\u001b[43my\u001b[49m\u001b[38;5;241;43m=\u001b[39;49m\u001b[43my\u001b[49m\u001b[43m,\u001b[49m\u001b[43m \u001b[49m\u001b[38;5;241;43m*\u001b[39;49m\u001b[38;5;241;43m*\u001b[39;49m\u001b[43mfit_kwargs\u001b[49m\u001b[43m)\u001b[49m\n\u001b[0;32m    120\u001b[0m     \u001b[38;5;28mself\u001b[39m\u001b[38;5;241m.\u001b[39m_carry_over_final_estimator_fit_vars()\n\u001b[0;32m    121\u001b[0m     \u001b[38;5;28;01mreturn\u001b[39;00m result\n",
      "File \u001b[1;32m~\\anaconda3\\envs\\pycaret\\lib\\site-packages\\imblearn\\pipeline.py:281\u001b[0m, in \u001b[0;36mPipeline.fit\u001b[1;34m(self, X, y, **fit_params)\u001b[0m\n\u001b[0;32m    278\u001b[0m \u001b[38;5;28;01mwith\u001b[39;00m _print_elapsed_time(\u001b[38;5;124m'\u001b[39m\u001b[38;5;124mPipeline\u001b[39m\u001b[38;5;124m'\u001b[39m,\n\u001b[0;32m    279\u001b[0m                          \u001b[38;5;28mself\u001b[39m\u001b[38;5;241m.\u001b[39m_log_message(\u001b[38;5;28mlen\u001b[39m(\u001b[38;5;28mself\u001b[39m\u001b[38;5;241m.\u001b[39msteps) \u001b[38;5;241m-\u001b[39m \u001b[38;5;241m1\u001b[39m)):\n\u001b[0;32m    280\u001b[0m     \u001b[38;5;28;01mif\u001b[39;00m \u001b[38;5;28mself\u001b[39m\u001b[38;5;241m.\u001b[39m_final_estimator \u001b[38;5;241m!=\u001b[39m \u001b[38;5;124m\"\u001b[39m\u001b[38;5;124mpassthrough\u001b[39m\u001b[38;5;124m\"\u001b[39m:\n\u001b[1;32m--> 281\u001b[0m         \u001b[38;5;28;43mself\u001b[39;49m\u001b[38;5;241;43m.\u001b[39;49m\u001b[43m_final_estimator\u001b[49m\u001b[38;5;241;43m.\u001b[39;49m\u001b[43mfit\u001b[49m\u001b[43m(\u001b[49m\u001b[43mXt\u001b[49m\u001b[43m,\u001b[49m\u001b[43m \u001b[49m\u001b[43myt\u001b[49m\u001b[43m,\u001b[49m\u001b[43m \u001b[49m\u001b[38;5;241;43m*\u001b[39;49m\u001b[38;5;241;43m*\u001b[39;49m\u001b[43mfit_params\u001b[49m\u001b[43m)\u001b[49m\n\u001b[0;32m    282\u001b[0m \u001b[38;5;28;01mreturn\u001b[39;00m \u001b[38;5;28mself\u001b[39m\n",
      "File \u001b[1;32m~\\anaconda3\\envs\\pycaret\\lib\\site-packages\\sklearn\\cluster\\_kmeans.py:1030\u001b[0m, in \u001b[0;36mKMeans.fit\u001b[1;34m(self, X, y, sample_weight)\u001b[0m\n\u001b[0;32m   1004\u001b[0m \u001b[38;5;28;01mdef\u001b[39;00m \u001b[38;5;21mfit\u001b[39m(\u001b[38;5;28mself\u001b[39m, X, y\u001b[38;5;241m=\u001b[39m\u001b[38;5;28;01mNone\u001b[39;00m, sample_weight\u001b[38;5;241m=\u001b[39m\u001b[38;5;28;01mNone\u001b[39;00m):\n\u001b[0;32m   1005\u001b[0m     \u001b[38;5;124;03m\"\"\"Compute k-means clustering.\u001b[39;00m\n\u001b[0;32m   1006\u001b[0m \n\u001b[0;32m   1007\u001b[0m \u001b[38;5;124;03m    Parameters\u001b[39;00m\n\u001b[1;32m   (...)\u001b[0m\n\u001b[0;32m   1028\u001b[0m \u001b[38;5;124;03m        Fitted estimator.\u001b[39;00m\n\u001b[0;32m   1029\u001b[0m \u001b[38;5;124;03m    \"\"\"\u001b[39;00m\n\u001b[1;32m-> 1030\u001b[0m     X \u001b[38;5;241m=\u001b[39m \u001b[38;5;28;43mself\u001b[39;49m\u001b[38;5;241;43m.\u001b[39;49m\u001b[43m_validate_data\u001b[49m\u001b[43m(\u001b[49m\u001b[43mX\u001b[49m\u001b[43m,\u001b[49m\u001b[43m \u001b[49m\u001b[43maccept_sparse\u001b[49m\u001b[38;5;241;43m=\u001b[39;49m\u001b[38;5;124;43m'\u001b[39;49m\u001b[38;5;124;43mcsr\u001b[39;49m\u001b[38;5;124;43m'\u001b[39;49m\u001b[43m,\u001b[49m\n\u001b[0;32m   1031\u001b[0m \u001b[43m                            \u001b[49m\u001b[43mdtype\u001b[49m\u001b[38;5;241;43m=\u001b[39;49m\u001b[43m[\u001b[49m\u001b[43mnp\u001b[49m\u001b[38;5;241;43m.\u001b[39;49m\u001b[43mfloat64\u001b[49m\u001b[43m,\u001b[49m\u001b[43m \u001b[49m\u001b[43mnp\u001b[49m\u001b[38;5;241;43m.\u001b[39;49m\u001b[43mfloat32\u001b[49m\u001b[43m]\u001b[49m\u001b[43m,\u001b[49m\n\u001b[0;32m   1032\u001b[0m \u001b[43m                            \u001b[49m\u001b[43morder\u001b[49m\u001b[38;5;241;43m=\u001b[39;49m\u001b[38;5;124;43m'\u001b[39;49m\u001b[38;5;124;43mC\u001b[39;49m\u001b[38;5;124;43m'\u001b[39;49m\u001b[43m,\u001b[49m\u001b[43m \u001b[49m\u001b[43mcopy\u001b[49m\u001b[38;5;241;43m=\u001b[39;49m\u001b[38;5;28;43mself\u001b[39;49m\u001b[38;5;241;43m.\u001b[39;49m\u001b[43mcopy_x\u001b[49m\u001b[43m,\u001b[49m\n\u001b[0;32m   1033\u001b[0m \u001b[43m                            \u001b[49m\u001b[43maccept_large_sparse\u001b[49m\u001b[38;5;241;43m=\u001b[39;49m\u001b[38;5;28;43;01mFalse\u001b[39;49;00m\u001b[43m)\u001b[49m\n\u001b[0;32m   1035\u001b[0m     \u001b[38;5;28mself\u001b[39m\u001b[38;5;241m.\u001b[39m_check_params(X)\n\u001b[0;32m   1036\u001b[0m     random_state \u001b[38;5;241m=\u001b[39m check_random_state(\u001b[38;5;28mself\u001b[39m\u001b[38;5;241m.\u001b[39mrandom_state)\n",
      "File \u001b[1;32m~\\anaconda3\\envs\\pycaret\\lib\\site-packages\\sklearn\\base.py:420\u001b[0m, in \u001b[0;36mBaseEstimator._validate_data\u001b[1;34m(self, X, y, reset, validate_separately, **check_params)\u001b[0m\n\u001b[0;32m    415\u001b[0m     \u001b[38;5;28;01mif\u001b[39;00m \u001b[38;5;28mself\u001b[39m\u001b[38;5;241m.\u001b[39m_get_tags()[\u001b[38;5;124m'\u001b[39m\u001b[38;5;124mrequires_y\u001b[39m\u001b[38;5;124m'\u001b[39m]:\n\u001b[0;32m    416\u001b[0m         \u001b[38;5;28;01mraise\u001b[39;00m \u001b[38;5;167;01mValueError\u001b[39;00m(\n\u001b[0;32m    417\u001b[0m             \u001b[38;5;124mf\u001b[39m\u001b[38;5;124m\"\u001b[39m\u001b[38;5;124mThis \u001b[39m\u001b[38;5;132;01m{\u001b[39;00m\u001b[38;5;28mself\u001b[39m\u001b[38;5;241m.\u001b[39m\u001b[38;5;18m__class__\u001b[39m\u001b[38;5;241m.\u001b[39m\u001b[38;5;18m__name__\u001b[39m\u001b[38;5;132;01m}\u001b[39;00m\u001b[38;5;124m estimator \u001b[39m\u001b[38;5;124m\"\u001b[39m\n\u001b[0;32m    418\u001b[0m             \u001b[38;5;124mf\u001b[39m\u001b[38;5;124m\"\u001b[39m\u001b[38;5;124mrequires y to be passed, but the target y is None.\u001b[39m\u001b[38;5;124m\"\u001b[39m\n\u001b[0;32m    419\u001b[0m         )\n\u001b[1;32m--> 420\u001b[0m     X \u001b[38;5;241m=\u001b[39m \u001b[43mcheck_array\u001b[49m\u001b[43m(\u001b[49m\u001b[43mX\u001b[49m\u001b[43m,\u001b[49m\u001b[43m \u001b[49m\u001b[38;5;241;43m*\u001b[39;49m\u001b[38;5;241;43m*\u001b[39;49m\u001b[43mcheck_params\u001b[49m\u001b[43m)\u001b[49m\n\u001b[0;32m    421\u001b[0m     out \u001b[38;5;241m=\u001b[39m X\n\u001b[0;32m    422\u001b[0m \u001b[38;5;28;01melse\u001b[39;00m:\n",
      "File \u001b[1;32m~\\anaconda3\\envs\\pycaret\\lib\\site-packages\\sklearn\\utils\\validation.py:72\u001b[0m, in \u001b[0;36m_deprecate_positional_args.<locals>.inner_f\u001b[1;34m(*args, **kwargs)\u001b[0m\n\u001b[0;32m     67\u001b[0m     warnings\u001b[38;5;241m.\u001b[39mwarn(\u001b[38;5;124m\"\u001b[39m\u001b[38;5;124mPass \u001b[39m\u001b[38;5;132;01m{}\u001b[39;00m\u001b[38;5;124m as keyword args. From version 0.25 \u001b[39m\u001b[38;5;124m\"\u001b[39m\n\u001b[0;32m     68\u001b[0m                   \u001b[38;5;124m\"\u001b[39m\u001b[38;5;124mpassing these as positional arguments will \u001b[39m\u001b[38;5;124m\"\u001b[39m\n\u001b[0;32m     69\u001b[0m                   \u001b[38;5;124m\"\u001b[39m\u001b[38;5;124mresult in an error\u001b[39m\u001b[38;5;124m\"\u001b[39m\u001b[38;5;241m.\u001b[39mformat(\u001b[38;5;124m\"\u001b[39m\u001b[38;5;124m, \u001b[39m\u001b[38;5;124m\"\u001b[39m\u001b[38;5;241m.\u001b[39mjoin(args_msg)),\n\u001b[0;32m     70\u001b[0m                   \u001b[38;5;167;01mFutureWarning\u001b[39;00m)\n\u001b[0;32m     71\u001b[0m kwargs\u001b[38;5;241m.\u001b[39mupdate({k: arg \u001b[38;5;28;01mfor\u001b[39;00m k, arg \u001b[38;5;129;01min\u001b[39;00m \u001b[38;5;28mzip\u001b[39m(sig\u001b[38;5;241m.\u001b[39mparameters, args)})\n\u001b[1;32m---> 72\u001b[0m \u001b[38;5;28;01mreturn\u001b[39;00m \u001b[43mf\u001b[49m\u001b[43m(\u001b[49m\u001b[38;5;241;43m*\u001b[39;49m\u001b[38;5;241;43m*\u001b[39;49m\u001b[43mkwargs\u001b[49m\u001b[43m)\u001b[49m\n",
      "File \u001b[1;32m~\\anaconda3\\envs\\pycaret\\lib\\site-packages\\sklearn\\utils\\validation.py:598\u001b[0m, in \u001b[0;36mcheck_array\u001b[1;34m(array, accept_sparse, accept_large_sparse, dtype, order, copy, force_all_finite, ensure_2d, allow_nd, ensure_min_samples, ensure_min_features, estimator)\u001b[0m\n\u001b[0;32m    596\u001b[0m         array \u001b[38;5;241m=\u001b[39m array\u001b[38;5;241m.\u001b[39mastype(dtype, casting\u001b[38;5;241m=\u001b[39m\u001b[38;5;124m\"\u001b[39m\u001b[38;5;124munsafe\u001b[39m\u001b[38;5;124m\"\u001b[39m, copy\u001b[38;5;241m=\u001b[39m\u001b[38;5;28;01mFalse\u001b[39;00m)\n\u001b[0;32m    597\u001b[0m     \u001b[38;5;28;01melse\u001b[39;00m:\n\u001b[1;32m--> 598\u001b[0m         array \u001b[38;5;241m=\u001b[39m \u001b[43mnp\u001b[49m\u001b[38;5;241;43m.\u001b[39;49m\u001b[43masarray\u001b[49m\u001b[43m(\u001b[49m\u001b[43marray\u001b[49m\u001b[43m,\u001b[49m\u001b[43m \u001b[49m\u001b[43morder\u001b[49m\u001b[38;5;241;43m=\u001b[39;49m\u001b[43morder\u001b[49m\u001b[43m,\u001b[49m\u001b[43m \u001b[49m\u001b[43mdtype\u001b[49m\u001b[38;5;241;43m=\u001b[39;49m\u001b[43mdtype\u001b[49m\u001b[43m)\u001b[49m\n\u001b[0;32m    599\u001b[0m \u001b[38;5;28;01mexcept\u001b[39;00m ComplexWarning:\n\u001b[0;32m    600\u001b[0m     \u001b[38;5;28;01mraise\u001b[39;00m \u001b[38;5;167;01mValueError\u001b[39;00m(\u001b[38;5;124m\"\u001b[39m\u001b[38;5;124mComplex data not supported\u001b[39m\u001b[38;5;130;01m\\n\u001b[39;00m\u001b[38;5;124m\"\u001b[39m\n\u001b[0;32m    601\u001b[0m                      \u001b[38;5;124m\"\u001b[39m\u001b[38;5;132;01m{}\u001b[39;00m\u001b[38;5;130;01m\\n\u001b[39;00m\u001b[38;5;124m\"\u001b[39m\u001b[38;5;241m.\u001b[39mformat(array))\n",
      "File \u001b[1;32m~\\anaconda3\\envs\\pycaret\\lib\\site-packages\\numpy\\core\\_asarray.py:102\u001b[0m, in \u001b[0;36masarray\u001b[1;34m(a, dtype, order, like)\u001b[0m\n\u001b[0;32m     99\u001b[0m \u001b[38;5;28;01mif\u001b[39;00m like \u001b[38;5;129;01mis\u001b[39;00m \u001b[38;5;129;01mnot\u001b[39;00m \u001b[38;5;28;01mNone\u001b[39;00m:\n\u001b[0;32m    100\u001b[0m     \u001b[38;5;28;01mreturn\u001b[39;00m _asarray_with_like(a, dtype\u001b[38;5;241m=\u001b[39mdtype, order\u001b[38;5;241m=\u001b[39morder, like\u001b[38;5;241m=\u001b[39mlike)\n\u001b[1;32m--> 102\u001b[0m \u001b[38;5;28;01mreturn\u001b[39;00m \u001b[43marray\u001b[49m\u001b[43m(\u001b[49m\u001b[43ma\u001b[49m\u001b[43m,\u001b[49m\u001b[43m \u001b[49m\u001b[43mdtype\u001b[49m\u001b[43m,\u001b[49m\u001b[43m \u001b[49m\u001b[43mcopy\u001b[49m\u001b[38;5;241;43m=\u001b[39;49m\u001b[38;5;28;43;01mFalse\u001b[39;49;00m\u001b[43m,\u001b[49m\u001b[43m \u001b[49m\u001b[43morder\u001b[49m\u001b[38;5;241;43m=\u001b[39;49m\u001b[43morder\u001b[49m\u001b[43m)\u001b[49m\n",
      "File \u001b[1;32m~\\anaconda3\\envs\\pycaret\\lib\\site-packages\\pandas\\core\\generic.py:2064\u001b[0m, in \u001b[0;36mNDFrame.__array__\u001b[1;34m(self, dtype)\u001b[0m\n\u001b[0;32m   2063\u001b[0m \u001b[38;5;28;01mdef\u001b[39;00m \u001b[38;5;21m__array__\u001b[39m(\u001b[38;5;28mself\u001b[39m, dtype: npt\u001b[38;5;241m.\u001b[39mDTypeLike \u001b[38;5;241m|\u001b[39m \u001b[38;5;28;01mNone\u001b[39;00m \u001b[38;5;241m=\u001b[39m \u001b[38;5;28;01mNone\u001b[39;00m) \u001b[38;5;241m-\u001b[39m\u001b[38;5;241m>\u001b[39m np\u001b[38;5;241m.\u001b[39mndarray:\n\u001b[1;32m-> 2064\u001b[0m     \u001b[38;5;28;01mreturn\u001b[39;00m np\u001b[38;5;241m.\u001b[39masarray(\u001b[38;5;28;43mself\u001b[39;49m\u001b[38;5;241;43m.\u001b[39;49m\u001b[43m_values\u001b[49m, dtype\u001b[38;5;241m=\u001b[39mdtype)\n",
      "File \u001b[1;32m~\\anaconda3\\envs\\pycaret\\lib\\site-packages\\pandas\\core\\frame.py:905\u001b[0m, in \u001b[0;36mDataFrame._values\u001b[1;34m(self)\u001b[0m\n\u001b[0;32m    898\u001b[0m \u001b[38;5;129m@property\u001b[39m\n\u001b[0;32m    899\u001b[0m \u001b[38;5;28;01mdef\u001b[39;00m \u001b[38;5;21m_values\u001b[39m(  \u001b[38;5;66;03m# type: ignore[override]\u001b[39;00m\n\u001b[0;32m    900\u001b[0m     \u001b[38;5;28mself\u001b[39m,\n\u001b[0;32m    901\u001b[0m ) \u001b[38;5;241m-\u001b[39m\u001b[38;5;241m>\u001b[39m np\u001b[38;5;241m.\u001b[39mndarray \u001b[38;5;241m|\u001b[39m DatetimeArray \u001b[38;5;241m|\u001b[39m TimedeltaArray:\n\u001b[0;32m    902\u001b[0m     \u001b[38;5;124;03m\"\"\"\u001b[39;00m\n\u001b[0;32m    903\u001b[0m \u001b[38;5;124;03m    Analogue to ._values that may return a 2D ExtensionArray.\u001b[39;00m\n\u001b[0;32m    904\u001b[0m \u001b[38;5;124;03m    \"\"\"\u001b[39;00m\n\u001b[1;32m--> 905\u001b[0m     \u001b[38;5;28;43mself\u001b[39;49m\u001b[38;5;241;43m.\u001b[39;49m\u001b[43m_consolidate_inplace\u001b[49m\u001b[43m(\u001b[49m\u001b[43m)\u001b[49m\n\u001b[0;32m    907\u001b[0m     mgr \u001b[38;5;241m=\u001b[39m \u001b[38;5;28mself\u001b[39m\u001b[38;5;241m.\u001b[39m_mgr\n\u001b[0;32m    909\u001b[0m     \u001b[38;5;28;01mif\u001b[39;00m \u001b[38;5;28misinstance\u001b[39m(mgr, ArrayManager):\n",
      "File \u001b[1;32m~\\anaconda3\\envs\\pycaret\\lib\\site-packages\\pandas\\core\\generic.py:5653\u001b[0m, in \u001b[0;36mNDFrame._consolidate_inplace\u001b[1;34m(self)\u001b[0m\n\u001b[0;32m   5650\u001b[0m \u001b[38;5;28;01mdef\u001b[39;00m \u001b[38;5;21mf\u001b[39m():\n\u001b[0;32m   5651\u001b[0m     \u001b[38;5;28mself\u001b[39m\u001b[38;5;241m.\u001b[39m_mgr \u001b[38;5;241m=\u001b[39m \u001b[38;5;28mself\u001b[39m\u001b[38;5;241m.\u001b[39m_mgr\u001b[38;5;241m.\u001b[39mconsolidate()\n\u001b[1;32m-> 5653\u001b[0m \u001b[38;5;28;43mself\u001b[39;49m\u001b[38;5;241;43m.\u001b[39;49m\u001b[43m_protect_consolidate\u001b[49m\u001b[43m(\u001b[49m\u001b[43mf\u001b[49m\u001b[43m)\u001b[49m\n",
      "File \u001b[1;32m~\\anaconda3\\envs\\pycaret\\lib\\site-packages\\pandas\\core\\generic.py:5641\u001b[0m, in \u001b[0;36mNDFrame._protect_consolidate\u001b[1;34m(self, f)\u001b[0m\n\u001b[0;32m   5639\u001b[0m     \u001b[38;5;28;01mreturn\u001b[39;00m f()\n\u001b[0;32m   5640\u001b[0m blocks_before \u001b[38;5;241m=\u001b[39m \u001b[38;5;28mlen\u001b[39m(\u001b[38;5;28mself\u001b[39m\u001b[38;5;241m.\u001b[39m_mgr\u001b[38;5;241m.\u001b[39mblocks)\n\u001b[1;32m-> 5641\u001b[0m result \u001b[38;5;241m=\u001b[39m \u001b[43mf\u001b[49m\u001b[43m(\u001b[49m\u001b[43m)\u001b[49m\n\u001b[0;32m   5642\u001b[0m \u001b[38;5;28;01mif\u001b[39;00m \u001b[38;5;28mlen\u001b[39m(\u001b[38;5;28mself\u001b[39m\u001b[38;5;241m.\u001b[39m_mgr\u001b[38;5;241m.\u001b[39mblocks) \u001b[38;5;241m!=\u001b[39m blocks_before:\n\u001b[0;32m   5643\u001b[0m     \u001b[38;5;28mself\u001b[39m\u001b[38;5;241m.\u001b[39m_clear_item_cache()\n",
      "File \u001b[1;32m~\\anaconda3\\envs\\pycaret\\lib\\site-packages\\pandas\\core\\generic.py:5651\u001b[0m, in \u001b[0;36mNDFrame._consolidate_inplace.<locals>.f\u001b[1;34m()\u001b[0m\n\u001b[0;32m   5650\u001b[0m \u001b[38;5;28;01mdef\u001b[39;00m \u001b[38;5;21mf\u001b[39m():\n\u001b[1;32m-> 5651\u001b[0m     \u001b[38;5;28mself\u001b[39m\u001b[38;5;241m.\u001b[39m_mgr \u001b[38;5;241m=\u001b[39m \u001b[38;5;28;43mself\u001b[39;49m\u001b[38;5;241;43m.\u001b[39;49m\u001b[43m_mgr\u001b[49m\u001b[38;5;241;43m.\u001b[39;49m\u001b[43mconsolidate\u001b[49m\u001b[43m(\u001b[49m\u001b[43m)\u001b[49m\n",
      "File \u001b[1;32m~\\anaconda3\\envs\\pycaret\\lib\\site-packages\\pandas\\core\\internals\\managers.py:631\u001b[0m, in \u001b[0;36mBaseBlockManager.consolidate\u001b[1;34m(self)\u001b[0m\n\u001b[0;32m    629\u001b[0m bm \u001b[38;5;241m=\u001b[39m \u001b[38;5;28mtype\u001b[39m(\u001b[38;5;28mself\u001b[39m)(\u001b[38;5;28mself\u001b[39m\u001b[38;5;241m.\u001b[39mblocks, \u001b[38;5;28mself\u001b[39m\u001b[38;5;241m.\u001b[39maxes, verify_integrity\u001b[38;5;241m=\u001b[39m\u001b[38;5;28;01mFalse\u001b[39;00m)\n\u001b[0;32m    630\u001b[0m bm\u001b[38;5;241m.\u001b[39m_is_consolidated \u001b[38;5;241m=\u001b[39m \u001b[38;5;28;01mFalse\u001b[39;00m\n\u001b[1;32m--> 631\u001b[0m \u001b[43mbm\u001b[49m\u001b[38;5;241;43m.\u001b[39;49m\u001b[43m_consolidate_inplace\u001b[49m\u001b[43m(\u001b[49m\u001b[43m)\u001b[49m\n\u001b[0;32m    632\u001b[0m \u001b[38;5;28;01mreturn\u001b[39;00m bm\n",
      "File \u001b[1;32m~\\anaconda3\\envs\\pycaret\\lib\\site-packages\\pandas\\core\\internals\\managers.py:1699\u001b[0m, in \u001b[0;36mBlockManager._consolidate_inplace\u001b[1;34m(self)\u001b[0m\n\u001b[0;32m   1693\u001b[0m \u001b[38;5;28;01mdef\u001b[39;00m \u001b[38;5;21m_consolidate_inplace\u001b[39m(\u001b[38;5;28mself\u001b[39m) \u001b[38;5;241m-\u001b[39m\u001b[38;5;241m>\u001b[39m \u001b[38;5;28;01mNone\u001b[39;00m:\n\u001b[0;32m   1694\u001b[0m     \u001b[38;5;66;03m# In general, _consolidate_inplace should only be called via\u001b[39;00m\n\u001b[0;32m   1695\u001b[0m     \u001b[38;5;66;03m#  DataFrame._consolidate_inplace, otherwise we will fail to invalidate\u001b[39;00m\n\u001b[0;32m   1696\u001b[0m     \u001b[38;5;66;03m#  the DataFrame's _item_cache. The exception is for newly-created\u001b[39;00m\n\u001b[0;32m   1697\u001b[0m     \u001b[38;5;66;03m#  BlockManager objects not yet attached to a DataFrame.\u001b[39;00m\n\u001b[0;32m   1698\u001b[0m     \u001b[38;5;28;01mif\u001b[39;00m \u001b[38;5;129;01mnot\u001b[39;00m \u001b[38;5;28mself\u001b[39m\u001b[38;5;241m.\u001b[39mis_consolidated():\n\u001b[1;32m-> 1699\u001b[0m         \u001b[38;5;28mself\u001b[39m\u001b[38;5;241m.\u001b[39mblocks \u001b[38;5;241m=\u001b[39m \u001b[38;5;28mtuple\u001b[39m(\u001b[43m_consolidate\u001b[49m\u001b[43m(\u001b[49m\u001b[38;5;28;43mself\u001b[39;49m\u001b[38;5;241;43m.\u001b[39;49m\u001b[43mblocks\u001b[49m\u001b[43m)\u001b[49m)\n\u001b[0;32m   1700\u001b[0m         \u001b[38;5;28mself\u001b[39m\u001b[38;5;241m.\u001b[39m_is_consolidated \u001b[38;5;241m=\u001b[39m \u001b[38;5;28;01mTrue\u001b[39;00m\n\u001b[0;32m   1701\u001b[0m         \u001b[38;5;28mself\u001b[39m\u001b[38;5;241m.\u001b[39m_known_consolidated \u001b[38;5;241m=\u001b[39m \u001b[38;5;28;01mTrue\u001b[39;00m\n",
      "File \u001b[1;32m~\\anaconda3\\envs\\pycaret\\lib\\site-packages\\pandas\\core\\internals\\managers.py:2098\u001b[0m, in \u001b[0;36m_consolidate\u001b[1;34m(blocks)\u001b[0m\n\u001b[0;32m   2096\u001b[0m new_blocks: \u001b[38;5;28mlist\u001b[39m[Block] \u001b[38;5;241m=\u001b[39m []\n\u001b[0;32m   2097\u001b[0m \u001b[38;5;28;01mfor\u001b[39;00m (_can_consolidate, dtype), group_blocks \u001b[38;5;129;01min\u001b[39;00m grouper:\n\u001b[1;32m-> 2098\u001b[0m     merged_blocks \u001b[38;5;241m=\u001b[39m \u001b[43m_merge_blocks\u001b[49m\u001b[43m(\u001b[49m\n\u001b[0;32m   2099\u001b[0m \u001b[43m        \u001b[49m\u001b[38;5;28;43mlist\u001b[39;49m\u001b[43m(\u001b[49m\u001b[43mgroup_blocks\u001b[49m\u001b[43m)\u001b[49m\u001b[43m,\u001b[49m\u001b[43m \u001b[49m\u001b[43mdtype\u001b[49m\u001b[38;5;241;43m=\u001b[39;49m\u001b[43mdtype\u001b[49m\u001b[43m,\u001b[49m\u001b[43m \u001b[49m\u001b[43mcan_consolidate\u001b[49m\u001b[38;5;241;43m=\u001b[39;49m\u001b[43m_can_consolidate\u001b[49m\n\u001b[0;32m   2100\u001b[0m \u001b[43m    \u001b[49m\u001b[43m)\u001b[49m\n\u001b[0;32m   2101\u001b[0m     new_blocks \u001b[38;5;241m=\u001b[39m extend_blocks(merged_blocks, new_blocks)\n\u001b[0;32m   2102\u001b[0m \u001b[38;5;28;01mreturn\u001b[39;00m new_blocks\n",
      "File \u001b[1;32m~\\anaconda3\\envs\\pycaret\\lib\\site-packages\\pandas\\core\\internals\\managers.py:2132\u001b[0m, in \u001b[0;36m_merge_blocks\u001b[1;34m(blocks, dtype, can_consolidate)\u001b[0m\n\u001b[0;32m   2129\u001b[0m     new_values \u001b[38;5;241m=\u001b[39m bvals2[\u001b[38;5;241m0\u001b[39m]\u001b[38;5;241m.\u001b[39m_concat_same_type(bvals2, axis\u001b[38;5;241m=\u001b[39m\u001b[38;5;241m0\u001b[39m)\n\u001b[0;32m   2131\u001b[0m argsort \u001b[38;5;241m=\u001b[39m np\u001b[38;5;241m.\u001b[39margsort(new_mgr_locs)\n\u001b[1;32m-> 2132\u001b[0m new_values \u001b[38;5;241m=\u001b[39m \u001b[43mnew_values\u001b[49m\u001b[43m[\u001b[49m\u001b[43margsort\u001b[49m\u001b[43m]\u001b[49m\n\u001b[0;32m   2133\u001b[0m new_mgr_locs \u001b[38;5;241m=\u001b[39m new_mgr_locs[argsort]\n\u001b[0;32m   2135\u001b[0m bp \u001b[38;5;241m=\u001b[39m BlockPlacement(new_mgr_locs)\n",
      "\u001b[1;31mMemoryError\u001b[0m: Unable to allocate 23.4 GiB for an array with shape (5444, 1153800) and data type float32"
     ]
    }
   ],
   "source": [
    "kmeans = pc.create_model('kmeans')"
   ]
  },
  {
   "cell_type": "code",
   "execution_count": null,
   "id": "503a5df2-f21e-4773-b48b-92276c696665",
   "metadata": {},
   "outputs": [],
   "source": [
    "pc.evaluate_model('kmeans')"
   ]
  },
  {
   "cell_type": "code",
   "execution_count": null,
   "id": "e35f249f-735f-4cbf-aaf9-3c88b5210ab5",
   "metadata": {},
   "outputs": [],
   "source": []
  },
  {
   "cell_type": "code",
   "execution_count": null,
   "id": "2db4a1bf-2de8-457e-8881-845ebb16e7aa",
   "metadata": {},
   "outputs": [],
   "source": [
    "le = LabelEncoder()"
   ]
  },
  {
   "cell_type": "code",
   "execution_count": null,
   "id": "fc0053e6-4ca1-4904-8de9-1815919a984c",
   "metadata": {},
   "outputs": [],
   "source": [
    "kmeans = pc.create_model('kmeans')"
   ]
  },
  {
   "cell_type": "code",
   "execution_count": null,
   "id": "7b952e69-bfc5-4833-8f22-9b030f474111",
   "metadata": {},
   "outputs": [],
   "source": []
  },
  {
   "cell_type": "code",
   "execution_count": null,
   "id": "eff64f49-ea3e-4985-963d-c0cddc51101c",
   "metadata": {},
   "outputs": [],
   "source": []
  },
  {
   "cell_type": "code",
   "execution_count": null,
   "id": "1cd66dd3-ebd9-43c3-83e7-85db4e645006",
   "metadata": {},
   "outputs": [],
   "source": []
  },
  {
   "cell_type": "code",
   "execution_count": null,
   "id": "6d1f5ca4-009d-4d21-aa39-a76d7b592781",
   "metadata": {},
   "outputs": [],
   "source": []
  },
  {
   "cell_type": "code",
   "execution_count": null,
   "id": "efc4c376-b9b2-45d3-bdac-65160fc776cc",
   "metadata": {},
   "outputs": [],
   "source": []
  },
  {
   "cell_type": "code",
   "execution_count": null,
   "id": "8d006dda-d0b7-4acd-a17e-3c042e3ec481",
   "metadata": {},
   "outputs": [],
   "source": []
  },
  {
   "cell_type": "code",
   "execution_count": null,
   "id": "e98ca5b6-ac8c-46a2-aa9f-8cdb3667f7db",
   "metadata": {},
   "outputs": [],
   "source": []
  },
  {
   "cell_type": "markdown",
   "id": "0c472b1e-5694-4f17-9a32-09db97845c78",
   "metadata": {},
   "source": [
    "## Limpieza de datos\n",
    "---\n",
    "Revisa tipo de datos obtenido y los convertimos de corresponder"
   ]
  },
  {
   "cell_type": "code",
   "execution_count": null,
   "id": "61f1435f-97b3-4882-88b8-5d56e29f4e83",
   "metadata": {},
   "outputs": [],
   "source": [
    "df.describe()"
   ]
  },
  {
   "cell_type": "code",
   "execution_count": null,
   "id": "639a3028-f92a-4047-a218-9d133df76ebe",
   "metadata": {},
   "outputs": [],
   "source": [
    "df.dtypes"
   ]
  },
  {
   "cell_type": "code",
   "execution_count": null,
   "id": "949f61dc-e5b6-4cef-a2a9-cd0c4ed2ff93",
   "metadata": {},
   "outputs": [],
   "source": [
    "df['promo1_precio'].isnull()"
   ]
  },
  {
   "cell_type": "code",
   "execution_count": null,
   "id": "cee09f80-e205-4c22-8753-f51846bfbb39",
   "metadata": {},
   "outputs": [],
   "source": [
    "df['lat'] = df['lat'].astype('float64')\n",
    "df['lng'] = df['lng'].astype('float64')\n",
    "df['fecha'] = pd.to_datetime(df['fecha'])\n"
   ]
  },
  {
   "cell_type": "code",
   "execution_count": null,
   "id": "650f7821-a483-4ab3-bf64-227fbe74366f",
   "metadata": {},
   "outputs": [],
   "source": [
    "df.describe()"
   ]
  },
  {
   "cell_type": "code",
   "execution_count": null,
   "id": "021042ca-f85c-4749-93b2-f2d67015bbd1",
   "metadata": {},
   "outputs": [],
   "source": [
    "print(df['fecha'].min())\n",
    "print(df['fecha'].max())"
   ]
  },
  {
   "cell_type": "markdown",
   "id": "97141bb1-2440-4e03-8830-f14a203f61d1",
   "metadata": {},
   "source": [
    "## Metadata\n",
    "---\n",
    "Obtiene datos dólar blue a fin de realizar correlaciones\n",
    "\n",
    "Fuente https://www.ambito.com/contenidos/dolar-informal-historico.html 11/09/2022 14:25hs"
   ]
  },
  {
   "cell_type": "code",
   "execution_count": null,
   "id": "ae4f1da0-4a1d-49e1-ad61-4d473bc93047",
   "metadata": {},
   "outputs": [],
   "source": [
    "import datetime\n",
    "import matplotlib.pyplot as plt"
   ]
  },
  {
   "cell_type": "code",
   "execution_count": null,
   "id": "d47753ff-8df5-436c-8edc-7edd01055a50",
   "metadata": {},
   "outputs": [],
   "source": [
    "df_dolar = pd.read_excel('./data/Dolar_Blue.xlsx')\n",
    "df_dolar.head()"
   ]
  },
  {
   "cell_type": "code",
   "execution_count": null,
   "id": "bad36269-683a-4836-88a6-90f6ba24da97",
   "metadata": {},
   "outputs": [],
   "source": [
    "x = df_dolar['fecha']\n",
    "y = df_dolar['promedio']\n",
    "plt.plot(x,y)\n",
    "plt.xticks(rotation=90)"
   ]
  },
  {
   "cell_type": "code",
   "execution_count": null,
   "id": "aaa8ddf9-18b9-4e16-905a-6e26b21fb948",
   "metadata": {},
   "outputs": [],
   "source": [
    "df_dolar.info()"
   ]
  },
  {
   "cell_type": "code",
   "execution_count": null,
   "id": "25648c62-3d7a-465f-be4d-8d0c88aa95ca",
   "metadata": {},
   "outputs": [],
   "source": [
    "df_dolar['fecha']"
   ]
  },
  {
   "cell_type": "code",
   "execution_count": null,
   "id": "0abcc3c0-f6fd-4f1a-98f2-8073763bd07f",
   "metadata": {},
   "outputs": [],
   "source": [
    "#Completamos valores de sábado y domingo con el valor del día anterior\n",
    "df_dolar = (df_dolar.set_index('fecha')\n",
    "      .reindex(pd.date_range('2022-06-10', '2022-09-09', freq='D'))\n",
    "      .rename_axis(['fecha'])\n",
    "      .fillna(method='ffill')\n",
    "      .reset_index())"
   ]
  },
  {
   "cell_type": "code",
   "execution_count": null,
   "id": "d35febac-7486-4d72-a2b6-ed43216be492",
   "metadata": {},
   "outputs": [],
   "source": [
    "df_dolar['fecha']"
   ]
  },
  {
   "cell_type": "code",
   "execution_count": null,
   "id": "a6238045-611b-4222-9a9f-e8a1f6f199b0",
   "metadata": {},
   "outputs": [],
   "source": [
    "df_dolar.head()"
   ]
  },
  {
   "cell_type": "code",
   "execution_count": null,
   "id": "0e94c455-1a8e-4473-9bf2-a190ac4e1a5d",
   "metadata": {
    "tags": []
   },
   "outputs": [],
   "source": [
    "x = df_dolar['fecha']\n",
    "y = df_dolar['promedio']\n",
    "plt.plot(x,y)\n",
    "plt.xticks(rotation=90)"
   ]
  },
  {
   "cell_type": "markdown",
   "id": "92b1fde3-55ec-4292-9197-97924d9c40d6",
   "metadata": {
    "tags": []
   },
   "source": [
    "# Árbol de decisión\n",
    "---\n",
    "\n",
    "Árbol de decisión para encontrar fecha prevista de aumento de precios"
   ]
  },
  {
   "cell_type": "code",
   "execution_count": null,
   "id": "3417927c-c749-4257-9bd3-4fca0cbc2291",
   "metadata": {},
   "outputs": [],
   "source": [
    "import numpy\n",
    "from sklearn.metrics import r2_score"
   ]
  },
  {
   "cell_type": "code",
   "execution_count": null,
   "id": "f703061e-d6f0-457f-8f49-0b594bc697f8",
   "metadata": {},
   "outputs": [],
   "source": [
    "lista = []\n",
    "lista = df['marca'].unique()\n",
    "\n",
    "print(lista)"
   ]
  },
  {
   "cell_type": "code",
   "execution_count": null,
   "id": "ab553d07-8871-470d-834d-4874718bcba0",
   "metadata": {},
   "outputs": [],
   "source": [
    "df.keys()"
   ]
  },
  {
   "cell_type": "code",
   "execution_count": null,
   "id": "427e0199-9efe-45c8-a3c9-6b1d37f391be",
   "metadata": {},
   "outputs": [],
   "source": [
    "df_suc = df[df['sucursalnombre']=='Trelew']"
   ]
  },
  {
   "cell_type": "code",
   "execution_count": null,
   "id": "60f0dc98-4ead-4466-a50a-f3c4d569d132",
   "metadata": {},
   "outputs": [],
   "source": [
    "df_suc.head()"
   ]
  },
  {
   "cell_type": "code",
   "execution_count": null,
   "id": "e1a4b474-ce8d-4cc2-9b33-72792c42de96",
   "metadata": {},
   "outputs": [],
   "source": [
    "#Datos del dataset\n",
    "print(\"size:\"+str(df_suc.size))\n",
    "print(\"shape:\"+str(df_suc.shape))"
   ]
  },
  {
   "cell_type": "code",
   "execution_count": null,
   "id": "88b457e0-695f-47ca-a1f7-5613dcf48b0a",
   "metadata": {},
   "outputs": [],
   "source": [
    "#Vemos registros de cada uno de los datos\n",
    "for marca in lista:\n",
    "    df_temp = df_suc[df_suc['marca']==marca]\n",
    "    print(marca+\" shape: \"+str(df_temp.shape))"
   ]
  },
  {
   "cell_type": "code",
   "execution_count": null,
   "id": "87a7c232-db4e-43d8-adea-fcbdaf733c88",
   "metadata": {},
   "outputs": [],
   "source": [
    "#Tomo la yerba taragui para predecir \n",
    "df_t = df_suc[df_suc['marca']=='TARAGUI']\n",
    "df_t = df_t[df_t['comercioid']=='10']\n",
    "df_t.head()"
   ]
  },
  {
   "cell_type": "code",
   "execution_count": null,
   "id": "35de2009-28c6-409a-bd48-e69c294df1cb",
   "metadata": {},
   "outputs": [],
   "source": [
    "df_t.shape"
   ]
  },
  {
   "cell_type": "code",
   "execution_count": null,
   "id": "11cb9e96-4741-4d41-b162-c5f2e04e3f1c",
   "metadata": {
    "tags": []
   },
   "outputs": [],
   "source": [
    "#Ordeno por fecha\n",
    "df_t = df_t.sort_values(by='fecha')"
   ]
  },
  {
   "cell_type": "code",
   "execution_count": null,
   "id": "06fce425-f3c1-405e-a989-561eba6ca1a0",
   "metadata": {},
   "outputs": [],
   "source": [
    "#Redondeo variable precio de lista y agrego feature aumento\n",
    "df_t['preciolista']=df_t['preciolista'].round(2)\n",
    "\n",
    "df_t['aumento'] = (df_t['preciolista'].shift()!=df_t['preciolista'])"
   ]
  },
  {
   "cell_type": "code",
   "execution_count": null,
   "id": "d7d2ef7a-40c0-4de1-9427-4d91a10714fb",
   "metadata": {},
   "outputs": [],
   "source": [
    "df_t.head()"
   ]
  },
  {
   "cell_type": "code",
   "execution_count": null,
   "id": "48692c1e-7d5e-48cf-a03a-1624a6f95ab4",
   "metadata": {},
   "outputs": [],
   "source": [
    "df.keys()"
   ]
  },
  {
   "cell_type": "code",
   "execution_count": null,
   "id": "42bd51ba-3c0a-413e-b2ee-1732a259bb4a",
   "metadata": {},
   "outputs": [],
   "source": [
    "l_marcas = []\n",
    "l_marcas = df['marca'].unique()\n",
    "\n",
    "l_suc = []\n",
    "l_suc = df['sucursalnombre'].unique()\n",
    "\n",
    "l_comercioid = []\n",
    "l_comercioid = df['comercioid'].unique()\n",
    "\n",
    "\n",
    "print(l_marcas)\n",
    "\n",
    "print(l_suc)\n",
    "\n",
    "print(l_comercioid)"
   ]
  },
  {
   "cell_type": "code",
   "execution_count": null,
   "id": "10231d59-8954-43b1-8d74-07e0582cc8b0",
   "metadata": {},
   "outputs": [],
   "source": [
    "df2 = df.sort_values(['marca', 'sucursalnombre','comercioid','fecha'],\n",
    "              ascending = [True, True, True, True])"
   ]
  },
  {
   "cell_type": "code",
   "execution_count": null,
   "id": "0e63fa28-569d-4dd3-ab7e-599e319979e2",
   "metadata": {},
   "outputs": [],
   "source": [
    "df2.head()"
   ]
  },
  {
   "cell_type": "code",
   "execution_count": null,
   "id": "4efd86ec-c98d-4e19-acdb-2c974f6e8e42",
   "metadata": {},
   "outputs": [],
   "source": [
    "df2.head()"
   ]
  },
  {
   "cell_type": "markdown",
   "id": "2c33b6eb-052b-4ca9-b21c-a95eff530a85",
   "metadata": {},
   "source": [
    "# Test"
   ]
  },
  {
   "cell_type": "code",
   "execution_count": null,
   "id": "6384e62f-11ed-4212-8758-19cf7801c5ab",
   "metadata": {},
   "outputs": [],
   "source": [
    "df2['var_precio_lista'] = (df2['preciolista'].shift()!=df2['preciolista'])\n",
    "df2.head(3)"
   ]
  },
  {
   "cell_type": "markdown",
   "id": "9fe22614-4270-4592-bc07-085a4a282544",
   "metadata": {},
   "source": [
    "# Comenzamos el arbol"
   ]
  },
  {
   "cell_type": "code",
   "execution_count": null,
   "id": "d5f64702-63f1-4f2a-85e6-84d8150586cf",
   "metadata": {},
   "outputs": [],
   "source": [
    "import numpy as np\n",
    "import pandas as pd\n",
    "from sklearn.model_selection import train_test_split\n",
    "from sklearn.tree import DecisionTreeClassifier, export_graphviz, DecisionTreeRegressor, plot_tree\n",
    "from sklearn.ensemble import RandomForestRegressor, GradientBoostingRegressor\n",
    "from sklearn.metrics import confusion_matrix, accuracy_score, mean_squared_error\n",
    "from sklearn import tree\n",
    "import matplotlib.pyplot as plt\n",
    "\n",
    "%matplotlib inline"
   ]
  },
  {
   "cell_type": "code",
   "execution_count": null,
   "id": "066866fc-91bf-4954-a2ec-fdae12f613f8",
   "metadata": {},
   "outputs": [],
   "source": [
    "df2.keys()"
   ]
  },
  {
   "cell_type": "code",
   "execution_count": null,
   "id": "3e676cb5-50c6-4d59-802d-926619f1a5c7",
   "metadata": {},
   "outputs": [],
   "source": [
    "df3 = df2.copy()"
   ]
  },
  {
   "cell_type": "code",
   "execution_count": null,
   "id": "1253fa6b-8d89-489b-830c-92eac4876b91",
   "metadata": {},
   "outputs": [],
   "source": [
    "df3.head(3)"
   ]
  },
  {
   "cell_type": "code",
   "execution_count": null,
   "id": "d0a0834d-1874-4f7e-885f-8c80e1426ada",
   "metadata": {},
   "outputs": [],
   "source": [
    "df3.shape"
   ]
  },
  {
   "cell_type": "code",
   "execution_count": null,
   "id": "a40daf35-6dd1-4ff9-9954-4d197e89b8fa",
   "metadata": {},
   "outputs": [],
   "source": [
    "df3['promo1_precio'].nunique()"
   ]
  },
  {
   "cell_type": "code",
   "execution_count": null,
   "id": "333d9269-aa51-4394-bf1b-3b680e8e4e65",
   "metadata": {},
   "outputs": [],
   "source": [
    "df3['promo2_precio'].nunique()"
   ]
  },
  {
   "cell_type": "code",
   "execution_count": null,
   "id": "cfa5cfa5-e21e-4263-a6bc-6d3edcc17aba",
   "metadata": {},
   "outputs": [],
   "source": [
    "df3.dtypes"
   ]
  },
  {
   "cell_type": "code",
   "execution_count": null,
   "id": "2f34c489-bf57-4970-a34a-14975033799f",
   "metadata": {},
   "outputs": [],
   "source": [
    "df3.keys()"
   ]
  },
  {
   "cell_type": "code",
   "execution_count": null,
   "id": "e05ab436-421e-4dc0-86ae-518689c76ec7",
   "metadata": {},
   "outputs": [],
   "source": [
    "df3 = df3.set_index('fecha')\n"
   ]
  },
  {
   "cell_type": "code",
   "execution_count": null,
   "id": "296aef27-11a1-47d9-8f63-2c6e9db09a9b",
   "metadata": {},
   "outputs": [],
   "source": [
    "pd.date_range(start = '2022-06-11', end = '2022-08-25').difference(df3.index)"
   ]
  },
  {
   "cell_type": "code",
   "execution_count": null,
   "id": "6246cd3a-5cd3-4bf6-9631-9167b13b3e19",
   "metadata": {},
   "outputs": [],
   "source": [
    "fechas_l = pd.date_range(start = '2022-06-11', end = '2022-08-25').difference(df3.index)"
   ]
  },
  {
   "cell_type": "code",
   "execution_count": null,
   "id": "1a54a3f3-9230-4dbf-b0bb-b37e5f2671e1",
   "metadata": {
    "tags": []
   },
   "outputs": [],
   "source": [
    "df3 = df3.reset_index('fecha')"
   ]
  },
  {
   "cell_type": "code",
   "execution_count": null,
   "id": "6fa93270-922f-486c-985f-7abc76b67e61",
   "metadata": {},
   "outputs": [],
   "source": [
    "for fecha in fechas_l:\n",
    "    fecha_falt = fecha\n",
    "    fecha_ant = fecha + timedelta(days=-1)\n",
    "    df3 = df3.set_index('fecha')\n",
    "    df_temp = df3.loc[fecha_ant]\n",
    "    df_temp.reset_index(inplace=True)\n",
    "    df_temp = df_temp.replace([fecha_ant],fecha)\n",
    "    df3 = df3.reset_index('fecha')\n",
    "    df3 = df3.append(df_temp)"
   ]
  },
  {
   "cell_type": "code",
   "execution_count": null,
   "id": "edc23c4a-4dd2-4880-963c-611f06068b24",
   "metadata": {
    "tags": []
   },
   "outputs": [],
   "source": [
    "#Prueba si trae datos\n",
    "df3.loc[df3['fecha']=='2022-08-02']"
   ]
  },
  {
   "cell_type": "code",
   "execution_count": null,
   "id": "f960800f-fff6-4f63-b14d-a798ed5b91c0",
   "metadata": {},
   "outputs": [],
   "source": [
    "#Reordeno DF\n",
    "df3 = df3.sort_values(['fecha'],\n",
    "              ascending = [True])"
   ]
  },
  {
   "cell_type": "code",
   "execution_count": null,
   "id": "2c8b7601-2f42-4208-b233-e7c08c437c4f",
   "metadata": {},
   "outputs": [],
   "source": [
    "df3.tail(2)"
   ]
  },
  {
   "cell_type": "markdown",
   "id": "e8fe3c30-7c92-48ed-aca6-af68bb9f281d",
   "metadata": {},
   "source": [
    "# Incorporacion features arbol"
   ]
  },
  {
   "cell_type": "code",
   "execution_count": null,
   "id": "6c1aa76f-779e-4fd1-a265-db425a5b5aa8",
   "metadata": {},
   "outputs": [],
   "source": [
    "df3['var_precio_lista'] = (df3['preciolista'].shift()!=df3['preciolista'])\n",
    "df3.head(3)"
   ]
  },
  {
   "cell_type": "code",
   "execution_count": null,
   "id": "d634383c-6e2a-429a-b6cf-ac50e1c3686b",
   "metadata": {},
   "outputs": [],
   "source": [
    "df3.var_precio_lista = df3.var_precio_lista.map({True:\"Si\",False:\"No\"})\n",
    "df3.head()"
   ]
  },
  {
   "cell_type": "code",
   "execution_count": null,
   "id": "592f7f11-775a-4412-ab3c-4ed025235a08",
   "metadata": {},
   "outputs": [],
   "source": [
    "df3.sucursalnombre = pd.factorize(df3.sucursalnombre)[0]\n"
   ]
  },
  {
   "cell_type": "code",
   "execution_count": null,
   "id": "b6dae949-033d-4cd4-ae54-a91b2baae32c",
   "metadata": {},
   "outputs": [],
   "source": [
    "df3.sucursaltipo = pd.factorize(df3.sucursaltipo)[0]"
   ]
  },
  {
   "cell_type": "code",
   "execution_count": null,
   "id": "c1d99993-2e10-4619-90f5-1e1a502db080",
   "metadata": {},
   "outputs": [],
   "source": [
    "df3.provincia = pd.factorize(df3.provincia)[0]"
   ]
  },
  {
   "cell_type": "code",
   "execution_count": null,
   "id": "b1b90620-f598-46ac-971f-d32af0c2d92c",
   "metadata": {},
   "outputs": [],
   "source": [
    "df3.banderadescripcion = pd.factorize(df3.banderadescripcion)[0]"
   ]
  },
  {
   "cell_type": "code",
   "execution_count": null,
   "id": "d2479423-8d3e-4b7b-b24f-1bf96a1b2ea5",
   "metadata": {},
   "outputs": [],
   "source": [
    "df3.localidad = pd.factorize(df3.localidad)[0]"
   ]
  },
  {
   "cell_type": "code",
   "execution_count": null,
   "id": "c1f1e392-ce29-4e94-b577-eb99efe165ba",
   "metadata": {},
   "outputs": [],
   "source": [
    "df3.comerciorazonsocial = pd.factorize(df3.comerciorazonsocial)[0]"
   ]
  },
  {
   "cell_type": "code",
   "execution_count": null,
   "id": "3025f882-edaf-4765-8b47-48e13859d4df",
   "metadata": {},
   "outputs": [],
   "source": [
    "df3.marca = pd.factorize(df3.marca)[0]"
   ]
  },
  {
   "cell_type": "code",
   "execution_count": null,
   "id": "0c1a3265-8ff7-43e3-bc89-750e8ebbfe86",
   "metadata": {},
   "outputs": [],
   "source": [
    "df3.fecha = df['fecha'].apply(lambda x: x.value)"
   ]
  },
  {
   "cell_type": "code",
   "execution_count": null,
   "id": "e8328706-fa64-4e4f-ae17-289f498c2b44",
   "metadata": {},
   "outputs": [],
   "source": [
    "df3['HayPromo1'] = np.where(df3['promo1_precio']>0,1,0)"
   ]
  },
  {
   "cell_type": "code",
   "execution_count": null,
   "id": "f25acc2d-528a-47b4-b5c7-5cdb8c277569",
   "metadata": {},
   "outputs": [],
   "source": [
    "df3['HayPromo2'] = np.where(df3['promo2_precio']>0,1,0)"
   ]
  },
  {
   "cell_type": "code",
   "execution_count": null,
   "id": "0a642112-4e98-4814-9a30-b83e2fba52c9",
   "metadata": {},
   "outputs": [],
   "source": [
    "df3.dtypes"
   ]
  },
  {
   "cell_type": "code",
   "execution_count": null,
   "id": "51fae55c-4413-4dc9-b433-b8ad6d598ab8",
   "metadata": {},
   "outputs": [],
   "source": [
    "df3.shape"
   ]
  },
  {
   "cell_type": "code",
   "execution_count": null,
   "id": "76e53204-400f-4485-ab17-5669f4a9faf8",
   "metadata": {},
   "outputs": [],
   "source": [
    "df3.head()"
   ]
  },
  {
   "cell_type": "code",
   "execution_count": null,
   "id": "12fdb405-cade-40a2-b95c-1495aa625481",
   "metadata": {},
   "outputs": [],
   "source": [
    "df3.keys()"
   ]
  },
  {
   "cell_type": "code",
   "execution_count": null,
   "id": "a07a020d-59c2-487f-8acf-51492d48b7bd",
   "metadata": {},
   "outputs": [],
   "source": [
    "df3.dtypes"
   ]
  },
  {
   "cell_type": "code",
   "execution_count": null,
   "id": "371f2993-0b76-4d7e-b056-d77efd5c2906",
   "metadata": {},
   "outputs": [],
   "source": [
    "for col in df3:\n",
    "    df3[col] = df3[col].fillna(0)"
   ]
  },
  {
   "cell_type": "code",
   "execution_count": null,
   "id": "dc5d91f2-a1fa-4fd8-9af8-1f230197a3b1",
   "metadata": {},
   "outputs": [],
   "source": [
    "df3.shape"
   ]
  },
  {
   "cell_type": "code",
   "execution_count": null,
   "id": "eb181016-e120-4cef-af50-103ba0459095",
   "metadata": {},
   "outputs": [],
   "source": [
    "# we first split the dataset into training (200 samples) and test sets.\n",
    "X = df3[[\"lat\",\"lng\",\"sucursalnombre\",\"sucursaltipo\",\"provincia\",\"preciolista\",\"banderadescripcion\",\"localidad\",\"comerciorazonsocial\",\"marca\",\"fecha\"]]\n",
    "y = df3.HayPromo1\n",
    "train_size = 1000000\n",
    "X_train, X_test, y_train, y_test = train_test_split(X, y, train_size=train_size, \n",
    "                                    test_size=X.shape[0]-train_size, random_state=0, shuffle=False)"
   ]
  },
  {
   "cell_type": "code",
   "execution_count": null,
   "id": "8c519e68-8cf9-4c8d-a9a7-ea18eb78d182",
   "metadata": {},
   "outputs": [],
   "source": [
    "X.head()"
   ]
  },
  {
   "cell_type": "code",
   "execution_count": null,
   "id": "b6408105-e89c-4589-bc6a-0b0d4620461d",
   "metadata": {},
   "outputs": [],
   "source": [
    "# to build a tree, we could use 'gini' or 'entropy' as split criterion at each node. \n",
    "# here we use an example use 'gini' and with a few other hyperparameters.\n",
    "criteria = \"gini\" \n",
    "max_depth = 6 \n",
    "min_sample_leaf = 4\n",
    "clf_gini = DecisionTreeClassifier(criterion=criteria, random_state=100,\n",
    "                                max_depth=max_depth, min_samples_leaf=min_sample_leaf)\n",
    "clf_gini.fit(X_train, y_train)\n",
    "print(clf_gini.score(X_train, y_train))"
   ]
  },
  {
   "cell_type": "code",
   "execution_count": null,
   "id": "6661a466-5e46-4fef-b6a1-a2c6896336c0",
   "metadata": {},
   "outputs": [],
   "source": [
    "import os\n",
    "path = os.getcwd()\n",
    "path\n"
   ]
  },
  {
   "cell_type": "code",
   "execution_count": null,
   "id": "56373998-018d-4790-941a-c467c08f3f31",
   "metadata": {},
   "outputs": [],
   "source": [
    "# one attractive feature of a tree is visulization. \n",
    "\n",
    "plt.figure(figsize=(160,80))  # customize according to the size of your tree\n",
    "plot_tree(clf_gini, feature_names = X_train.columns)\n",
    "plt.savefig(path+'/data/arbol_1.png',bbox_inches='tight')\n",
    "plt.show()\n"
   ]
  },
  {
   "cell_type": "code",
   "execution_count": null,
   "id": "fc072644-5921-4258-bade-94f4ac95a59d",
   "metadata": {},
   "outputs": [],
   "source": [
    "# let us build the confusion matrix to evaluate the model in accuracy for both training and test datasets.\n",
    "# we could also compute more metrics such as precision, recall, f1-score, etc.\n",
    "y_pred_train = clf_gini.predict(X_train)\n",
    "cm = pd.DataFrame(confusion_matrix(y_train, y_pred_train).T, index=['No', 'Yes'], columns=['No', 'Yes'])\n",
    "print(cm)\n",
    "print(\"Train Accuracy is \", accuracy_score(y_train,y_pred_train)*100)\n",
    "\n",
    "\n",
    "y_pred = clf_gini.predict(X_test)\n",
    "cm = pd.DataFrame(confusion_matrix(y_test, y_pred).T, index=['No', 'Yes'], columns=['No', 'Yes'])\n",
    "print(cm)\n",
    "print(\"Test Accuracy is \", accuracy_score(y_test,y_pred)*100)"
   ]
  },
  {
   "cell_type": "code",
   "execution_count": null,
   "id": "cd3b4f86-04dd-4637-8659-f1020cc8ebc0",
   "metadata": {},
   "outputs": [],
   "source": []
  },
  {
   "cell_type": "code",
   "execution_count": null,
   "id": "1725cab5-3980-43d5-8740-55f8ad75a201",
   "metadata": {},
   "outputs": [],
   "source": []
  },
  {
   "cell_type": "code",
   "execution_count": null,
   "id": "b7395fa6-51f3-4705-8a29-657744d2ef3d",
   "metadata": {},
   "outputs": [],
   "source": []
  },
  {
   "cell_type": "code",
   "execution_count": null,
   "id": "a682f401-aa2d-424f-9d40-ad60c162def9",
   "metadata": {},
   "outputs": [],
   "source": []
  },
  {
   "cell_type": "code",
   "execution_count": null,
   "id": "7f7b014f-69e5-4fbb-9cf9-abeab310583e",
   "metadata": {},
   "outputs": [],
   "source": []
  },
  {
   "cell_type": "code",
   "execution_count": null,
   "id": "9002b946-58b3-42f4-bf8b-49feecb3be60",
   "metadata": {},
   "outputs": [],
   "source": []
  },
  {
   "cell_type": "code",
   "execution_count": null,
   "id": "8f7bd26d-019a-420d-8cda-e7d2b7f4b9c8",
   "metadata": {},
   "outputs": [],
   "source": [
    "df_t.head()"
   ]
  },
  {
   "cell_type": "code",
   "execution_count": null,
   "id": "12e65411-5e77-42bf-97fd-855e74f2fa0b",
   "metadata": {},
   "outputs": [],
   "source": [
    "df_t.shape"
   ]
  },
  {
   "cell_type": "code",
   "execution_count": null,
   "id": "ae20f2cc-f617-4e1e-bfe9-b578cc5cbca4",
   "metadata": {},
   "outputs": [],
   "source": [
    "df_t.aumento = df_t.aumento.map({True:\"Si\",False:\"No\"})"
   ]
  },
  {
   "cell_type": "code",
   "execution_count": null,
   "id": "8c9c4b94-d305-463b-9a92-81588e70e1c2",
   "metadata": {},
   "outputs": [],
   "source": [
    "df_t.head()"
   ]
  },
  {
   "cell_type": "code",
   "execution_count": null,
   "id": "0cfb36ae-20ca-4fab-b853-4d9f84449b58",
   "metadata": {},
   "outputs": [],
   "source": [
    "# we first split the dataset into training (200 samples) and test sets.\n",
    "X = df_t[[\"preciolista\",\"comercioid\"]]\n",
    "y = df_t.aumento\n",
    "train_size = 50\n",
    "X_train, X_test, y_train, y_test = train_test_split(X, y, train_size=train_size, \n",
    "                                    test_size=X.shape[0]-train_size, random_state=0)"
   ]
  },
  {
   "cell_type": "code",
   "execution_count": null,
   "id": "09810f19-8559-4ed1-9bfe-6cbbd861be25",
   "metadata": {},
   "outputs": [],
   "source": [
    "# to build a tree, we could use 'gini' or 'entropy' as split criterion at each node. \n",
    "# here we use an example use 'gini' and with a few other hyperparameters.\n",
    "criteria = \"gini\" \n",
    "max_depth = 6 \n",
    "min_sample_leaf = 4\n",
    "clf_gini = DecisionTreeClassifier(criterion=criteria, random_state=100,\n",
    "                                max_depth=max_depth, min_samples_leaf=min_sample_leaf)\n",
    "clf_gini.fit(X_train, y_train)\n",
    "print(clf_gini.score(X_train, y_train))"
   ]
  },
  {
   "cell_type": "code",
   "execution_count": null,
   "id": "060685c9-7b41-44db-92eb-37cf07f80802",
   "metadata": {},
   "outputs": [],
   "source": [
    "# one attractive feature of a tree is visulization. \n",
    "plt.figure(figsize=(40,20))  # customize according to the size of your tree\n",
    "plot_tree(clf_gini, feature_names = X_train.columns)\n",
    "plt.show()"
   ]
  },
  {
   "cell_type": "code",
   "execution_count": null,
   "id": "eb380350-e7a8-464c-98f1-4a9cb7494017",
   "metadata": {},
   "outputs": [],
   "source": [
    "# let us build the confusion matrix to evaluate the model in accuracy for both training and test datasets.\n",
    "# we could also compute more metrics such as precision, recall, f1-score, etc.\n",
    "y_pred_train = clf_gini.predict(X_train)\n",
    "cm = pd.DataFrame(confusion_matrix(y_train, y_pred_train).T, index=['No', 'Yes'], columns=['No', 'Yes'])\n",
    "print(cm)\n",
    "print(\"Train Accuracy is \", accuracy_score(y_train,y_pred_train)*100)\n",
    "\n",
    "\n",
    "y_pred = clf_gini.predict(X_test)\n",
    "cm = pd.DataFrame(confusion_matrix(y_test, y_pred).T, index=['No', 'Yes'], columns=['No', 'Yes'])\n",
    "print(cm)\n",
    "print(\"Test Accuracy is \", accuracy_score(y_test,y_pred)*100)\n",
    "\n",
    "\"\"\"\n",
    "The test accuracy of our model is significant lower than our training result, this may indicate overfitting. \n",
    "we can go back and change the hyperparameters in the training process to reduce the dimension of the parameter space.\n",
    "\"\"\""
   ]
  },
  {
   "cell_type": "code",
   "execution_count": null,
   "id": "8a83fb1d-145b-4dd6-acbd-ccffaf9d0c18",
   "metadata": {},
   "outputs": [],
   "source": [
    "# we reused the previous train and test sets.\n",
    "all_features = X_train.shape[1]\n",
    "regr_bagging = RandomForestRegressor(max_features=all_features, random_state=1)\n",
    "regr_bagging.fit(X_train, y_train)"
   ]
  },
  {
   "cell_type": "code",
   "execution_count": null,
   "id": "1ef88882-707b-4937-adfa-652738c0b2fe",
   "metadata": {},
   "outputs": [],
   "source": []
  }
 ],
 "metadata": {
  "kernelspec": {
   "display_name": "Python 3 (ipykernel)",
   "language": "python",
   "name": "python3"
  },
  "language_info": {
   "codemirror_mode": {
    "name": "ipython",
    "version": 3
   },
   "file_extension": ".py",
   "mimetype": "text/x-python",
   "name": "python",
   "nbconvert_exporter": "python",
   "pygments_lexer": "ipython3",
   "version": "3.8.13"
  }
 },
 "nbformat": 4,
 "nbformat_minor": 5
}
