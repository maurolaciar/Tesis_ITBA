{
 "cells": [
  {
   "cell_type": "markdown",
   "id": "11ba446a-f525-4b02-960d-0a57b383fe38",
   "metadata": {},
   "source": [
    "# Estimaciones de precios\n",
    "\n",
    "---\n",
    "\n",
    "[Conexión con base de datos](##Conexión-con-base-de-datos)\n",
    "\n",
    "[Limpieza de datos](#Limpieza-de-datos)\n",
    "\n",
    "[Metadata](#Metadata)\n",
    "\n",
    "[Regresion lineal](#Regresión-lineal)"
   ]
  },
  {
   "cell_type": "markdown",
   "id": "67d29ef1-7135-4708-b489-9ed623fc6329",
   "metadata": {},
   "source": [
    "## Conexión con base de datos\n",
    "---\n",
    "Realiza la conexión con base de datos local que contiene datos históricos"
   ]
  },
  {
   "cell_type": "code",
   "execution_count": 1,
   "id": "b80ac528-a7bf-4a99-ab87-5ecb114f1e0e",
   "metadata": {},
   "outputs": [],
   "source": [
    "from matplotlib.font_manager import json_load\n",
    "import pandas as pd\n",
    "import json\n",
    "import os\n",
    "import psycopg2 as ps\n",
    "from datetime import date, datetime, timedelta\n",
    "# %%\n",
    "pd.set_option('display.max_columns', None)"
   ]
  },
  {
   "cell_type": "code",
   "execution_count": 2,
   "id": "52458742-70f3-43af-8070-501c455b29f4",
   "metadata": {},
   "outputs": [
    {
     "data": {
      "text/plain": [
       "'C:\\\\Users\\\\lacia\\\\OneDrive\\\\Documents\\\\10. TFI\\\\0. Labs'"
      ]
     },
     "execution_count": 2,
     "metadata": {},
     "output_type": "execute_result"
    }
   ],
   "source": [
    "os.getcwd()"
   ]
  },
  {
   "cell_type": "code",
   "execution_count": 3,
   "id": "e7ef29f3-4086-43dd-b5c5-a5e5451900f4",
   "metadata": {},
   "outputs": [],
   "source": [
    "#ps.connect(host=hostname,dbname=database,user=username,password=pwd,port=portid)\n",
    "def connect_to_db(host_name,db_name,port,username,password):\n",
    "    try:\n",
    "        conn = ps.connect(\n",
    "            host = hostname,\n",
    "            dbname = database,\n",
    "            user = username,\n",
    "            password = pwd,\n",
    "            port = portid\n",
    "        )\n",
    "    except ps.OperationalError as e:\n",
    "        raise e\n",
    "    else:\n",
    "        print(\"Connected!\")\n",
    "    return conn\n"
   ]
  },
  {
   "cell_type": "code",
   "execution_count": 4,
   "id": "8d1394a5-d814-4cde-995f-d472d8cd4644",
   "metadata": {},
   "outputs": [],
   "source": [
    "# %%\n",
    "#Parametros para conectarnos a la base de datos\n",
    "hostname = \"localhost\"\n",
    "database = 'precios_clarosdb'\n",
    "username = 'postgres'\n",
    "pwd = 'postgres'\n",
    "portid = 5432\n",
    "#conn = None\n",
    "#cur = None\n",
    "\n"
   ]
  },
  {
   "cell_type": "code",
   "execution_count": 5,
   "id": "a8bb526f-748d-49b8-ac37-555625eb0122",
   "metadata": {},
   "outputs": [
    {
     "name": "stdout",
     "output_type": "stream",
     "text": [
      "Connected!\n"
     ]
    }
   ],
   "source": [
    "conn = connect_to_db(hostname,database,portid,username,pwd)"
   ]
  },
  {
   "cell_type": "code",
   "execution_count": 6,
   "id": "08e213ff-7dd5-467d-af9e-fd95800168fd",
   "metadata": {},
   "outputs": [],
   "source": [
    "def query(curr):\n",
    "    consulta = (\"\"\"SELECT * FROM db_python;\"\"\")\n",
    "    curr.execute(consulta)"
   ]
  },
  {
   "cell_type": "code",
   "execution_count": 7,
   "id": "c1390d7b-9518-4426-9f1a-d3c23b1a5aef",
   "metadata": {},
   "outputs": [],
   "source": [
    "curr = conn.cursor()"
   ]
  },
  {
   "cell_type": "code",
   "execution_count": 8,
   "id": "d83a2d73-9e97-4821-8b64-9c153cd2eab4",
   "metadata": {},
   "outputs": [],
   "source": [
    "query(curr)"
   ]
  },
  {
   "cell_type": "code",
   "execution_count": 9,
   "id": "177a43a0-cc35-45dd-9e1c-746f1c005346",
   "metadata": {},
   "outputs": [],
   "source": [
    "query_results = curr.fetchall()"
   ]
  },
  {
   "cell_type": "code",
   "execution_count": 10,
   "id": "614d448c-054d-4480-8865-85c777d7ac02",
   "metadata": {},
   "outputs": [],
   "source": [
    "columnas = ['key', 'bandera_id', 'lat', 'lng',\n",
    "            'sucursalnombre', 'id_', 'sucursaltipo',\n",
    "            'provincia', 'promo1_descripcion','promo1_precio',\n",
    "            'preciolista','promo2_descripcion','promo2_precio',\n",
    "            'actualizadohoy','direccion','banderadescripcion',\n",
    "            'localidad','comerciorazonsocial','comercioid','marca','nombre',\n",
    "           'presentacion','fecha']"
   ]
  },
  {
   "cell_type": "code",
   "execution_count": 11,
   "id": "4b3ccf23-b8ba-4b1e-835c-3f792e1813ec",
   "metadata": {},
   "outputs": [],
   "source": [
    "df = pd.DataFrame(query_results, columns=columnas)"
   ]
  },
  {
   "cell_type": "code",
   "execution_count": 12,
   "id": "c673699d-35af-4973-b78b-13b915bd4bd5",
   "metadata": {},
   "outputs": [
    {
     "data": {
      "text/html": [
       "<div>\n",
       "<style scoped>\n",
       "    .dataframe tbody tr th:only-of-type {\n",
       "        vertical-align: middle;\n",
       "    }\n",
       "\n",
       "    .dataframe tbody tr th {\n",
       "        vertical-align: top;\n",
       "    }\n",
       "\n",
       "    .dataframe thead th {\n",
       "        text-align: right;\n",
       "    }\n",
       "</style>\n",
       "<table border=\"1\" class=\"dataframe\">\n",
       "  <thead>\n",
       "    <tr style=\"text-align: right;\">\n",
       "      <th></th>\n",
       "      <th>key</th>\n",
       "      <th>bandera_id</th>\n",
       "      <th>lat</th>\n",
       "      <th>lng</th>\n",
       "      <th>sucursalnombre</th>\n",
       "      <th>id_</th>\n",
       "      <th>sucursaltipo</th>\n",
       "      <th>provincia</th>\n",
       "      <th>promo1_descripcion</th>\n",
       "      <th>promo1_precio</th>\n",
       "      <th>preciolista</th>\n",
       "      <th>promo2_descripcion</th>\n",
       "      <th>promo2_precio</th>\n",
       "      <th>actualizadohoy</th>\n",
       "      <th>direccion</th>\n",
       "      <th>banderadescripcion</th>\n",
       "      <th>localidad</th>\n",
       "      <th>comerciorazonsocial</th>\n",
       "      <th>comercioid</th>\n",
       "      <th>marca</th>\n",
       "      <th>nombre</th>\n",
       "      <th>presentacion</th>\n",
       "      <th>fecha</th>\n",
       "    </tr>\n",
       "  </thead>\n",
       "  <tbody>\n",
       "    <tr>\n",
       "      <th>0</th>\n",
       "      <td>sucursales</td>\n",
       "      <td>1</td>\n",
       "      <td>-34.6036515</td>\n",
       "      <td>-58.405234</td>\n",
       "      <td>384 - BALVANERA</td>\n",
       "      <td>7790070012050</td>\n",
       "      <td>Autoservicio</td>\n",
       "      <td>AR-C</td>\n",
       "      <td>0% de descuento. Precio Promocional Exclusivo ...</td>\n",
       "      <td>186.37</td>\n",
       "      <td>186.37</td>\n",
       "      <td></td>\n",
       "      <td>NaN</td>\n",
       "      <td>true</td>\n",
       "      <td>Av Pueyrredon 576 (Balvanera)</td>\n",
       "      <td>Supermercados DIA</td>\n",
       "      <td>CAPITAL FEDERAL</td>\n",
       "      <td>DIA Argentina S.A</td>\n",
       "      <td>15</td>\n",
       "      <td>COCINERO</td>\n",
       "      <td>Aceite de Girasol Cocinero 900 Ml</td>\n",
       "      <td>900.0 ml</td>\n",
       "      <td>2022-08-24</td>\n",
       "    </tr>\n",
       "    <tr>\n",
       "      <th>1</th>\n",
       "      <td>sucursales</td>\n",
       "      <td>1</td>\n",
       "      <td>-34.6764626</td>\n",
       "      <td>-58.4933966</td>\n",
       "      <td>386 - VILLA LUGANO</td>\n",
       "      <td>7790070012050</td>\n",
       "      <td>Autoservicio</td>\n",
       "      <td>AR-C</td>\n",
       "      <td>0% de descuento. Precio Promocional Exclusivo ...</td>\n",
       "      <td>186.37</td>\n",
       "      <td>186.37</td>\n",
       "      <td></td>\n",
       "      <td>NaN</td>\n",
       "      <td>true</td>\n",
       "      <td>Montiel 3829 (Villa Lugano)</td>\n",
       "      <td>Supermercados DIA</td>\n",
       "      <td>CAPITAL FEDERAL</td>\n",
       "      <td>DIA Argentina S.A</td>\n",
       "      <td>15</td>\n",
       "      <td>COCINERO</td>\n",
       "      <td>Aceite de Girasol Cocinero 900 Ml</td>\n",
       "      <td>900.0 ml</td>\n",
       "      <td>2022-08-24</td>\n",
       "    </tr>\n",
       "    <tr>\n",
       "      <th>2</th>\n",
       "      <td>sucursales</td>\n",
       "      <td>1</td>\n",
       "      <td>-34.6530744</td>\n",
       "      <td>-58.4814134</td>\n",
       "      <td>387 - PARQUE AVELLANEDA</td>\n",
       "      <td>7790070012050</td>\n",
       "      <td>Autoservicio</td>\n",
       "      <td>AR-C</td>\n",
       "      <td>0% de descuento. Precio Promocional Exclusivo ...</td>\n",
       "      <td>186.37</td>\n",
       "      <td>186.37</td>\n",
       "      <td></td>\n",
       "      <td>NaN</td>\n",
       "      <td>true</td>\n",
       "      <td>Av Olivera 1268 (Villa Lugano)</td>\n",
       "      <td>Supermercados DIA</td>\n",
       "      <td>CAPITAL FEDERAL</td>\n",
       "      <td>DIA Argentina S.A</td>\n",
       "      <td>15</td>\n",
       "      <td>COCINERO</td>\n",
       "      <td>Aceite de Girasol Cocinero 900 Ml</td>\n",
       "      <td>900.0 ml</td>\n",
       "      <td>2022-08-24</td>\n",
       "    </tr>\n",
       "    <tr>\n",
       "      <th>3</th>\n",
       "      <td>sucursales</td>\n",
       "      <td>1</td>\n",
       "      <td>-34.6262843</td>\n",
       "      <td>-58.4569877</td>\n",
       "      <td>389 - FLORES</td>\n",
       "      <td>7790070012050</td>\n",
       "      <td>Autoservicio</td>\n",
       "      <td>AR-C</td>\n",
       "      <td>0% de descuento. Precio Promocional Exclusivo ...</td>\n",
       "      <td>186.37</td>\n",
       "      <td>186.37</td>\n",
       "      <td></td>\n",
       "      <td>NaN</td>\n",
       "      <td>true</td>\n",
       "      <td>Av Boyaca 37 (Flores)</td>\n",
       "      <td>Supermercados DIA</td>\n",
       "      <td>CAPITAL FEDERAL</td>\n",
       "      <td>DIA Argentina S.A</td>\n",
       "      <td>15</td>\n",
       "      <td>COCINERO</td>\n",
       "      <td>Aceite de Girasol Cocinero 900 Ml</td>\n",
       "      <td>900.0 ml</td>\n",
       "      <td>2022-08-24</td>\n",
       "    </tr>\n",
       "    <tr>\n",
       "      <th>4</th>\n",
       "      <td>sucursales</td>\n",
       "      <td>1</td>\n",
       "      <td>-35.0530892</td>\n",
       "      <td>-58.7606411</td>\n",
       "      <td>39 - CAÑUELAS</td>\n",
       "      <td>7790070012050</td>\n",
       "      <td>Autoservicio</td>\n",
       "      <td>AR-B</td>\n",
       "      <td>0% de descuento. Precio Promocional Exclusivo ...</td>\n",
       "      <td>186.37</td>\n",
       "      <td>186.37</td>\n",
       "      <td></td>\n",
       "      <td>NaN</td>\n",
       "      <td>true</td>\n",
       "      <td>Cl Rivadavia 800</td>\n",
       "      <td>Supermercados DIA</td>\n",
       "      <td>BUENOS AIRES</td>\n",
       "      <td>DIA Argentina S.A</td>\n",
       "      <td>15</td>\n",
       "      <td>COCINERO</td>\n",
       "      <td>Aceite de Girasol Cocinero 900 Ml</td>\n",
       "      <td>900.0 ml</td>\n",
       "      <td>2022-08-24</td>\n",
       "    </tr>\n",
       "  </tbody>\n",
       "</table>\n",
       "</div>"
      ],
      "text/plain": [
       "          key bandera_id          lat          lng           sucursalnombre  \\\n",
       "0  sucursales          1  -34.6036515   -58.405234          384 - BALVANERA   \n",
       "1  sucursales          1  -34.6764626  -58.4933966       386 - VILLA LUGANO   \n",
       "2  sucursales          1  -34.6530744  -58.4814134  387 - PARQUE AVELLANEDA   \n",
       "3  sucursales          1  -34.6262843  -58.4569877             389 - FLORES   \n",
       "4  sucursales          1  -35.0530892  -58.7606411            39 - CAÑUELAS   \n",
       "\n",
       "             id_  sucursaltipo provincia  \\\n",
       "0  7790070012050  Autoservicio      AR-C   \n",
       "1  7790070012050  Autoservicio      AR-C   \n",
       "2  7790070012050  Autoservicio      AR-C   \n",
       "3  7790070012050  Autoservicio      AR-C   \n",
       "4  7790070012050  Autoservicio      AR-B   \n",
       "\n",
       "                                  promo1_descripcion  promo1_precio  \\\n",
       "0  0% de descuento. Precio Promocional Exclusivo ...         186.37   \n",
       "1  0% de descuento. Precio Promocional Exclusivo ...         186.37   \n",
       "2  0% de descuento. Precio Promocional Exclusivo ...         186.37   \n",
       "3  0% de descuento. Precio Promocional Exclusivo ...         186.37   \n",
       "4  0% de descuento. Precio Promocional Exclusivo ...         186.37   \n",
       "\n",
       "   preciolista promo2_descripcion  promo2_precio actualizadohoy  \\\n",
       "0       186.37                               NaN           true   \n",
       "1       186.37                               NaN           true   \n",
       "2       186.37                               NaN           true   \n",
       "3       186.37                               NaN           true   \n",
       "4       186.37                               NaN           true   \n",
       "\n",
       "                         direccion banderadescripcion        localidad  \\\n",
       "0   Av Pueyrredon 576 (Balvanera)   Supermercados DIA  CAPITAL FEDERAL   \n",
       "1     Montiel 3829 (Villa Lugano)   Supermercados DIA  CAPITAL FEDERAL   \n",
       "2  Av Olivera 1268 (Villa Lugano)   Supermercados DIA  CAPITAL FEDERAL   \n",
       "3           Av Boyaca 37 (Flores)   Supermercados DIA  CAPITAL FEDERAL   \n",
       "4                 Cl Rivadavia 800  Supermercados DIA     BUENOS AIRES   \n",
       "\n",
       "  comerciorazonsocial comercioid     marca                             nombre  \\\n",
       "0   DIA Argentina S.A         15  COCINERO  Aceite de Girasol Cocinero 900 Ml   \n",
       "1   DIA Argentina S.A         15  COCINERO  Aceite de Girasol Cocinero 900 Ml   \n",
       "2   DIA Argentina S.A         15  COCINERO  Aceite de Girasol Cocinero 900 Ml   \n",
       "3   DIA Argentina S.A         15  COCINERO  Aceite de Girasol Cocinero 900 Ml   \n",
       "4   DIA Argentina S.A         15  COCINERO  Aceite de Girasol Cocinero 900 Ml   \n",
       "\n",
       "  presentacion       fecha  \n",
       "0     900.0 ml  2022-08-24  \n",
       "1     900.0 ml  2022-08-24  \n",
       "2     900.0 ml  2022-08-24  \n",
       "3     900.0 ml  2022-08-24  \n",
       "4     900.0 ml  2022-08-24  "
      ]
     },
     "execution_count": 12,
     "metadata": {},
     "output_type": "execute_result"
    }
   ],
   "source": [
    "df.head()"
   ]
  },
  {
   "cell_type": "markdown",
   "id": "0c472b1e-5694-4f17-9a32-09db97845c78",
   "metadata": {},
   "source": [
    "## Limpieza de datos\n",
    "---\n",
    "Revisa tipo de datos obtenido y los convertimos de corresponder"
   ]
  },
  {
   "cell_type": "code",
   "execution_count": 13,
   "id": "61f1435f-97b3-4882-88b8-5d56e29f4e83",
   "metadata": {},
   "outputs": [
    {
     "data": {
      "text/html": [
       "<div>\n",
       "<style scoped>\n",
       "    .dataframe tbody tr th:only-of-type {\n",
       "        vertical-align: middle;\n",
       "    }\n",
       "\n",
       "    .dataframe tbody tr th {\n",
       "        vertical-align: top;\n",
       "    }\n",
       "\n",
       "    .dataframe thead th {\n",
       "        text-align: right;\n",
       "    }\n",
       "</style>\n",
       "<table border=\"1\" class=\"dataframe\">\n",
       "  <thead>\n",
       "    <tr style=\"text-align: right;\">\n",
       "      <th></th>\n",
       "      <th>promo1_precio</th>\n",
       "      <th>preciolista</th>\n",
       "      <th>promo2_precio</th>\n",
       "    </tr>\n",
       "  </thead>\n",
       "  <tbody>\n",
       "    <tr>\n",
       "      <th>count</th>\n",
       "      <td>48766.000000</td>\n",
       "      <td>883967.000000</td>\n",
       "      <td>169302.000000</td>\n",
       "    </tr>\n",
       "    <tr>\n",
       "      <th>mean</th>\n",
       "      <td>301.956851</td>\n",
       "      <td>300.008436</td>\n",
       "      <td>249.343296</td>\n",
       "    </tr>\n",
       "    <tr>\n",
       "      <th>std</th>\n",
       "      <td>97.320125</td>\n",
       "      <td>135.662823</td>\n",
       "      <td>123.814429</td>\n",
       "    </tr>\n",
       "    <tr>\n",
       "      <th>min</th>\n",
       "      <td>94.560000</td>\n",
       "      <td>0.000000</td>\n",
       "      <td>67.900000</td>\n",
       "    </tr>\n",
       "    <tr>\n",
       "      <th>25%</th>\n",
       "      <td>192.800000</td>\n",
       "      <td>167.660000</td>\n",
       "      <td>135.310000</td>\n",
       "    </tr>\n",
       "    <tr>\n",
       "      <th>50%</th>\n",
       "      <td>306.750000</td>\n",
       "      <td>320.100000</td>\n",
       "      <td>228.990000</td>\n",
       "    </tr>\n",
       "    <tr>\n",
       "      <th>75%</th>\n",
       "      <td>360.000000</td>\n",
       "      <td>383.000000</td>\n",
       "      <td>346.040000</td>\n",
       "    </tr>\n",
       "    <tr>\n",
       "      <th>max</th>\n",
       "      <td>602.650000</td>\n",
       "      <td>709.000000</td>\n",
       "      <td>556.400000</td>\n",
       "    </tr>\n",
       "  </tbody>\n",
       "</table>\n",
       "</div>"
      ],
      "text/plain": [
       "       promo1_precio    preciolista  promo2_precio\n",
       "count   48766.000000  883967.000000  169302.000000\n",
       "mean      301.956851     300.008436     249.343296\n",
       "std        97.320125     135.662823     123.814429\n",
       "min        94.560000       0.000000      67.900000\n",
       "25%       192.800000     167.660000     135.310000\n",
       "50%       306.750000     320.100000     228.990000\n",
       "75%       360.000000     383.000000     346.040000\n",
       "max       602.650000     709.000000     556.400000"
      ]
     },
     "execution_count": 13,
     "metadata": {},
     "output_type": "execute_result"
    }
   ],
   "source": [
    "df.describe()"
   ]
  },
  {
   "cell_type": "code",
   "execution_count": 14,
   "id": "639a3028-f92a-4047-a218-9d133df76ebe",
   "metadata": {},
   "outputs": [
    {
     "data": {
      "text/plain": [
       "key                     object\n",
       "bandera_id              object\n",
       "lat                     object\n",
       "lng                     object\n",
       "sucursalnombre          object\n",
       "id_                     object\n",
       "sucursaltipo            object\n",
       "provincia               object\n",
       "promo1_descripcion      object\n",
       "promo1_precio          float64\n",
       "preciolista            float64\n",
       "promo2_descripcion      object\n",
       "promo2_precio          float64\n",
       "actualizadohoy          object\n",
       "direccion               object\n",
       "banderadescripcion      object\n",
       "localidad               object\n",
       "comerciorazonsocial     object\n",
       "comercioid              object\n",
       "marca                   object\n",
       "nombre                  object\n",
       "presentacion            object\n",
       "fecha                   object\n",
       "dtype: object"
      ]
     },
     "execution_count": 14,
     "metadata": {},
     "output_type": "execute_result"
    }
   ],
   "source": [
    "df.dtypes"
   ]
  },
  {
   "cell_type": "code",
   "execution_count": 15,
   "id": "949f61dc-e5b6-4cef-a2a9-cd0c4ed2ff93",
   "metadata": {},
   "outputs": [
    {
     "data": {
      "text/plain": [
       "0          False\n",
       "1          False\n",
       "2          False\n",
       "3          False\n",
       "4          False\n",
       "           ...  \n",
       "1153795     True\n",
       "1153796     True\n",
       "1153797     True\n",
       "1153798     True\n",
       "1153799     True\n",
       "Name: promo1_precio, Length: 1153800, dtype: bool"
      ]
     },
     "execution_count": 15,
     "metadata": {},
     "output_type": "execute_result"
    }
   ],
   "source": [
    "df['promo1_precio'].isnull()"
   ]
  },
  {
   "cell_type": "code",
   "execution_count": 16,
   "id": "cee09f80-e205-4c22-8753-f51846bfbb39",
   "metadata": {},
   "outputs": [],
   "source": [
    "df['lat'] = df['lat'].astype('float64')\n",
    "df['lng'] = df['lng'].astype('float64')\n"
   ]
  },
  {
   "cell_type": "code",
   "execution_count": 17,
   "id": "650f7821-a483-4ab3-bf64-227fbe74366f",
   "metadata": {},
   "outputs": [
    {
     "data": {
      "text/html": [
       "<div>\n",
       "<style scoped>\n",
       "    .dataframe tbody tr th:only-of-type {\n",
       "        vertical-align: middle;\n",
       "    }\n",
       "\n",
       "    .dataframe tbody tr th {\n",
       "        vertical-align: top;\n",
       "    }\n",
       "\n",
       "    .dataframe thead th {\n",
       "        text-align: right;\n",
       "    }\n",
       "</style>\n",
       "<table border=\"1\" class=\"dataframe\">\n",
       "  <thead>\n",
       "    <tr style=\"text-align: right;\">\n",
       "      <th></th>\n",
       "      <th>lat</th>\n",
       "      <th>lng</th>\n",
       "      <th>promo1_precio</th>\n",
       "      <th>preciolista</th>\n",
       "      <th>promo2_precio</th>\n",
       "    </tr>\n",
       "  </thead>\n",
       "  <tbody>\n",
       "    <tr>\n",
       "      <th>count</th>\n",
       "      <td>875937.000000</td>\n",
       "      <td>875937.000000</td>\n",
       "      <td>48766.000000</td>\n",
       "      <td>883967.000000</td>\n",
       "      <td>169302.000000</td>\n",
       "    </tr>\n",
       "    <tr>\n",
       "      <th>mean</th>\n",
       "      <td>-35.328574</td>\n",
       "      <td>-60.459678</td>\n",
       "      <td>301.956851</td>\n",
       "      <td>300.008436</td>\n",
       "      <td>249.343296</td>\n",
       "    </tr>\n",
       "    <tr>\n",
       "      <th>std</th>\n",
       "      <td>3.861188</td>\n",
       "      <td>3.579406</td>\n",
       "      <td>97.320125</td>\n",
       "      <td>135.662823</td>\n",
       "      <td>123.814429</td>\n",
       "    </tr>\n",
       "    <tr>\n",
       "      <th>min</th>\n",
       "      <td>-54.830640</td>\n",
       "      <td>-72.336170</td>\n",
       "      <td>94.560000</td>\n",
       "      <td>0.000000</td>\n",
       "      <td>67.900000</td>\n",
       "    </tr>\n",
       "    <tr>\n",
       "      <th>25%</th>\n",
       "      <td>-34.858230</td>\n",
       "      <td>-60.947400</td>\n",
       "      <td>192.800000</td>\n",
       "      <td>167.660000</td>\n",
       "      <td>135.310000</td>\n",
       "    </tr>\n",
       "    <tr>\n",
       "      <th>50%</th>\n",
       "      <td>-34.618229</td>\n",
       "      <td>-58.506874</td>\n",
       "      <td>306.750000</td>\n",
       "      <td>320.100000</td>\n",
       "      <td>228.990000</td>\n",
       "    </tr>\n",
       "    <tr>\n",
       "      <th>75%</th>\n",
       "      <td>-34.562834</td>\n",
       "      <td>-58.423667</td>\n",
       "      <td>360.000000</td>\n",
       "      <td>383.000000</td>\n",
       "      <td>346.040000</td>\n",
       "    </tr>\n",
       "    <tr>\n",
       "      <th>max</th>\n",
       "      <td>-22.513508</td>\n",
       "      <td>-55.876680</td>\n",
       "      <td>602.650000</td>\n",
       "      <td>709.000000</td>\n",
       "      <td>556.400000</td>\n",
       "    </tr>\n",
       "  </tbody>\n",
       "</table>\n",
       "</div>"
      ],
      "text/plain": [
       "                 lat            lng  promo1_precio    preciolista  \\\n",
       "count  875937.000000  875937.000000   48766.000000  883967.000000   \n",
       "mean      -35.328574     -60.459678     301.956851     300.008436   \n",
       "std         3.861188       3.579406      97.320125     135.662823   \n",
       "min       -54.830640     -72.336170      94.560000       0.000000   \n",
       "25%       -34.858230     -60.947400     192.800000     167.660000   \n",
       "50%       -34.618229     -58.506874     306.750000     320.100000   \n",
       "75%       -34.562834     -58.423667     360.000000     383.000000   \n",
       "max       -22.513508     -55.876680     602.650000     709.000000   \n",
       "\n",
       "       promo2_precio  \n",
       "count  169302.000000  \n",
       "mean      249.343296  \n",
       "std       123.814429  \n",
       "min        67.900000  \n",
       "25%       135.310000  \n",
       "50%       228.990000  \n",
       "75%       346.040000  \n",
       "max       556.400000  "
      ]
     },
     "execution_count": 17,
     "metadata": {},
     "output_type": "execute_result"
    }
   ],
   "source": [
    "df.describe()"
   ]
  },
  {
   "cell_type": "code",
   "execution_count": 18,
   "id": "021042ca-f85c-4749-93b2-f2d67015bbd1",
   "metadata": {},
   "outputs": [
    {
     "name": "stdout",
     "output_type": "stream",
     "text": [
      "2022-06-11\n",
      "2022-08-25\n"
     ]
    }
   ],
   "source": [
    "print(df['fecha'].min())\n",
    "print(df['fecha'].max())"
   ]
  },
  {
   "cell_type": "markdown",
   "id": "97141bb1-2440-4e03-8830-f14a203f61d1",
   "metadata": {},
   "source": [
    "## Metadata\n",
    "---\n",
    "Obtiene datos dólar blue a fin de realizar correlaciones\n",
    "\n",
    "Fuente https://www.ambito.com/contenidos/dolar-informal-historico.html 11/09/2022 14:25hs"
   ]
  },
  {
   "cell_type": "code",
   "execution_count": 21,
   "id": "ae4f1da0-4a1d-49e1-ad61-4d473bc93047",
   "metadata": {},
   "outputs": [],
   "source": [
    "import datetime"
   ]
  },
  {
   "cell_type": "code",
   "execution_count": 22,
   "id": "d47753ff-8df5-436c-8edc-7edd01055a50",
   "metadata": {},
   "outputs": [
    {
     "data": {
      "text/html": [
       "<div>\n",
       "<style scoped>\n",
       "    .dataframe tbody tr th:only-of-type {\n",
       "        vertical-align: middle;\n",
       "    }\n",
       "\n",
       "    .dataframe tbody tr th {\n",
       "        vertical-align: top;\n",
       "    }\n",
       "\n",
       "    .dataframe thead th {\n",
       "        text-align: right;\n",
       "    }\n",
       "</style>\n",
       "<table border=\"1\" class=\"dataframe\">\n",
       "  <thead>\n",
       "    <tr style=\"text-align: right;\">\n",
       "      <th></th>\n",
       "      <th>fecha</th>\n",
       "      <th>compra</th>\n",
       "      <th>venta</th>\n",
       "      <th>promedio</th>\n",
       "    </tr>\n",
       "  </thead>\n",
       "  <tbody>\n",
       "    <tr>\n",
       "      <th>0</th>\n",
       "      <td>2022-09-09</td>\n",
       "      <td>270</td>\n",
       "      <td>274</td>\n",
       "      <td>272.0</td>\n",
       "    </tr>\n",
       "    <tr>\n",
       "      <th>1</th>\n",
       "      <td>2022-09-08</td>\n",
       "      <td>276</td>\n",
       "      <td>280</td>\n",
       "      <td>278.0</td>\n",
       "    </tr>\n",
       "    <tr>\n",
       "      <th>2</th>\n",
       "      <td>2022-09-07</td>\n",
       "      <td>280</td>\n",
       "      <td>284</td>\n",
       "      <td>282.0</td>\n",
       "    </tr>\n",
       "    <tr>\n",
       "      <th>3</th>\n",
       "      <td>2022-09-06</td>\n",
       "      <td>272</td>\n",
       "      <td>276</td>\n",
       "      <td>274.0</td>\n",
       "    </tr>\n",
       "    <tr>\n",
       "      <th>4</th>\n",
       "      <td>2022-09-05</td>\n",
       "      <td>266</td>\n",
       "      <td>270</td>\n",
       "      <td>268.0</td>\n",
       "    </tr>\n",
       "  </tbody>\n",
       "</table>\n",
       "</div>"
      ],
      "text/plain": [
       "       fecha  compra  venta  promedio\n",
       "0 2022-09-09     270    274     272.0\n",
       "1 2022-09-08     276    280     278.0\n",
       "2 2022-09-07     280    284     282.0\n",
       "3 2022-09-06     272    276     274.0\n",
       "4 2022-09-05     266    270     268.0"
      ]
     },
     "execution_count": 22,
     "metadata": {},
     "output_type": "execute_result"
    }
   ],
   "source": [
    "df_dolar = pd.read_excel('./data/Dolar_Blue.xlsx')\n",
    "df_dolar.head()"
   ]
  },
  {
   "cell_type": "code",
   "execution_count": 23,
   "id": "bad36269-683a-4836-88a6-90f6ba24da97",
   "metadata": {},
   "outputs": [
    {
     "data": {
      "text/plain": [
       "(array([19158., 19174., 19188., 19205., 19219., 19236.]),\n",
       " [Text(0, 0, ''),\n",
       "  Text(0, 0, ''),\n",
       "  Text(0, 0, ''),\n",
       "  Text(0, 0, ''),\n",
       "  Text(0, 0, ''),\n",
       "  Text(0, 0, '')])"
      ]
     },
     "execution_count": 23,
     "metadata": {},
     "output_type": "execute_result"
    },
    {
     "data": {
      "image/png": "[encoded data removed]",
      "text/plain": [
       "<Figure size 432x288 with 1 Axes>"
      ]
     },
     "metadata": {
      "needs_background": "light"
     },
     "output_type": "display_data"
    }
   ],
   "source": [
    "x = df_dolar['fecha']\n",
    "y = df_dolar['promedio']\n",
    "plt.plot(x,y)\n",
    "plt.xticks(rotation=90)"
   ]
  },
  {
   "cell_type": "code",
   "execution_count": 24,
   "id": "aaa8ddf9-18b9-4e16-905a-6e26b21fb948",
   "metadata": {},
   "outputs": [
    {
     "name": "stdout",
     "output_type": "stream",
     "text": [
      "<class 'pandas.core.frame.DataFrame'>\n",
      "RangeIndex: 63 entries, 0 to 62\n",
      "Data columns (total 4 columns):\n",
      " #   Column    Non-Null Count  Dtype         \n",
      "---  ------    --------------  -----         \n",
      " 0   fecha     63 non-null     datetime64[ns]\n",
      " 1   compra    63 non-null     int64         \n",
      " 2   venta     63 non-null     int64         \n",
      " 3   promedio  63 non-null     float64       \n",
      "dtypes: datetime64[ns](1), float64(1), int64(2)\n",
      "memory usage: 2.1 KB\n"
     ]
    }
   ],
   "source": [
    "df_dolar.info()"
   ]
  },
  {
   "cell_type": "code",
   "execution_count": 25,
   "id": "25648c62-3d7a-465f-be4d-8d0c88aa95ca",
   "metadata": {},
   "outputs": [
    {
     "data": {
      "text/plain": [
       "0    2022-09-09\n",
       "1    2022-09-08\n",
       "2    2022-09-07\n",
       "3    2022-09-06\n",
       "4    2022-09-05\n",
       "        ...    \n",
       "58   2022-06-16\n",
       "59   2022-06-15\n",
       "60   2022-06-14\n",
       "61   2022-06-13\n",
       "62   2022-06-10\n",
       "Name: fecha, Length: 63, dtype: datetime64[ns]"
      ]
     },
     "execution_count": 25,
     "metadata": {},
     "output_type": "execute_result"
    }
   ],
   "source": [
    "df_dolar['fecha']"
   ]
  },
  {
   "cell_type": "code",
   "execution_count": 26,
   "id": "0abcc3c0-f6fd-4f1a-98f2-8073763bd07f",
   "metadata": {},
   "outputs": [],
   "source": [
    "#Completamos valores de sábado y domingo con el valor del día anterior\n",
    "df_dolar = (df_dolar.set_index('fecha')\n",
    "      .reindex(pd.date_range('2022-06-10', '2022-09-09', freq='D'))\n",
    "      .rename_axis(['fecha'])\n",
    "      .fillna(method='ffill')\n",
    "      .reset_index())"
   ]
  },
  {
   "cell_type": "code",
   "execution_count": 27,
   "id": "d35febac-7486-4d72-a2b6-ed43216be492",
   "metadata": {},
   "outputs": [
    {
     "data": {
      "text/plain": [
       "0    2022-06-10\n",
       "1    2022-06-11\n",
       "2    2022-06-12\n",
       "3    2022-06-13\n",
       "4    2022-06-14\n",
       "        ...    \n",
       "87   2022-09-05\n",
       "88   2022-09-06\n",
       "89   2022-09-07\n",
       "90   2022-09-08\n",
       "91   2022-09-09\n",
       "Name: fecha, Length: 92, dtype: datetime64[ns]"
      ]
     },
     "execution_count": 27,
     "metadata": {},
     "output_type": "execute_result"
    }
   ],
   "source": [
    "df_dolar['fecha']"
   ]
  },
  {
   "cell_type": "code",
   "execution_count": 28,
   "id": "a6238045-611b-4222-9a9f-e8a1f6f199b0",
   "metadata": {},
   "outputs": [
    {
     "data": {
      "text/html": [
       "<div>\n",
       "<style scoped>\n",
       "    .dataframe tbody tr th:only-of-type {\n",
       "        vertical-align: middle;\n",
       "    }\n",
       "\n",
       "    .dataframe tbody tr th {\n",
       "        vertical-align: top;\n",
       "    }\n",
       "\n",
       "    .dataframe thead th {\n",
       "        text-align: right;\n",
       "    }\n",
       "</style>\n",
       "<table border=\"1\" class=\"dataframe\">\n",
       "  <thead>\n",
       "    <tr style=\"text-align: right;\">\n",
       "      <th></th>\n",
       "      <th>fecha</th>\n",
       "      <th>compra</th>\n",
       "      <th>venta</th>\n",
       "      <th>promedio</th>\n",
       "    </tr>\n",
       "  </thead>\n",
       "  <tbody>\n",
       "    <tr>\n",
       "      <th>0</th>\n",
       "      <td>2022-06-10</td>\n",
       "      <td>206.0</td>\n",
       "      <td>210.0</td>\n",
       "      <td>208.0</td>\n",
       "    </tr>\n",
       "    <tr>\n",
       "      <th>1</th>\n",
       "      <td>2022-06-11</td>\n",
       "      <td>206.0</td>\n",
       "      <td>210.0</td>\n",
       "      <td>208.0</td>\n",
       "    </tr>\n",
       "    <tr>\n",
       "      <th>2</th>\n",
       "      <td>2022-06-12</td>\n",
       "      <td>206.0</td>\n",
       "      <td>210.0</td>\n",
       "      <td>208.0</td>\n",
       "    </tr>\n",
       "    <tr>\n",
       "      <th>3</th>\n",
       "      <td>2022-06-13</td>\n",
       "      <td>212.0</td>\n",
       "      <td>216.0</td>\n",
       "      <td>214.0</td>\n",
       "    </tr>\n",
       "    <tr>\n",
       "      <th>4</th>\n",
       "      <td>2022-06-14</td>\n",
       "      <td>220.0</td>\n",
       "      <td>224.0</td>\n",
       "      <td>222.0</td>\n",
       "    </tr>\n",
       "  </tbody>\n",
       "</table>\n",
       "</div>"
      ],
      "text/plain": [
       "       fecha  compra  venta  promedio\n",
       "0 2022-06-10   206.0  210.0     208.0\n",
       "1 2022-06-11   206.0  210.0     208.0\n",
       "2 2022-06-12   206.0  210.0     208.0\n",
       "3 2022-06-13   212.0  216.0     214.0\n",
       "4 2022-06-14   220.0  224.0     222.0"
      ]
     },
     "execution_count": 28,
     "metadata": {},
     "output_type": "execute_result"
    }
   ],
   "source": [
    "df_dolar.head()"
   ]
  },
  {
   "cell_type": "code",
   "execution_count": 29,
   "id": "0e94c455-1a8e-4473-9bf2-a190ac4e1a5d",
   "metadata": {},
   "outputs": [
    {
     "data": {
      "text/plain": [
       "(array([19158., 19174., 19188., 19205., 19219., 19236.]),\n",
       " [Text(0, 0, ''),\n",
       "  Text(0, 0, ''),\n",
       "  Text(0, 0, ''),\n",
       "  Text(0, 0, ''),\n",
       "  Text(0, 0, ''),\n",
       "  Text(0, 0, '')])"
      ]
     },
     "execution_count": 29,
     "metadata": {},
     "output_type": "execute_result"
    },
    {
     "data": {
      "image/png": "[encoded data removed]",
      "text/plain": [
       "<Figure size 432x288 with 1 Axes>"
      ]
     },
     "metadata": {
      "needs_background": "light"
     },
     "output_type": "display_data"
    }
   ],
   "source": [
    "x = df_dolar['fecha']\n",
    "y = df_dolar['promedio']\n",
    "plt.plot(x,y)\n",
    "plt.xticks(rotation=90)"
   ]
  },
  {
   "cell_type": "markdown",
   "id": "92b1fde3-55ec-4292-9197-97924d9c40d6",
   "metadata": {},
   "source": [
    "# Regresión lineal\n",
    "\n",
    "---\n",
    "\n",
    "Regresión lineal entre dolar paralelo y aumento de precios promedio por día por marca"
   ]
  },
  {
   "cell_type": "code",
   "execution_count": 42,
   "id": "3417927c-c749-4257-9bd3-4fca0cbc2291",
   "metadata": {},
   "outputs": [],
   "source": [
    "import seaborn as sns\n",
    "import sklearn.linear_model as skl_lm\n",
    "import statsmodels.formula.api as smf\n",
    "from sklearn.metrics import mean_squared_error, r2_score"
   ]
  },
  {
   "cell_type": "code",
   "execution_count": 34,
   "id": "f703061e-d6f0-457f-8f49-0b594bc697f8",
   "metadata": {},
   "outputs": [
    {
     "name": "stdout",
     "output_type": "stream",
     "text": [
      "['COCINERO' 'LIRA' 'TARAGUI' 'CAÑUELAS' 'MAÑANITA' 'FAVORITA' 'MORIXE'\n",
      " 'CRUZ DE MALTA' 'PLAYADITO' 'LA MERCED' 'CASERITA']\n"
     ]
    }
   ],
   "source": [
    "lista = []\n",
    "lista = df['marca'].unique()\n",
    "\n",
    "print(lista)"
   ]
  },
  {
   "cell_type": "code",
   "execution_count": 37,
   "id": "2d717453-dd40-4a8f-9650-c754fc7aa66c",
   "metadata": {},
   "outputs": [
    {
     "data": {
      "image/png": "[encoded data removed]",
      "text/plain": [
       "<Figure size 432x288 with 1 Axes>"
      ]
     },
     "metadata": {
      "needs_background": "light"
     },
     "output_type": "display_data"
    },
    {
     "data": {
      "image/png": "[encoded data removed]",
      "text/plain": [
       "<Figure size 432x288 with 1 Axes>"
      ]
     },
     "metadata": {
      "needs_background": "light"
     },
     "output_type": "display_data"
    },
    {
     "data": {
      "image/png": "[encoded data removed]",
      "text/plain": [
       "<Figure size 432x288 with 1 Axes>"
      ]
     },
     "metadata": {
      "needs_background": "light"
     },
     "output_type": "display_data"
    },
    {
     "data": {
      "image/png": "[encoded data removed]",
      "text/plain": [
       "<Figure size 432x288 with 1 Axes>"
      ]
     },
     "metadata": {
      "needs_background": "light"
     },
     "output_type": "display_data"
    },
    {
     "data": {
      "image/png": "[encoded data removed]",
      "text/plain": [
       "<Figure size 432x288 with 1 Axes>"
      ]
     },
     "metadata": {
      "needs_background": "light"
     },
     "output_type": "display_data"
    },
    {
     "data": {
      "image/png": "[encoded data removed]",
      "text/plain": [
       "<Figure size 432x288 with 1 Axes>"
      ]
     },
     "metadata": {
      "needs_background": "light"
     },
     "output_type": "display_data"
    },
    {
     "data": {
      "image/png": "[encoded data removed]",
      "text/plain": [
       "<Figure size 432x288 with 1 Axes>"
      ]
     },
     "metadata": {
      "needs_background": "light"
     },
     "output_type": "display_data"
    },
    {
     "data": {
      "image/png": "[encoded data removed]",
      "text/plain": [
       "<Figure size 432x288 with 1 Axes>"
      ]
     },
     "metadata": {
      "needs_background": "light"
     },
     "output_type": "display_data"
    },
    {
     "data": {
      "image/png": "[encoded data removed]",
      "text/plain": [
       "<Figure size 432x288 with 1 Axes>"
      ]
     },
     "metadata": {
      "needs_background": "light"
     },
     "output_type": "display_data"
    },
    {
     "data": {
      "image/png": "[encoded data removed]",
      "text/plain": [
       "<Figure size 432x288 with 1 Axes>"
      ]
     },
     "metadata": {
      "needs_background": "light"
     },
     "output_type": "display_data"
    },
    {
     "data": {
      "image/png": "[encoded data removed]",
      "text/plain": [
       "<Figure size 432x288 with 1 Axes>"
      ]
     },
     "metadata": {
      "needs_background": "light"
     },
     "output_type": "display_data"
    }
   ],
   "source": [
    "for marca in lista:\n",
    "    df_tmp = df[df['marca']==marca]\n",
    "    df_tmp = df_tmp.groupby('fecha').mean()\n",
    "    df_tmp = df_tmp.reset_index()\n",
    "    df_tmp = (df_tmp.set_index('fecha')\n",
    "      .reindex(pd.date_range('2022-06-11', '2022-08-25', freq='D'))\n",
    "      .rename_axis(['fecha'])\n",
    "      .fillna(method='ffill')\n",
    "      .reset_index())\n",
    "    df_tmp = pd.merge(df_tmp, df_dolar, on='fecha')\n",
    "    plt.figure(marca)\n",
    "    sns.regplot(x=df_tmp['preciolista'], y=df_tmp['promedio'], order=1, ci=None, scatter_kws={'color':'r', 's':9}).set(title=marca)"
   ]
  },
  {
   "cell_type": "code",
   "execution_count": 47,
   "id": "e46e82f3-400d-4fec-bf57-6e2635f328db",
   "metadata": {},
   "outputs": [
    {
     "name": "stdout",
     "output_type": "stream",
     "text": [
      "R2 COCINERO:\n",
      "0.1684451218757408\n",
      "R2 LIRA:\n",
      "0.47528018947770545\n",
      "R2 TARAGUI:\n",
      "0.6089136877965826\n",
      "R2 CAÑUELAS:\n",
      "0.0888856064990543\n",
      "R2 MAÑANITA:\n",
      "0.35274569716996895\n",
      "R2 FAVORITA:\n",
      "0.40385436193020896\n",
      "R2 MORIXE:\n",
      "0.6011893262690671\n",
      "R2 CRUZ DE MALTA:\n",
      "0.14455196436380213\n",
      "R2 PLAYADITO:\n",
      "0.03268616076624353\n",
      "R2 LA MERCED:\n",
      "0.4337590201066429\n",
      "R2 CASERITA:\n",
      "0.4409630332560288\n"
     ]
    }
   ],
   "source": [
    "for marca in lista:\n",
    "    df_tmp = df[df['marca']==marca]\n",
    "    df_tmp = df_tmp.groupby('fecha').mean()\n",
    "    df_tmp = df_tmp.reset_index()\n",
    "    df_tmp = (df_tmp.set_index('fecha')\n",
    "      .reindex(pd.date_range('2022-06-11', '2022-08-25', freq='D'))\n",
    "      .rename_axis(['fecha'])\n",
    "      .fillna(method='ffill')\n",
    "      .reset_index())\n",
    "    df_tmp = pd.merge(df_tmp, df_dolar, on='fecha')\n",
    "    print('R2 '+marca+':')\n",
    "    X = df_tmp['preciolista'].values.reshape(-1,1)\n",
    "    y = df_tmp['promedio'].values\n",
    "    regr.fit(X,y)\n",
    "    Precio_pred = regr.predict(X)\n",
    "    print(r2_score(y, Precio_pred))\n",
    "    "
   ]
  },
  {
   "cell_type": "code",
   "execution_count": 40,
   "id": "b020b101-3800-46ab-8157-ae215294cefe",
   "metadata": {},
   "outputs": [
    {
     "name": "stdout",
     "output_type": "stream",
     "text": [
      "-261.7250230072358\n",
      "[3.35548405]\n"
     ]
    }
   ],
   "source": [
    "regr = skl_lm.LinearRegression()\n",
    "\n",
    "X = df_tmp['preciolista'].values.reshape(-1,1)\n",
    "y = df_tmp['promedio'].values\n",
    "\n",
    "regr.fit(X,y)\n",
    "print(regr.intercept_)\n",
    "print(regr.coef_)"
   ]
  },
  {
   "cell_type": "code",
   "execution_count": 43,
   "id": "94ed40c5-5e36-49bb-80f7-19e91e6de788",
   "metadata": {},
   "outputs": [
    {
     "data": {
      "text/plain": [
       "0.4409630332560288"
      ]
     },
     "execution_count": 43,
     "metadata": {},
     "output_type": "execute_result"
    }
   ],
   "source": [
    "Precio_pred = regr.predict(X)\n",
    "r2_score(y, Precio_pred)"
   ]
  },
  {
   "cell_type": "code",
   "execution_count": 38,
   "id": "19e6cbd7-0784-4834-a253-a54c13f4f4f6",
   "metadata": {},
   "outputs": [
    {
     "data": {
      "text/plain": [
       "<AxesSubplot:xlabel='preciolista', ylabel='promedio'>"
      ]
     },
     "execution_count": 38,
     "metadata": {},
     "output_type": "execute_result"
    },
    {
     "data": {
      "image/png": "[encoded data removed]",
      "text/plain": [
       "<Figure size 432x288 with 1 Axes>"
      ]
     },
     "metadata": {
      "needs_background": "light"
     },
     "output_type": "display_data"
    }
   ],
   "source": [
    "sns.regplot(x=df_tmp['preciolista'], y=df_tmp['promedio'], order=1, ci=None, scatter_kws={'color':'r', 's':9})"
   ]
  },
  {
   "cell_type": "code",
   "execution_count": null,
   "id": "3c06fcfc-bae8-47cf-a148-760bef83667a",
   "metadata": {},
   "outputs": [],
   "source": []
  },
  {
   "cell_type": "code",
   "execution_count": null,
   "id": "7bec3c60-cc55-460a-8c61-07215ab8a42e",
   "metadata": {},
   "outputs": [],
   "source": []
  },
  {
   "cell_type": "code",
   "execution_count": null,
   "id": "01516e0e-b977-4fac-bee2-981eb8c7ba9f",
   "metadata": {},
   "outputs": [],
   "source": [
    "#marcas disponibles\n",
    "df['marca'].unique()"
   ]
  },
  {
   "cell_type": "code",
   "execution_count": null,
   "id": "268634c6-c360-49a6-8d4f-37789812c7ba",
   "metadata": {},
   "outputs": [],
   "source": [
    "#Crea variable con fecha limite\n",
    "\n",
    "fecha_var = datetime.date(2022,8,23)\n",
    "\n"
   ]
  },
  {
   "cell_type": "markdown",
   "id": "fd038c14-35ed-49d2-8239-8e6a350ffb1b",
   "metadata": {},
   "source": [
    "## Detalle de la marca con mejor correlacion\n",
    "---"
   ]
  },
  {
   "cell_type": "code",
   "execution_count": null,
   "id": "96ede445-ab6c-411c-ba00-5ee9db2b9588",
   "metadata": {
    "tags": []
   },
   "outputs": [],
   "source": [
    "df_morixe = df[df['marca']=='MORIXE']\n",
    "df_morixe = df_morixe[df_morixe['fecha']<fecha_var]\n",
    "\n",
    "df_morixe.head()"
   ]
  },
  {
   "cell_type": "code",
   "execution_count": null,
   "id": "b1ab80d9-a63e-4ecc-b256-dd6b2c0a3ab4",
   "metadata": {},
   "outputs": [],
   "source": [
    "df_morixe_mean = df_morixe.groupby('fecha').mean()\n",
    "df_morixe_mean = df_morixe_mean.reset_index()\n",
    "df_morixe_mean.head()"
   ]
  },
  {
   "cell_type": "code",
   "execution_count": null,
   "id": "4370531d-97ee-4d49-a0bd-40dcb113bf3b",
   "metadata": {},
   "outputs": [],
   "source": [
    "x = df_morixe_mean['fecha']\n",
    "y = df_morixe_mean['preciolista']\n",
    "plt.plot(x,y)\n",
    "plt.xticks(rotation=90)"
   ]
  },
  {
   "cell_type": "code",
   "execution_count": null,
   "id": "6944cecc-d45d-4d55-a5cc-b1ce39f99ba5",
   "metadata": {},
   "outputs": [],
   "source": [
    "#vemos que hay vacíos\n",
    "df_morixe_mean['fecha']"
   ]
  },
  {
   "cell_type": "code",
   "execution_count": null,
   "id": "bd0afd6d-8c4f-403a-b112-39f3a5f904ca",
   "metadata": {},
   "outputs": [],
   "source": [
    "print(df_morixe_mean['fecha'].min())\n",
    "print(df_morixe_mean['fecha'].max())"
   ]
  },
  {
   "cell_type": "code",
   "execution_count": null,
   "id": "dc2ebed4-557b-4468-844e-ffef95281c76",
   "metadata": {},
   "outputs": [],
   "source": [
    "df_morixe_mean.info()"
   ]
  },
  {
   "cell_type": "code",
   "execution_count": null,
   "id": "452114df-d369-4d6a-8eb9-9eb6d249f137",
   "metadata": {},
   "outputs": [],
   "source": [
    "df_morixe_mean = (df_morixe_mean.set_index('fecha')\n",
    "      .reindex(pd.date_range('2022-06-11', '2022-08-25', freq='D'))\n",
    "      .rename_axis(['fecha'])\n",
    "      .fillna(method='ffill')\n",
    "      .reset_index())"
   ]
  },
  {
   "cell_type": "code",
   "execution_count": null,
   "id": "ae28fcf2-93d4-4333-a89d-373b3fdd12a3",
   "metadata": {},
   "outputs": [],
   "source": [
    "x = df_morixe_mean['fecha']\n",
    "y = df_morixe_mean['preciolista']\n",
    "plt.plot(x,y)\n",
    "plt.xticks(rotation=90)"
   ]
  },
  {
   "cell_type": "code",
   "execution_count": null,
   "id": "053d097c-102e-4d43-8c27-10cec90499be",
   "metadata": {},
   "outputs": [],
   "source": [
    "df_j = pd.merge(df_morixe_mean, df_dolar, on='fecha')"
   ]
  },
  {
   "cell_type": "code",
   "execution_count": null,
   "id": "70975010-3f85-44a3-8494-501427d78334",
   "metadata": {
    "tags": []
   },
   "outputs": [],
   "source": [
    "df_j"
   ]
  },
  {
   "cell_type": "code",
   "execution_count": null,
   "id": "235bac65-5584-4dc4-b433-2a4fba9e6fe5",
   "metadata": {},
   "outputs": [],
   "source": [
    "x = df_j['fecha']\n",
    "y = df_j['preciolista']\n",
    "z = df_j['promedio']\n",
    "plt.plot(x,y)\n",
    "plt.plot(x,z)\n",
    "plt.xticks(rotation=90)"
   ]
  },
  {
   "cell_type": "code",
   "execution_count": null,
   "id": "82e63917-e7da-4132-8923-a215dbaa39d3",
   "metadata": {},
   "outputs": [],
   "source": [
    "df_j.corr()"
   ]
  },
  {
   "cell_type": "code",
   "execution_count": null,
   "id": "ffbda4e4-4b40-4b99-8e6b-c2d18b2f3fc9",
   "metadata": {},
   "outputs": [],
   "source": [
    "pd.set_option('display.max_rows', 500)"
   ]
  },
  {
   "cell_type": "code",
   "execution_count": null,
   "id": "76af1684-4eef-4010-a45d-f9948687b7c1",
   "metadata": {},
   "outputs": [],
   "source": []
  },
  {
   "cell_type": "code",
   "execution_count": null,
   "id": "8e6cd21b-a46c-4dc4-82ca-778a00096d71",
   "metadata": {},
   "outputs": [],
   "source": [
    "df_j.to_csv('Morixe_mean.csv')"
   ]
  }
 ],
 "metadata": {
  "kernelspec": {
   "display_name": "Python 3",
   "language": "python",
   "name": "python3"
  },
  "language_info": {
   "codemirror_mode": {
    "name": "ipython",
    "version": 3
   },
   "file_extension": ".py",
   "mimetype": "text/x-python",
   "name": "python",
   "nbconvert_exporter": "python",
   "pygments_lexer": "ipython3",
   "version": "3.8.8"
  }
 },
 "nbformat": 4,
 "nbformat_minor": 5
}
