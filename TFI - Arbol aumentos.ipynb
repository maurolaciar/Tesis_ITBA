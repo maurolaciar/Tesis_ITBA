{
 "cells": [
  {
   "cell_type": "markdown",
   "id": "11ba446a-f525-4b02-960d-0a57b383fe38",
   "metadata": {},
   "source": [
    "# Árbol aumentos\n",
    "\n",
    "---\n",
    "\n",
    "[Conexión con base de datos](##Conexión-con-base-de-datos)\n",
    "\n",
    "[Limpieza de datos](#Limpieza-de-datos)\n",
    "\n",
    "[Metadata](#Metadata)\n",
    "\n",
    "[Árbol de decisión](#Árbol-de-decisión)"
   ]
  },
  {
   "cell_type": "markdown",
   "id": "67d29ef1-7135-4708-b489-9ed623fc6329",
   "metadata": {},
   "source": [
    "## Conexión con base de datos\n",
    "---\n",
    "Realiza la conexión con base de datos local que contiene datos históricos"
   ]
  },
  {
   "cell_type": "code",
   "execution_count": 1,
   "id": "b80ac528-a7bf-4a99-ab87-5ecb114f1e0e",
   "metadata": {},
   "outputs": [],
   "source": [
    "from matplotlib.font_manager import json_load\n",
    "import pandas as pd\n",
    "import json\n",
    "import os\n",
    "import psycopg2 as ps\n",
    "from datetime import date, datetime, timedelta\n",
    "# %%\n",
    "pd.set_option('display.max_columns', None)"
   ]
  },
  {
   "cell_type": "code",
   "execution_count": 2,
   "id": "52458742-70f3-43af-8070-501c455b29f4",
   "metadata": {},
   "outputs": [
    {
     "data": {
      "text/plain": [
       "'C:\\\\Users\\\\lacia\\\\OneDrive\\\\Documents\\\\10. TFI\\\\0. Labs'"
      ]
     },
     "execution_count": 2,
     "metadata": {},
     "output_type": "execute_result"
    }
   ],
   "source": [
    "os.getcwd()"
   ]
  },
  {
   "cell_type": "code",
   "execution_count": 3,
   "id": "e7ef29f3-4086-43dd-b5c5-a5e5451900f4",
   "metadata": {},
   "outputs": [],
   "source": [
    "#ps.connect(host=hostname,dbname=database,user=username,password=pwd,port=portid)\n",
    "def connect_to_db(host_name,db_name,port,username,password):\n",
    "    try:\n",
    "        conn = ps.connect(\n",
    "            host = hostname,\n",
    "            dbname = database,\n",
    "            user = username,\n",
    "            password = pwd,\n",
    "            port = portid\n",
    "        )\n",
    "    except ps.OperationalError as e:\n",
    "        raise e\n",
    "    else:\n",
    "        print(\"Connected!\")\n",
    "    return conn\n"
   ]
  },
  {
   "cell_type": "code",
   "execution_count": 4,
   "id": "8d1394a5-d814-4cde-995f-d472d8cd4644",
   "metadata": {},
   "outputs": [],
   "source": [
    "# %%\n",
    "#Parametros para conectarnos a la base de datos\n",
    "hostname = \"localhost\"\n",
    "database = 'precios_clarosdb'\n",
    "username = 'postgres'\n",
    "pwd = 'postgres'\n",
    "portid = 5432\n",
    "#conn = None\n",
    "#cur = None\n",
    "\n"
   ]
  },
  {
   "cell_type": "code",
   "execution_count": 5,
   "id": "a8bb526f-748d-49b8-ac37-555625eb0122",
   "metadata": {},
   "outputs": [
    {
     "name": "stdout",
     "output_type": "stream",
     "text": [
      "Connected!\n"
     ]
    }
   ],
   "source": [
    "conn = connect_to_db(hostname,database,portid,username,pwd)"
   ]
  },
  {
   "cell_type": "code",
   "execution_count": 6,
   "id": "08e213ff-7dd5-467d-af9e-fd95800168fd",
   "metadata": {},
   "outputs": [],
   "source": [
    "def query(curr):\n",
    "    consulta = (\"\"\"SELECT * FROM db_muestra;\"\"\")\n",
    "    curr.execute(consulta)"
   ]
  },
  {
   "cell_type": "code",
   "execution_count": 7,
   "id": "c1390d7b-9518-4426-9f1a-d3c23b1a5aef",
   "metadata": {},
   "outputs": [],
   "source": [
    "curr = conn.cursor()"
   ]
  },
  {
   "cell_type": "code",
   "execution_count": 8,
   "id": "d83a2d73-9e97-4821-8b64-9c153cd2eab4",
   "metadata": {},
   "outputs": [],
   "source": [
    "query(curr)"
   ]
  },
  {
   "cell_type": "code",
   "execution_count": 9,
   "id": "177a43a0-cc35-45dd-9e1c-746f1c005346",
   "metadata": {},
   "outputs": [],
   "source": [
    "query_results = curr.fetchall()"
   ]
  },
  {
   "cell_type": "code",
   "execution_count": 10,
   "id": "614d448c-054d-4480-8865-85c777d7ac02",
   "metadata": {},
   "outputs": [],
   "source": [
    "columnas = ['key', 'bandera_id', 'lat', 'lng',\n",
    "            'sucursalnombre', 'id_', 'sucursaltipo',\n",
    "            'provincia', 'promo1_descripcion','promo1_precio',\n",
    "            'preciolista','promo2_descripcion','promo2_precio',\n",
    "            'actualizadohoy','direccion','banderadescripcion',\n",
    "            'localidad','comerciorazonsocial','comercioid','marca','nombre',\n",
    "           'presentacion','fecha']"
   ]
  },
  {
   "cell_type": "code",
   "execution_count": 11,
   "id": "4b3ccf23-b8ba-4b1e-835c-3f792e1813ec",
   "metadata": {},
   "outputs": [],
   "source": [
    "df = pd.DataFrame(query_results, columns=columnas)"
   ]
  },
  {
   "cell_type": "code",
   "execution_count": 12,
   "id": "c673699d-35af-4973-b78b-13b915bd4bd5",
   "metadata": {},
   "outputs": [
    {
     "data": {
      "text/html": [
       "<div>\n",
       "<style scoped>\n",
       "    .dataframe tbody tr th:only-of-type {\n",
       "        vertical-align: middle;\n",
       "    }\n",
       "\n",
       "    .dataframe tbody tr th {\n",
       "        vertical-align: top;\n",
       "    }\n",
       "\n",
       "    .dataframe thead th {\n",
       "        text-align: right;\n",
       "    }\n",
       "</style>\n",
       "<table border=\"1\" class=\"dataframe\">\n",
       "  <thead>\n",
       "    <tr style=\"text-align: right;\">\n",
       "      <th></th>\n",
       "      <th>key</th>\n",
       "      <th>bandera_id</th>\n",
       "      <th>lat</th>\n",
       "      <th>lng</th>\n",
       "      <th>sucursalnombre</th>\n",
       "      <th>id_</th>\n",
       "      <th>sucursaltipo</th>\n",
       "      <th>provincia</th>\n",
       "      <th>promo1_descripcion</th>\n",
       "      <th>promo1_precio</th>\n",
       "      <th>preciolista</th>\n",
       "      <th>promo2_descripcion</th>\n",
       "      <th>promo2_precio</th>\n",
       "      <th>actualizadohoy</th>\n",
       "      <th>direccion</th>\n",
       "      <th>banderadescripcion</th>\n",
       "      <th>localidad</th>\n",
       "      <th>comerciorazonsocial</th>\n",
       "      <th>comercioid</th>\n",
       "      <th>marca</th>\n",
       "      <th>nombre</th>\n",
       "      <th>presentacion</th>\n",
       "      <th>fecha</th>\n",
       "    </tr>\n",
       "  </thead>\n",
       "  <tbody>\n",
       "    <tr>\n",
       "      <th>0</th>\n",
       "      <td>sucursales</td>\n",
       "      <td>1</td>\n",
       "      <td>-34.6036515</td>\n",
       "      <td>-58.405234</td>\n",
       "      <td>384 - BALVANERA</td>\n",
       "      <td>7790070012050</td>\n",
       "      <td>Autoservicio</td>\n",
       "      <td>AR-C</td>\n",
       "      <td>0% de descuento. Precio Promocional Exclusivo ...</td>\n",
       "      <td>186.37</td>\n",
       "      <td>186.37</td>\n",
       "      <td></td>\n",
       "      <td>NaN</td>\n",
       "      <td>true</td>\n",
       "      <td>Av Pueyrredon 576 (Balvanera)</td>\n",
       "      <td>Supermercados DIA</td>\n",
       "      <td>CAPITAL FEDERAL</td>\n",
       "      <td>DIA Argentina S.A</td>\n",
       "      <td>15</td>\n",
       "      <td>COCINERO</td>\n",
       "      <td>Aceite de Girasol Cocinero 900 Ml</td>\n",
       "      <td>900.0 ml</td>\n",
       "      <td>2022-08-24</td>\n",
       "    </tr>\n",
       "    <tr>\n",
       "      <th>1</th>\n",
       "      <td>sucursales</td>\n",
       "      <td>1</td>\n",
       "      <td>-34.6764626</td>\n",
       "      <td>-58.4933966</td>\n",
       "      <td>386 - VILLA LUGANO</td>\n",
       "      <td>7790070012050</td>\n",
       "      <td>Autoservicio</td>\n",
       "      <td>AR-C</td>\n",
       "      <td>0% de descuento. Precio Promocional Exclusivo ...</td>\n",
       "      <td>186.37</td>\n",
       "      <td>186.37</td>\n",
       "      <td></td>\n",
       "      <td>NaN</td>\n",
       "      <td>true</td>\n",
       "      <td>Montiel 3829 (Villa Lugano)</td>\n",
       "      <td>Supermercados DIA</td>\n",
       "      <td>CAPITAL FEDERAL</td>\n",
       "      <td>DIA Argentina S.A</td>\n",
       "      <td>15</td>\n",
       "      <td>COCINERO</td>\n",
       "      <td>Aceite de Girasol Cocinero 900 Ml</td>\n",
       "      <td>900.0 ml</td>\n",
       "      <td>2022-08-24</td>\n",
       "    </tr>\n",
       "    <tr>\n",
       "      <th>2</th>\n",
       "      <td>sucursales</td>\n",
       "      <td>1</td>\n",
       "      <td>-34.6530744</td>\n",
       "      <td>-58.4814134</td>\n",
       "      <td>387 - PARQUE AVELLANEDA</td>\n",
       "      <td>7790070012050</td>\n",
       "      <td>Autoservicio</td>\n",
       "      <td>AR-C</td>\n",
       "      <td>0% de descuento. Precio Promocional Exclusivo ...</td>\n",
       "      <td>186.37</td>\n",
       "      <td>186.37</td>\n",
       "      <td></td>\n",
       "      <td>NaN</td>\n",
       "      <td>true</td>\n",
       "      <td>Av Olivera 1268 (Villa Lugano)</td>\n",
       "      <td>Supermercados DIA</td>\n",
       "      <td>CAPITAL FEDERAL</td>\n",
       "      <td>DIA Argentina S.A</td>\n",
       "      <td>15</td>\n",
       "      <td>COCINERO</td>\n",
       "      <td>Aceite de Girasol Cocinero 900 Ml</td>\n",
       "      <td>900.0 ml</td>\n",
       "      <td>2022-08-24</td>\n",
       "    </tr>\n",
       "    <tr>\n",
       "      <th>3</th>\n",
       "      <td>sucursales</td>\n",
       "      <td>1</td>\n",
       "      <td>-34.6262843</td>\n",
       "      <td>-58.4569877</td>\n",
       "      <td>389 - FLORES</td>\n",
       "      <td>7790070012050</td>\n",
       "      <td>Autoservicio</td>\n",
       "      <td>AR-C</td>\n",
       "      <td>0% de descuento. Precio Promocional Exclusivo ...</td>\n",
       "      <td>186.37</td>\n",
       "      <td>186.37</td>\n",
       "      <td></td>\n",
       "      <td>NaN</td>\n",
       "      <td>true</td>\n",
       "      <td>Av Boyaca 37 (Flores)</td>\n",
       "      <td>Supermercados DIA</td>\n",
       "      <td>CAPITAL FEDERAL</td>\n",
       "      <td>DIA Argentina S.A</td>\n",
       "      <td>15</td>\n",
       "      <td>COCINERO</td>\n",
       "      <td>Aceite de Girasol Cocinero 900 Ml</td>\n",
       "      <td>900.0 ml</td>\n",
       "      <td>2022-08-24</td>\n",
       "    </tr>\n",
       "    <tr>\n",
       "      <th>4</th>\n",
       "      <td>sucursales</td>\n",
       "      <td>1</td>\n",
       "      <td>-35.0530892</td>\n",
       "      <td>-58.7606411</td>\n",
       "      <td>39 - CAÑUELAS</td>\n",
       "      <td>7790070012050</td>\n",
       "      <td>Autoservicio</td>\n",
       "      <td>AR-B</td>\n",
       "      <td>0% de descuento. Precio Promocional Exclusivo ...</td>\n",
       "      <td>186.37</td>\n",
       "      <td>186.37</td>\n",
       "      <td></td>\n",
       "      <td>NaN</td>\n",
       "      <td>true</td>\n",
       "      <td>Cl Rivadavia 800</td>\n",
       "      <td>Supermercados DIA</td>\n",
       "      <td>BUENOS AIRES</td>\n",
       "      <td>DIA Argentina S.A</td>\n",
       "      <td>15</td>\n",
       "      <td>COCINERO</td>\n",
       "      <td>Aceite de Girasol Cocinero 900 Ml</td>\n",
       "      <td>900.0 ml</td>\n",
       "      <td>2022-08-24</td>\n",
       "    </tr>\n",
       "  </tbody>\n",
       "</table>\n",
       "</div>"
      ],
      "text/plain": [
       "          key bandera_id          lat          lng           sucursalnombre  \\\n",
       "0  sucursales          1  -34.6036515   -58.405234          384 - BALVANERA   \n",
       "1  sucursales          1  -34.6764626  -58.4933966       386 - VILLA LUGANO   \n",
       "2  sucursales          1  -34.6530744  -58.4814134  387 - PARQUE AVELLANEDA   \n",
       "3  sucursales          1  -34.6262843  -58.4569877             389 - FLORES   \n",
       "4  sucursales          1  -35.0530892  -58.7606411            39 - CAÑUELAS   \n",
       "\n",
       "             id_  sucursaltipo provincia  \\\n",
       "0  7790070012050  Autoservicio      AR-C   \n",
       "1  7790070012050  Autoservicio      AR-C   \n",
       "2  7790070012050  Autoservicio      AR-C   \n",
       "3  7790070012050  Autoservicio      AR-C   \n",
       "4  7790070012050  Autoservicio      AR-B   \n",
       "\n",
       "                                  promo1_descripcion  promo1_precio  \\\n",
       "0  0% de descuento. Precio Promocional Exclusivo ...         186.37   \n",
       "1  0% de descuento. Precio Promocional Exclusivo ...         186.37   \n",
       "2  0% de descuento. Precio Promocional Exclusivo ...         186.37   \n",
       "3  0% de descuento. Precio Promocional Exclusivo ...         186.37   \n",
       "4  0% de descuento. Precio Promocional Exclusivo ...         186.37   \n",
       "\n",
       "   preciolista promo2_descripcion  promo2_precio actualizadohoy  \\\n",
       "0       186.37                               NaN           true   \n",
       "1       186.37                               NaN           true   \n",
       "2       186.37                               NaN           true   \n",
       "3       186.37                               NaN           true   \n",
       "4       186.37                               NaN           true   \n",
       "\n",
       "                         direccion banderadescripcion        localidad  \\\n",
       "0   Av Pueyrredon 576 (Balvanera)   Supermercados DIA  CAPITAL FEDERAL   \n",
       "1     Montiel 3829 (Villa Lugano)   Supermercados DIA  CAPITAL FEDERAL   \n",
       "2  Av Olivera 1268 (Villa Lugano)   Supermercados DIA  CAPITAL FEDERAL   \n",
       "3           Av Boyaca 37 (Flores)   Supermercados DIA  CAPITAL FEDERAL   \n",
       "4                 Cl Rivadavia 800  Supermercados DIA     BUENOS AIRES   \n",
       "\n",
       "  comerciorazonsocial comercioid     marca                             nombre  \\\n",
       "0   DIA Argentina S.A         15  COCINERO  Aceite de Girasol Cocinero 900 Ml   \n",
       "1   DIA Argentina S.A         15  COCINERO  Aceite de Girasol Cocinero 900 Ml   \n",
       "2   DIA Argentina S.A         15  COCINERO  Aceite de Girasol Cocinero 900 Ml   \n",
       "3   DIA Argentina S.A         15  COCINERO  Aceite de Girasol Cocinero 900 Ml   \n",
       "4   DIA Argentina S.A         15  COCINERO  Aceite de Girasol Cocinero 900 Ml   \n",
       "\n",
       "  presentacion       fecha  \n",
       "0     900.0 ml  2022-08-24  \n",
       "1     900.0 ml  2022-08-24  \n",
       "2     900.0 ml  2022-08-24  \n",
       "3     900.0 ml  2022-08-24  \n",
       "4     900.0 ml  2022-08-24  "
      ]
     },
     "execution_count": 12,
     "metadata": {},
     "output_type": "execute_result"
    }
   ],
   "source": [
    "df.head()"
   ]
  },
  {
   "cell_type": "markdown",
   "id": "0c472b1e-5694-4f17-9a32-09db97845c78",
   "metadata": {},
   "source": [
    "## Limpieza de datos\n",
    "---\n",
    "Revisa tipo de datos obtenido y los convertimos de corresponder"
   ]
  },
  {
   "cell_type": "code",
   "execution_count": 13,
   "id": "61f1435f-97b3-4882-88b8-5d56e29f4e83",
   "metadata": {},
   "outputs": [
    {
     "data": {
      "text/html": [
       "<div>\n",
       "<style scoped>\n",
       "    .dataframe tbody tr th:only-of-type {\n",
       "        vertical-align: middle;\n",
       "    }\n",
       "\n",
       "    .dataframe tbody tr th {\n",
       "        vertical-align: top;\n",
       "    }\n",
       "\n",
       "    .dataframe thead th {\n",
       "        text-align: right;\n",
       "    }\n",
       "</style>\n",
       "<table border=\"1\" class=\"dataframe\">\n",
       "  <thead>\n",
       "    <tr style=\"text-align: right;\">\n",
       "      <th></th>\n",
       "      <th>promo1_precio</th>\n",
       "      <th>preciolista</th>\n",
       "      <th>promo2_precio</th>\n",
       "    </tr>\n",
       "  </thead>\n",
       "  <tbody>\n",
       "    <tr>\n",
       "      <th>count</th>\n",
       "      <td>48766.000000</td>\n",
       "      <td>883967.000000</td>\n",
       "      <td>169302.000000</td>\n",
       "    </tr>\n",
       "    <tr>\n",
       "      <th>mean</th>\n",
       "      <td>301.956851</td>\n",
       "      <td>300.008436</td>\n",
       "      <td>249.343296</td>\n",
       "    </tr>\n",
       "    <tr>\n",
       "      <th>std</th>\n",
       "      <td>97.320125</td>\n",
       "      <td>135.662823</td>\n",
       "      <td>123.814429</td>\n",
       "    </tr>\n",
       "    <tr>\n",
       "      <th>min</th>\n",
       "      <td>94.560000</td>\n",
       "      <td>0.000000</td>\n",
       "      <td>67.900000</td>\n",
       "    </tr>\n",
       "    <tr>\n",
       "      <th>25%</th>\n",
       "      <td>192.800000</td>\n",
       "      <td>167.660000</td>\n",
       "      <td>135.310000</td>\n",
       "    </tr>\n",
       "    <tr>\n",
       "      <th>50%</th>\n",
       "      <td>306.750000</td>\n",
       "      <td>320.100000</td>\n",
       "      <td>228.990000</td>\n",
       "    </tr>\n",
       "    <tr>\n",
       "      <th>75%</th>\n",
       "      <td>360.000000</td>\n",
       "      <td>383.000000</td>\n",
       "      <td>346.040000</td>\n",
       "    </tr>\n",
       "    <tr>\n",
       "      <th>max</th>\n",
       "      <td>602.650000</td>\n",
       "      <td>709.000000</td>\n",
       "      <td>556.400000</td>\n",
       "    </tr>\n",
       "  </tbody>\n",
       "</table>\n",
       "</div>"
      ],
      "text/plain": [
       "       promo1_precio    preciolista  promo2_precio\n",
       "count   48766.000000  883967.000000  169302.000000\n",
       "mean      301.956851     300.008436     249.343296\n",
       "std        97.320125     135.662823     123.814429\n",
       "min        94.560000       0.000000      67.900000\n",
       "25%       192.800000     167.660000     135.310000\n",
       "50%       306.750000     320.100000     228.990000\n",
       "75%       360.000000     383.000000     346.040000\n",
       "max       602.650000     709.000000     556.400000"
      ]
     },
     "execution_count": 13,
     "metadata": {},
     "output_type": "execute_result"
    }
   ],
   "source": [
    "df.describe()"
   ]
  },
  {
   "cell_type": "code",
   "execution_count": 14,
   "id": "639a3028-f92a-4047-a218-9d133df76ebe",
   "metadata": {},
   "outputs": [
    {
     "data": {
      "text/plain": [
       "key                     object\n",
       "bandera_id              object\n",
       "lat                     object\n",
       "lng                     object\n",
       "sucursalnombre          object\n",
       "id_                     object\n",
       "sucursaltipo            object\n",
       "provincia               object\n",
       "promo1_descripcion      object\n",
       "promo1_precio          float64\n",
       "preciolista            float64\n",
       "promo2_descripcion      object\n",
       "promo2_precio          float64\n",
       "actualizadohoy          object\n",
       "direccion               object\n",
       "banderadescripcion      object\n",
       "localidad               object\n",
       "comerciorazonsocial     object\n",
       "comercioid              object\n",
       "marca                   object\n",
       "nombre                  object\n",
       "presentacion            object\n",
       "fecha                   object\n",
       "dtype: object"
      ]
     },
     "execution_count": 14,
     "metadata": {},
     "output_type": "execute_result"
    }
   ],
   "source": [
    "df.dtypes"
   ]
  },
  {
   "cell_type": "code",
   "execution_count": 15,
   "id": "949f61dc-e5b6-4cef-a2a9-cd0c4ed2ff93",
   "metadata": {},
   "outputs": [
    {
     "data": {
      "text/plain": [
       "0          False\n",
       "1          False\n",
       "2          False\n",
       "3          False\n",
       "4          False\n",
       "           ...  \n",
       "1153795     True\n",
       "1153796     True\n",
       "1153797     True\n",
       "1153798     True\n",
       "1153799     True\n",
       "Name: promo1_precio, Length: 1153800, dtype: bool"
      ]
     },
     "execution_count": 15,
     "metadata": {},
     "output_type": "execute_result"
    }
   ],
   "source": [
    "df['promo1_precio'].isnull()"
   ]
  },
  {
   "cell_type": "code",
   "execution_count": 16,
   "id": "cee09f80-e205-4c22-8753-f51846bfbb39",
   "metadata": {},
   "outputs": [],
   "source": [
    "df['lat'] = df['lat'].astype('float64')\n",
    "df['lng'] = df['lng'].astype('float64')\n",
    "df['fecha'] = pd.to_datetime(df['fecha'])\n"
   ]
  },
  {
   "cell_type": "code",
   "execution_count": 17,
   "id": "650f7821-a483-4ab3-bf64-227fbe74366f",
   "metadata": {},
   "outputs": [
    {
     "data": {
      "text/html": [
       "<div>\n",
       "<style scoped>\n",
       "    .dataframe tbody tr th:only-of-type {\n",
       "        vertical-align: middle;\n",
       "    }\n",
       "\n",
       "    .dataframe tbody tr th {\n",
       "        vertical-align: top;\n",
       "    }\n",
       "\n",
       "    .dataframe thead th {\n",
       "        text-align: right;\n",
       "    }\n",
       "</style>\n",
       "<table border=\"1\" class=\"dataframe\">\n",
       "  <thead>\n",
       "    <tr style=\"text-align: right;\">\n",
       "      <th></th>\n",
       "      <th>lat</th>\n",
       "      <th>lng</th>\n",
       "      <th>promo1_precio</th>\n",
       "      <th>preciolista</th>\n",
       "      <th>promo2_precio</th>\n",
       "    </tr>\n",
       "  </thead>\n",
       "  <tbody>\n",
       "    <tr>\n",
       "      <th>count</th>\n",
       "      <td>875937.000000</td>\n",
       "      <td>875937.000000</td>\n",
       "      <td>48766.000000</td>\n",
       "      <td>883967.000000</td>\n",
       "      <td>169302.000000</td>\n",
       "    </tr>\n",
       "    <tr>\n",
       "      <th>mean</th>\n",
       "      <td>-35.328574</td>\n",
       "      <td>-60.459678</td>\n",
       "      <td>301.956851</td>\n",
       "      <td>300.008436</td>\n",
       "      <td>249.343296</td>\n",
       "    </tr>\n",
       "    <tr>\n",
       "      <th>std</th>\n",
       "      <td>3.861188</td>\n",
       "      <td>3.579406</td>\n",
       "      <td>97.320125</td>\n",
       "      <td>135.662823</td>\n",
       "      <td>123.814429</td>\n",
       "    </tr>\n",
       "    <tr>\n",
       "      <th>min</th>\n",
       "      <td>-54.830640</td>\n",
       "      <td>-72.336170</td>\n",
       "      <td>94.560000</td>\n",
       "      <td>0.000000</td>\n",
       "      <td>67.900000</td>\n",
       "    </tr>\n",
       "    <tr>\n",
       "      <th>25%</th>\n",
       "      <td>-34.858230</td>\n",
       "      <td>-60.947400</td>\n",
       "      <td>192.800000</td>\n",
       "      <td>167.660000</td>\n",
       "      <td>135.310000</td>\n",
       "    </tr>\n",
       "    <tr>\n",
       "      <th>50%</th>\n",
       "      <td>-34.618229</td>\n",
       "      <td>-58.506874</td>\n",
       "      <td>306.750000</td>\n",
       "      <td>320.100000</td>\n",
       "      <td>228.990000</td>\n",
       "    </tr>\n",
       "    <tr>\n",
       "      <th>75%</th>\n",
       "      <td>-34.562834</td>\n",
       "      <td>-58.423667</td>\n",
       "      <td>360.000000</td>\n",
       "      <td>383.000000</td>\n",
       "      <td>346.040000</td>\n",
       "    </tr>\n",
       "    <tr>\n",
       "      <th>max</th>\n",
       "      <td>-22.513508</td>\n",
       "      <td>-55.876680</td>\n",
       "      <td>602.650000</td>\n",
       "      <td>709.000000</td>\n",
       "      <td>556.400000</td>\n",
       "    </tr>\n",
       "  </tbody>\n",
       "</table>\n",
       "</div>"
      ],
      "text/plain": [
       "                 lat            lng  promo1_precio    preciolista  \\\n",
       "count  875937.000000  875937.000000   48766.000000  883967.000000   \n",
       "mean      -35.328574     -60.459678     301.956851     300.008436   \n",
       "std         3.861188       3.579406      97.320125     135.662823   \n",
       "min       -54.830640     -72.336170      94.560000       0.000000   \n",
       "25%       -34.858230     -60.947400     192.800000     167.660000   \n",
       "50%       -34.618229     -58.506874     306.750000     320.100000   \n",
       "75%       -34.562834     -58.423667     360.000000     383.000000   \n",
       "max       -22.513508     -55.876680     602.650000     709.000000   \n",
       "\n",
       "       promo2_precio  \n",
       "count  169302.000000  \n",
       "mean      249.343296  \n",
       "std       123.814429  \n",
       "min        67.900000  \n",
       "25%       135.310000  \n",
       "50%       228.990000  \n",
       "75%       346.040000  \n",
       "max       556.400000  "
      ]
     },
     "execution_count": 17,
     "metadata": {},
     "output_type": "execute_result"
    }
   ],
   "source": [
    "df.describe()"
   ]
  },
  {
   "cell_type": "code",
   "execution_count": 18,
   "id": "021042ca-f85c-4749-93b2-f2d67015bbd1",
   "metadata": {},
   "outputs": [
    {
     "name": "stdout",
     "output_type": "stream",
     "text": [
      "2022-06-11 00:00:00\n",
      "2022-08-25 00:00:00\n"
     ]
    }
   ],
   "source": [
    "print(df['fecha'].min())\n",
    "print(df['fecha'].max())"
   ]
  },
  {
   "cell_type": "markdown",
   "id": "97141bb1-2440-4e03-8830-f14a203f61d1",
   "metadata": {},
   "source": [
    "## Metadata\n",
    "---\n",
    "Obtiene datos dólar blue a fin de realizar correlaciones\n",
    "\n",
    "Fuente https://www.ambito.com/contenidos/dolar-informal-historico.html 11/09/2022 14:25hs"
   ]
  },
  {
   "cell_type": "code",
   "execution_count": null,
   "id": "ae4f1da0-4a1d-49e1-ad61-4d473bc93047",
   "metadata": {},
   "outputs": [],
   "source": [
    "import datetime\n",
    "import matplotlib.pyplot as plt"
   ]
  },
  {
   "cell_type": "code",
   "execution_count": null,
   "id": "d47753ff-8df5-436c-8edc-7edd01055a50",
   "metadata": {},
   "outputs": [],
   "source": [
    "df_dolar = pd.read_excel('./data/Dolar_Blue.xlsx')\n",
    "df_dolar.head()"
   ]
  },
  {
   "cell_type": "code",
   "execution_count": null,
   "id": "bad36269-683a-4836-88a6-90f6ba24da97",
   "metadata": {},
   "outputs": [],
   "source": [
    "x = df_dolar['fecha']\n",
    "y = df_dolar['promedio']\n",
    "plt.plot(x,y)\n",
    "plt.xticks(rotation=90)"
   ]
  },
  {
   "cell_type": "code",
   "execution_count": null,
   "id": "aaa8ddf9-18b9-4e16-905a-6e26b21fb948",
   "metadata": {},
   "outputs": [],
   "source": [
    "df_dolar.info()"
   ]
  },
  {
   "cell_type": "code",
   "execution_count": null,
   "id": "25648c62-3d7a-465f-be4d-8d0c88aa95ca",
   "metadata": {},
   "outputs": [],
   "source": [
    "df_dolar['fecha']"
   ]
  },
  {
   "cell_type": "code",
   "execution_count": null,
   "id": "0abcc3c0-f6fd-4f1a-98f2-8073763bd07f",
   "metadata": {},
   "outputs": [],
   "source": [
    "#Completamos valores de sábado y domingo con el valor del día anterior\n",
    "df_dolar = (df_dolar.set_index('fecha')\n",
    "      .reindex(pd.date_range('2022-06-10', '2022-09-09', freq='D'))\n",
    "      .rename_axis(['fecha'])\n",
    "      .fillna(method='ffill')\n",
    "      .reset_index())"
   ]
  },
  {
   "cell_type": "code",
   "execution_count": null,
   "id": "d35febac-7486-4d72-a2b6-ed43216be492",
   "metadata": {},
   "outputs": [],
   "source": [
    "df_dolar['fecha']"
   ]
  },
  {
   "cell_type": "code",
   "execution_count": null,
   "id": "a6238045-611b-4222-9a9f-e8a1f6f199b0",
   "metadata": {},
   "outputs": [],
   "source": [
    "df_dolar.head()"
   ]
  },
  {
   "cell_type": "code",
   "execution_count": null,
   "id": "0e94c455-1a8e-4473-9bf2-a190ac4e1a5d",
   "metadata": {
    "tags": []
   },
   "outputs": [],
   "source": [
    "x = df_dolar['fecha']\n",
    "y = df_dolar['promedio']\n",
    "plt.plot(x,y)\n",
    "plt.xticks(rotation=90)"
   ]
  },
  {
   "cell_type": "markdown",
   "id": "92b1fde3-55ec-4292-9197-97924d9c40d6",
   "metadata": {
    "tags": []
   },
   "source": [
    "# Árbol de decisión\n",
    "---\n",
    "\n",
    "Árbol de decisión para encontrar fecha prevista de aumento de precios"
   ]
  },
  {
   "cell_type": "code",
   "execution_count": 19,
   "id": "3417927c-c749-4257-9bd3-4fca0cbc2291",
   "metadata": {},
   "outputs": [
    {
     "name": "stderr",
     "output_type": "stream",
     "text": [
      "C:\\Users\\lacia\\anaconda3\\lib\\site-packages\\scipy\\__init__.py:138: UserWarning: A NumPy version >=1.16.5 and <1.23.0 is required for this version of SciPy (detected version 1.23.1)\n",
      "  warnings.warn(f\"A NumPy version >={np_minversion} and <{np_maxversion} is required for this version of \"\n"
     ]
    }
   ],
   "source": [
    "import numpy\n",
    "from sklearn.metrics import r2_score"
   ]
  },
  {
   "cell_type": "code",
   "execution_count": 20,
   "id": "f703061e-d6f0-457f-8f49-0b594bc697f8",
   "metadata": {},
   "outputs": [
    {
     "name": "stdout",
     "output_type": "stream",
     "text": [
      "['COCINERO' 'LIRA' 'TARAGUI' 'CAÑUELAS' 'MAÑANITA' 'FAVORITA' 'MORIXE'\n",
      " 'CRUZ DE MALTA' 'PLAYADITO' 'LA MERCED' 'CASERITA']\n"
     ]
    }
   ],
   "source": [
    "lista = []\n",
    "lista = df['marca'].unique()\n",
    "\n",
    "print(lista)"
   ]
  },
  {
   "cell_type": "code",
   "execution_count": 21,
   "id": "ab553d07-8871-470d-834d-4874718bcba0",
   "metadata": {},
   "outputs": [
    {
     "data": {
      "text/plain": [
       "Index(['key', 'bandera_id', 'lat', 'lng', 'sucursalnombre', 'id_',\n",
       "       'sucursaltipo', 'provincia', 'promo1_descripcion', 'promo1_precio',\n",
       "       'preciolista', 'promo2_descripcion', 'promo2_precio', 'actualizadohoy',\n",
       "       'direccion', 'banderadescripcion', 'localidad', 'comerciorazonsocial',\n",
       "       'comercioid', 'marca', 'nombre', 'presentacion', 'fecha'],\n",
       "      dtype='object')"
      ]
     },
     "execution_count": 21,
     "metadata": {},
     "output_type": "execute_result"
    }
   ],
   "source": [
    "df.keys()"
   ]
  },
  {
   "cell_type": "code",
   "execution_count": 22,
   "id": "427e0199-9efe-45c8-a3c9-6b1d37f391be",
   "metadata": {},
   "outputs": [],
   "source": [
    "df_suc = df[df['sucursalnombre']=='Trelew']"
   ]
  },
  {
   "cell_type": "code",
   "execution_count": 23,
   "id": "60f0dc98-4ead-4466-a50a-f3c4d569d132",
   "metadata": {},
   "outputs": [
    {
     "data": {
      "text/html": [
       "<div>\n",
       "<style scoped>\n",
       "    .dataframe tbody tr th:only-of-type {\n",
       "        vertical-align: middle;\n",
       "    }\n",
       "\n",
       "    .dataframe tbody tr th {\n",
       "        vertical-align: top;\n",
       "    }\n",
       "\n",
       "    .dataframe thead th {\n",
       "        text-align: right;\n",
       "    }\n",
       "</style>\n",
       "<table border=\"1\" class=\"dataframe\">\n",
       "  <thead>\n",
       "    <tr style=\"text-align: right;\">\n",
       "      <th></th>\n",
       "      <th>key</th>\n",
       "      <th>bandera_id</th>\n",
       "      <th>lat</th>\n",
       "      <th>lng</th>\n",
       "      <th>sucursalnombre</th>\n",
       "      <th>id_</th>\n",
       "      <th>sucursaltipo</th>\n",
       "      <th>provincia</th>\n",
       "      <th>promo1_descripcion</th>\n",
       "      <th>promo1_precio</th>\n",
       "      <th>preciolista</th>\n",
       "      <th>promo2_descripcion</th>\n",
       "      <th>promo2_precio</th>\n",
       "      <th>actualizadohoy</th>\n",
       "      <th>direccion</th>\n",
       "      <th>banderadescripcion</th>\n",
       "      <th>localidad</th>\n",
       "      <th>comerciorazonsocial</th>\n",
       "      <th>comercioid</th>\n",
       "      <th>marca</th>\n",
       "      <th>nombre</th>\n",
       "      <th>presentacion</th>\n",
       "      <th>fecha</th>\n",
       "    </tr>\n",
       "  </thead>\n",
       "  <tbody>\n",
       "    <tr>\n",
       "      <th>1502</th>\n",
       "      <td>sucursales</td>\n",
       "      <td>1</td>\n",
       "      <td>-43.257504</td>\n",
       "      <td>-65.305489</td>\n",
       "      <td>Trelew</td>\n",
       "      <td>7790070231468</td>\n",
       "      <td>Hipermercado</td>\n",
       "      <td>AR-U</td>\n",
       "      <td></td>\n",
       "      <td>NaN</td>\n",
       "      <td>480.00</td>\n",
       "      <td></td>\n",
       "      <td>NaN</td>\n",
       "      <td>true</td>\n",
       "      <td>Soberanía Nacional 140</td>\n",
       "      <td>Hipermercado Carrefour</td>\n",
       "      <td>Trelew</td>\n",
       "      <td>INC S.A.</td>\n",
       "      <td>10</td>\n",
       "      <td>LIRA</td>\n",
       "      <td>Aceite de Girasol Lira 900 Cc</td>\n",
       "      <td>900.0 cc</td>\n",
       "      <td>2022-08-23</td>\n",
       "    </tr>\n",
       "    <tr>\n",
       "      <th>1749</th>\n",
       "      <td>sucursales</td>\n",
       "      <td>1</td>\n",
       "      <td>-43.257504</td>\n",
       "      <td>-65.305489</td>\n",
       "      <td>Trelew</td>\n",
       "      <td>7792590000227</td>\n",
       "      <td>Hipermercado</td>\n",
       "      <td>AR-U</td>\n",
       "      <td></td>\n",
       "      <td>NaN</td>\n",
       "      <td>189.00</td>\n",
       "      <td></td>\n",
       "      <td>NaN</td>\n",
       "      <td>true</td>\n",
       "      <td>Soberanía Nacional 140</td>\n",
       "      <td>Hipermercado Carrefour</td>\n",
       "      <td>Trelew</td>\n",
       "      <td>INC S.A.</td>\n",
       "      <td>10</td>\n",
       "      <td>CASERITA</td>\n",
       "      <td>Harina de Trigo 0000 Caserita 1 Kg</td>\n",
       "      <td>1.0 kg</td>\n",
       "      <td>2022-08-23</td>\n",
       "    </tr>\n",
       "    <tr>\n",
       "      <th>3830</th>\n",
       "      <td>sucursales</td>\n",
       "      <td>2</td>\n",
       "      <td>-43.249282</td>\n",
       "      <td>-65.290804</td>\n",
       "      <td>Trelew</td>\n",
       "      <td>7790070012050</td>\n",
       "      <td>Hipermercado</td>\n",
       "      <td>AR-U</td>\n",
       "      <td>Llevando 1 unidades, pagás $201.28 c/u, promoc...</td>\n",
       "      <td>201.28</td>\n",
       "      <td>201.28</td>\n",
       "      <td></td>\n",
       "      <td>NaN</td>\n",
       "      <td>true</td>\n",
       "      <td>Avenida Eva Perón 719</td>\n",
       "      <td>Changomas</td>\n",
       "      <td>TRELEW</td>\n",
       "      <td>Wal Mart Argentina S.R.L.</td>\n",
       "      <td>11</td>\n",
       "      <td>COCINERO</td>\n",
       "      <td>Aceite de Girasol Cocinero 900 Ml</td>\n",
       "      <td>900.0 ml</td>\n",
       "      <td>2022-08-16</td>\n",
       "    </tr>\n",
       "    <tr>\n",
       "      <th>4577</th>\n",
       "      <td>sucursales</td>\n",
       "      <td>2</td>\n",
       "      <td>-43.249282</td>\n",
       "      <td>-65.290804</td>\n",
       "      <td>Trelew</td>\n",
       "      <td>7790387015324</td>\n",
       "      <td>Hipermercado</td>\n",
       "      <td>AR-U</td>\n",
       "      <td>Llevando 1 unidades, pagás $428.00 c/u, promoc...</td>\n",
       "      <td>428.00</td>\n",
       "      <td>440.00</td>\n",
       "      <td></td>\n",
       "      <td>NaN</td>\n",
       "      <td>true</td>\n",
       "      <td>Avenida Eva Perón 719</td>\n",
       "      <td>Changomas</td>\n",
       "      <td>TRELEW</td>\n",
       "      <td>Wal Mart Argentina S.R.L.</td>\n",
       "      <td>11</td>\n",
       "      <td>MAÑANITA</td>\n",
       "      <td>Yerba Mate Bajo Polvo 4 Flex Mañanita 500 Gr</td>\n",
       "      <td>500.0 gr</td>\n",
       "      <td>2022-08-16</td>\n",
       "    </tr>\n",
       "    <tr>\n",
       "      <th>4909</th>\n",
       "      <td>sucursales</td>\n",
       "      <td>2</td>\n",
       "      <td>-43.249282</td>\n",
       "      <td>-65.290804</td>\n",
       "      <td>Trelew</td>\n",
       "      <td>7793704000911</td>\n",
       "      <td>Hipermercado</td>\n",
       "      <td>AR-U</td>\n",
       "      <td>Llevando 1 unidades, pagás $396.14 c/u, promoc...</td>\n",
       "      <td>396.14</td>\n",
       "      <td>396.14</td>\n",
       "      <td></td>\n",
       "      <td>NaN</td>\n",
       "      <td>true</td>\n",
       "      <td>Avenida Eva Perón 719</td>\n",
       "      <td>Changomas</td>\n",
       "      <td>TRELEW</td>\n",
       "      <td>Wal Mart Argentina S.R.L.</td>\n",
       "      <td>11</td>\n",
       "      <td>PLAYADITO</td>\n",
       "      <td>Yerba Mate Suave con Palo Playadito 500 Gr</td>\n",
       "      <td>500.0 gr</td>\n",
       "      <td>2022-08-16</td>\n",
       "    </tr>\n",
       "  </tbody>\n",
       "</table>\n",
       "</div>"
      ],
      "text/plain": [
       "             key bandera_id        lat        lng sucursalnombre  \\\n",
       "1502  sucursales          1 -43.257504 -65.305489         Trelew   \n",
       "1749  sucursales          1 -43.257504 -65.305489         Trelew   \n",
       "3830  sucursales          2 -43.249282 -65.290804         Trelew   \n",
       "4577  sucursales          2 -43.249282 -65.290804         Trelew   \n",
       "4909  sucursales          2 -43.249282 -65.290804         Trelew   \n",
       "\n",
       "                id_  sucursaltipo provincia  \\\n",
       "1502  7790070231468  Hipermercado      AR-U   \n",
       "1749  7792590000227  Hipermercado      AR-U   \n",
       "3830  7790070012050  Hipermercado      AR-U   \n",
       "4577  7790387015324  Hipermercado      AR-U   \n",
       "4909  7793704000911  Hipermercado      AR-U   \n",
       "\n",
       "                                     promo1_descripcion  promo1_precio  \\\n",
       "1502                                                               NaN   \n",
       "1749                                                               NaN   \n",
       "3830  Llevando 1 unidades, pagás $201.28 c/u, promoc...         201.28   \n",
       "4577  Llevando 1 unidades, pagás $428.00 c/u, promoc...         428.00   \n",
       "4909  Llevando 1 unidades, pagás $396.14 c/u, promoc...         396.14   \n",
       "\n",
       "      preciolista promo2_descripcion  promo2_precio actualizadohoy  \\\n",
       "1502       480.00                               NaN           true   \n",
       "1749       189.00                               NaN           true   \n",
       "3830       201.28                               NaN           true   \n",
       "4577       440.00                               NaN           true   \n",
       "4909       396.14                               NaN           true   \n",
       "\n",
       "                   direccion      banderadescripcion localidad  \\\n",
       "1502  Soberanía Nacional 140  Hipermercado Carrefour    Trelew   \n",
       "1749  Soberanía Nacional 140  Hipermercado Carrefour    Trelew   \n",
       "3830   Avenida Eva Perón 719               Changomas    TRELEW   \n",
       "4577   Avenida Eva Perón 719               Changomas    TRELEW   \n",
       "4909   Avenida Eva Perón 719               Changomas    TRELEW   \n",
       "\n",
       "            comerciorazonsocial comercioid      marca  \\\n",
       "1502                   INC S.A.         10       LIRA   \n",
       "1749                   INC S.A.         10   CASERITA   \n",
       "3830  Wal Mart Argentina S.R.L.         11   COCINERO   \n",
       "4577  Wal Mart Argentina S.R.L.         11   MAÑANITA   \n",
       "4909  Wal Mart Argentina S.R.L.         11  PLAYADITO   \n",
       "\n",
       "                                             nombre presentacion      fecha  \n",
       "1502                  Aceite de Girasol Lira 900 Cc     900.0 cc 2022-08-23  \n",
       "1749             Harina de Trigo 0000 Caserita 1 Kg       1.0 kg 2022-08-23  \n",
       "3830              Aceite de Girasol Cocinero 900 Ml     900.0 ml 2022-08-16  \n",
       "4577  Yerba Mate Bajo Polvo 4 Flex Mañanita 500 Gr     500.0 gr 2022-08-16  \n",
       "4909     Yerba Mate Suave con Palo Playadito 500 Gr     500.0 gr 2022-08-16  "
      ]
     },
     "execution_count": 23,
     "metadata": {},
     "output_type": "execute_result"
    }
   ],
   "source": [
    "df_suc.head()"
   ]
  },
  {
   "cell_type": "code",
   "execution_count": 24,
   "id": "e1a4b474-ce8d-4cc2-9b33-72792c42de96",
   "metadata": {},
   "outputs": [
    {
     "name": "stdout",
     "output_type": "stream",
     "text": [
      "size:19435\n",
      "shape:(845, 23)\n"
     ]
    }
   ],
   "source": [
    "#Datos del dataset\n",
    "print(\"size:\"+str(df_suc.size))\n",
    "print(\"shape:\"+str(df_suc.shape))"
   ]
  },
  {
   "cell_type": "code",
   "execution_count": 25,
   "id": "88b457e0-695f-47ca-a1f7-5613dcf48b0a",
   "metadata": {},
   "outputs": [
    {
     "name": "stdout",
     "output_type": "stream",
     "text": [
      "COCINERO shape: (66, 23)\n",
      "LIRA shape: (78, 23)\n",
      "TARAGUI shape: (150, 23)\n",
      "CAÑUELAS shape: (18, 23)\n",
      "MAÑANITA shape: (97, 23)\n",
      "FAVORITA shape: (74, 23)\n",
      "MORIXE shape: (49, 23)\n",
      "CRUZ DE MALTA shape: (52, 23)\n",
      "PLAYADITO shape: (155, 23)\n",
      "LA MERCED shape: (58, 23)\n",
      "CASERITA shape: (48, 23)\n"
     ]
    }
   ],
   "source": [
    "#Vemos registros de cada uno de los datos\n",
    "for marca in lista:\n",
    "    df_temp = df_suc[df_suc['marca']==marca]\n",
    "    print(marca+\" shape: \"+str(df_temp.shape))"
   ]
  },
  {
   "cell_type": "code",
   "execution_count": 26,
   "id": "87a7c232-db4e-43d8-adea-fcbdaf733c88",
   "metadata": {},
   "outputs": [
    {
     "data": {
      "text/html": [
       "<div>\n",
       "<style scoped>\n",
       "    .dataframe tbody tr th:only-of-type {\n",
       "        vertical-align: middle;\n",
       "    }\n",
       "\n",
       "    .dataframe tbody tr th {\n",
       "        vertical-align: top;\n",
       "    }\n",
       "\n",
       "    .dataframe thead th {\n",
       "        text-align: right;\n",
       "    }\n",
       "</style>\n",
       "<table border=\"1\" class=\"dataframe\">\n",
       "  <thead>\n",
       "    <tr style=\"text-align: right;\">\n",
       "      <th></th>\n",
       "      <th>key</th>\n",
       "      <th>bandera_id</th>\n",
       "      <th>lat</th>\n",
       "      <th>lng</th>\n",
       "      <th>sucursalnombre</th>\n",
       "      <th>id_</th>\n",
       "      <th>sucursaltipo</th>\n",
       "      <th>provincia</th>\n",
       "      <th>promo1_descripcion</th>\n",
       "      <th>promo1_precio</th>\n",
       "      <th>preciolista</th>\n",
       "      <th>promo2_descripcion</th>\n",
       "      <th>promo2_precio</th>\n",
       "      <th>actualizadohoy</th>\n",
       "      <th>direccion</th>\n",
       "      <th>banderadescripcion</th>\n",
       "      <th>localidad</th>\n",
       "      <th>comerciorazonsocial</th>\n",
       "      <th>comercioid</th>\n",
       "      <th>marca</th>\n",
       "      <th>nombre</th>\n",
       "      <th>presentacion</th>\n",
       "      <th>fecha</th>\n",
       "    </tr>\n",
       "  </thead>\n",
       "  <tbody>\n",
       "    <tr>\n",
       "      <th>23423</th>\n",
       "      <td>sucursales</td>\n",
       "      <td>1</td>\n",
       "      <td>-43.257504</td>\n",
       "      <td>-65.305489</td>\n",
       "      <td>Trelew</td>\n",
       "      <td>7790387013627</td>\n",
       "      <td>Hipermercado</td>\n",
       "      <td>AR-U</td>\n",
       "      <td></td>\n",
       "      <td>NaN</td>\n",
       "      <td>337.51</td>\n",
       "      <td></td>\n",
       "      <td>NaN</td>\n",
       "      <td>true</td>\n",
       "      <td>Soberanía Nacional 140</td>\n",
       "      <td>Hipermercado Carrefour</td>\n",
       "      <td>Trelew</td>\n",
       "      <td>INC S.A.</td>\n",
       "      <td>10</td>\n",
       "      <td>TARAGUI</td>\n",
       "      <td>Yerba Mate con Palo 4Flex Taragui 500 Gr</td>\n",
       "      <td>500.0 gr</td>\n",
       "      <td>2022-08-16</td>\n",
       "    </tr>\n",
       "    <tr>\n",
       "      <th>36473</th>\n",
       "      <td>sucursales</td>\n",
       "      <td>1</td>\n",
       "      <td>-43.257504</td>\n",
       "      <td>-65.305489</td>\n",
       "      <td>Trelew</td>\n",
       "      <td>7790387013627</td>\n",
       "      <td>Hipermercado</td>\n",
       "      <td>AR-U</td>\n",
       "      <td></td>\n",
       "      <td>NaN</td>\n",
       "      <td>337.51</td>\n",
       "      <td></td>\n",
       "      <td>NaN</td>\n",
       "      <td>true</td>\n",
       "      <td>Soberanía Nacional 140</td>\n",
       "      <td>Hipermercado Carrefour</td>\n",
       "      <td>Trelew</td>\n",
       "      <td>INC S.A.</td>\n",
       "      <td>10</td>\n",
       "      <td>TARAGUI</td>\n",
       "      <td>Yerba Mate con Palo 4Flex Taragui 500 Gr</td>\n",
       "      <td>500.0 gr</td>\n",
       "      <td>2022-08-17</td>\n",
       "    </tr>\n",
       "    <tr>\n",
       "      <th>49498</th>\n",
       "      <td>sucursales</td>\n",
       "      <td>1</td>\n",
       "      <td>-43.257504</td>\n",
       "      <td>-65.305489</td>\n",
       "      <td>Trelew</td>\n",
       "      <td>7790387013627</td>\n",
       "      <td>Hipermercado</td>\n",
       "      <td>AR-U</td>\n",
       "      <td></td>\n",
       "      <td>NaN</td>\n",
       "      <td>337.51</td>\n",
       "      <td></td>\n",
       "      <td>NaN</td>\n",
       "      <td>true</td>\n",
       "      <td>Soberanía Nacional 140</td>\n",
       "      <td>Hipermercado Carrefour</td>\n",
       "      <td>Trelew</td>\n",
       "      <td>INC S.A.</td>\n",
       "      <td>10</td>\n",
       "      <td>TARAGUI</td>\n",
       "      <td>Yerba Mate con Palo 4Flex Taragui 500 Gr</td>\n",
       "      <td>500.0 gr</td>\n",
       "      <td>2022-08-18</td>\n",
       "    </tr>\n",
       "    <tr>\n",
       "      <th>62715</th>\n",
       "      <td>sucursales</td>\n",
       "      <td>1</td>\n",
       "      <td>-43.257504</td>\n",
       "      <td>-65.305489</td>\n",
       "      <td>Trelew</td>\n",
       "      <td>7790387013627</td>\n",
       "      <td>Hipermercado</td>\n",
       "      <td>AR-U</td>\n",
       "      <td></td>\n",
       "      <td>NaN</td>\n",
       "      <td>337.51</td>\n",
       "      <td></td>\n",
       "      <td>NaN</td>\n",
       "      <td>true</td>\n",
       "      <td>Soberanía Nacional 140</td>\n",
       "      <td>Hipermercado Carrefour</td>\n",
       "      <td>Trelew</td>\n",
       "      <td>INC S.A.</td>\n",
       "      <td>10</td>\n",
       "      <td>TARAGUI</td>\n",
       "      <td>Yerba Mate con Palo 4Flex Taragui 500 Gr</td>\n",
       "      <td>500.0 gr</td>\n",
       "      <td>2022-08-19</td>\n",
       "    </tr>\n",
       "    <tr>\n",
       "      <th>72741</th>\n",
       "      <td>sucursales</td>\n",
       "      <td>1</td>\n",
       "      <td>-43.257504</td>\n",
       "      <td>-65.305489</td>\n",
       "      <td>Trelew</td>\n",
       "      <td>7790387013627</td>\n",
       "      <td>Hipermercado</td>\n",
       "      <td>AR-U</td>\n",
       "      <td></td>\n",
       "      <td>NaN</td>\n",
       "      <td>327.68</td>\n",
       "      <td></td>\n",
       "      <td>NaN</td>\n",
       "      <td>true</td>\n",
       "      <td>Soberanía Nacional 140</td>\n",
       "      <td>Hipermercado Carrefour</td>\n",
       "      <td>Trelew</td>\n",
       "      <td>INC S.A.</td>\n",
       "      <td>10</td>\n",
       "      <td>TARAGUI</td>\n",
       "      <td>Yerba Mate con Palo 4Flex Taragui 500 Gr</td>\n",
       "      <td>500.0 gr</td>\n",
       "      <td>2022-07-17</td>\n",
       "    </tr>\n",
       "  </tbody>\n",
       "</table>\n",
       "</div>"
      ],
      "text/plain": [
       "              key bandera_id        lat        lng sucursalnombre  \\\n",
       "23423  sucursales          1 -43.257504 -65.305489         Trelew   \n",
       "36473  sucursales          1 -43.257504 -65.305489         Trelew   \n",
       "49498  sucursales          1 -43.257504 -65.305489         Trelew   \n",
       "62715  sucursales          1 -43.257504 -65.305489         Trelew   \n",
       "72741  sucursales          1 -43.257504 -65.305489         Trelew   \n",
       "\n",
       "                 id_  sucursaltipo provincia promo1_descripcion  \\\n",
       "23423  7790387013627  Hipermercado      AR-U                      \n",
       "36473  7790387013627  Hipermercado      AR-U                      \n",
       "49498  7790387013627  Hipermercado      AR-U                      \n",
       "62715  7790387013627  Hipermercado      AR-U                      \n",
       "72741  7790387013627  Hipermercado      AR-U                      \n",
       "\n",
       "       promo1_precio  preciolista promo2_descripcion  promo2_precio  \\\n",
       "23423            NaN       337.51                               NaN   \n",
       "36473            NaN       337.51                               NaN   \n",
       "49498            NaN       337.51                               NaN   \n",
       "62715            NaN       337.51                               NaN   \n",
       "72741            NaN       327.68                               NaN   \n",
       "\n",
       "      actualizadohoy               direccion      banderadescripcion  \\\n",
       "23423           true  Soberanía Nacional 140  Hipermercado Carrefour   \n",
       "36473           true  Soberanía Nacional 140  Hipermercado Carrefour   \n",
       "49498           true  Soberanía Nacional 140  Hipermercado Carrefour   \n",
       "62715           true  Soberanía Nacional 140  Hipermercado Carrefour   \n",
       "72741           true  Soberanía Nacional 140  Hipermercado Carrefour   \n",
       "\n",
       "      localidad comerciorazonsocial comercioid    marca  \\\n",
       "23423    Trelew            INC S.A.         10  TARAGUI   \n",
       "36473    Trelew            INC S.A.         10  TARAGUI   \n",
       "49498    Trelew            INC S.A.         10  TARAGUI   \n",
       "62715    Trelew            INC S.A.         10  TARAGUI   \n",
       "72741    Trelew            INC S.A.         10  TARAGUI   \n",
       "\n",
       "                                         nombre presentacion      fecha  \n",
       "23423  Yerba Mate con Palo 4Flex Taragui 500 Gr     500.0 gr 2022-08-16  \n",
       "36473  Yerba Mate con Palo 4Flex Taragui 500 Gr     500.0 gr 2022-08-17  \n",
       "49498  Yerba Mate con Palo 4Flex Taragui 500 Gr     500.0 gr 2022-08-18  \n",
       "62715  Yerba Mate con Palo 4Flex Taragui 500 Gr     500.0 gr 2022-08-19  \n",
       "72741  Yerba Mate con Palo 4Flex Taragui 500 Gr     500.0 gr 2022-07-17  "
      ]
     },
     "execution_count": 26,
     "metadata": {},
     "output_type": "execute_result"
    }
   ],
   "source": [
    "#Tomo la yerba taragui para predecir \n",
    "df_t = df_suc[df_suc['marca']=='TARAGUI']\n",
    "df_t = df_t[df_t['comercioid']=='10']\n",
    "df_t.head()"
   ]
  },
  {
   "cell_type": "code",
   "execution_count": 27,
   "id": "35de2009-28c6-409a-bd48-e69c294df1cb",
   "metadata": {},
   "outputs": [
    {
     "data": {
      "text/plain": [
       "(56, 23)"
      ]
     },
     "execution_count": 27,
     "metadata": {},
     "output_type": "execute_result"
    }
   ],
   "source": [
    "df_t.shape"
   ]
  },
  {
   "cell_type": "code",
   "execution_count": 28,
   "id": "11cb9e96-4741-4d41-b162-c5f2e04e3f1c",
   "metadata": {
    "tags": []
   },
   "outputs": [],
   "source": [
    "#Ordeno por fecha\n",
    "df_t = df_t.sort_values(by='fecha')"
   ]
  },
  {
   "cell_type": "code",
   "execution_count": 29,
   "id": "06fce425-f3c1-405e-a989-561eba6ca1a0",
   "metadata": {},
   "outputs": [],
   "source": [
    "#Redondeo variable precio de lista y agrego feature aumento\n",
    "df_t['preciolista']=df_t['preciolista'].round(2)\n",
    "\n",
    "df_t['aumento'] = (df_t['preciolista'].shift()!=df_t['preciolista'])"
   ]
  },
  {
   "cell_type": "code",
   "execution_count": 30,
   "id": "d7d2ef7a-40c0-4de1-9427-4d91a10714fb",
   "metadata": {},
   "outputs": [
    {
     "data": {
      "text/html": [
       "<div>\n",
       "<style scoped>\n",
       "    .dataframe tbody tr th:only-of-type {\n",
       "        vertical-align: middle;\n",
       "    }\n",
       "\n",
       "    .dataframe tbody tr th {\n",
       "        vertical-align: top;\n",
       "    }\n",
       "\n",
       "    .dataframe thead th {\n",
       "        text-align: right;\n",
       "    }\n",
       "</style>\n",
       "<table border=\"1\" class=\"dataframe\">\n",
       "  <thead>\n",
       "    <tr style=\"text-align: right;\">\n",
       "      <th></th>\n",
       "      <th>key</th>\n",
       "      <th>bandera_id</th>\n",
       "      <th>lat</th>\n",
       "      <th>lng</th>\n",
       "      <th>sucursalnombre</th>\n",
       "      <th>id_</th>\n",
       "      <th>sucursaltipo</th>\n",
       "      <th>provincia</th>\n",
       "      <th>promo1_descripcion</th>\n",
       "      <th>promo1_precio</th>\n",
       "      <th>preciolista</th>\n",
       "      <th>promo2_descripcion</th>\n",
       "      <th>promo2_precio</th>\n",
       "      <th>actualizadohoy</th>\n",
       "      <th>direccion</th>\n",
       "      <th>banderadescripcion</th>\n",
       "      <th>localidad</th>\n",
       "      <th>comerciorazonsocial</th>\n",
       "      <th>comercioid</th>\n",
       "      <th>marca</th>\n",
       "      <th>nombre</th>\n",
       "      <th>presentacion</th>\n",
       "      <th>fecha</th>\n",
       "      <th>aumento</th>\n",
       "    </tr>\n",
       "  </thead>\n",
       "  <tbody>\n",
       "    <tr>\n",
       "      <th>561834</th>\n",
       "      <td>sucursales</td>\n",
       "      <td>1</td>\n",
       "      <td>-43.257504</td>\n",
       "      <td>-65.305489</td>\n",
       "      <td>Trelew</td>\n",
       "      <td>7790387013627</td>\n",
       "      <td>Hipermercado</td>\n",
       "      <td>AR-U</td>\n",
       "      <td></td>\n",
       "      <td>NaN</td>\n",
       "      <td>309.14</td>\n",
       "      <td></td>\n",
       "      <td>NaN</td>\n",
       "      <td>true</td>\n",
       "      <td>Soberanía Nacional 140</td>\n",
       "      <td>Hipermercado Carrefour</td>\n",
       "      <td>Trelew</td>\n",
       "      <td>INC S.A.</td>\n",
       "      <td>10</td>\n",
       "      <td>TARAGUI</td>\n",
       "      <td>Yerba Mate con Palo 4Flex Taragui 500 Gr</td>\n",
       "      <td>500.0 gr</td>\n",
       "      <td>2022-06-11</td>\n",
       "      <td>True</td>\n",
       "    </tr>\n",
       "    <tr>\n",
       "      <th>586950</th>\n",
       "      <td>sucursales</td>\n",
       "      <td>1</td>\n",
       "      <td>-43.257504</td>\n",
       "      <td>-65.305489</td>\n",
       "      <td>Trelew</td>\n",
       "      <td>7790387013627</td>\n",
       "      <td>Hipermercado</td>\n",
       "      <td>AR-U</td>\n",
       "      <td></td>\n",
       "      <td>NaN</td>\n",
       "      <td>309.14</td>\n",
       "      <td></td>\n",
       "      <td>NaN</td>\n",
       "      <td>true</td>\n",
       "      <td>Soberanía Nacional 140</td>\n",
       "      <td>Hipermercado Carrefour</td>\n",
       "      <td>Trelew</td>\n",
       "      <td>INC S.A.</td>\n",
       "      <td>10</td>\n",
       "      <td>TARAGUI</td>\n",
       "      <td>Yerba Mate con Palo 4Flex Taragui 500 Gr</td>\n",
       "      <td>500.0 gr</td>\n",
       "      <td>2022-06-12</td>\n",
       "      <td>False</td>\n",
       "    </tr>\n",
       "    <tr>\n",
       "      <th>665904</th>\n",
       "      <td>sucursales</td>\n",
       "      <td>1</td>\n",
       "      <td>-43.257504</td>\n",
       "      <td>-65.305489</td>\n",
       "      <td>Trelew</td>\n",
       "      <td>7790387013627</td>\n",
       "      <td>Hipermercado</td>\n",
       "      <td>AR-U</td>\n",
       "      <td></td>\n",
       "      <td>NaN</td>\n",
       "      <td>309.14</td>\n",
       "      <td></td>\n",
       "      <td>NaN</td>\n",
       "      <td>true</td>\n",
       "      <td>Soberanía Nacional 140</td>\n",
       "      <td>Hipermercado Carrefour</td>\n",
       "      <td>Trelew</td>\n",
       "      <td>INC S.A.</td>\n",
       "      <td>10</td>\n",
       "      <td>TARAGUI</td>\n",
       "      <td>Yerba Mate con Palo 4Flex Taragui 500 Gr</td>\n",
       "      <td>500.0 gr</td>\n",
       "      <td>2022-06-13</td>\n",
       "      <td>False</td>\n",
       "    </tr>\n",
       "    <tr>\n",
       "      <th>672826</th>\n",
       "      <td>sucursales</td>\n",
       "      <td>1</td>\n",
       "      <td>-43.257504</td>\n",
       "      <td>-65.305489</td>\n",
       "      <td>Trelew</td>\n",
       "      <td>7790387013627</td>\n",
       "      <td>Hipermercado</td>\n",
       "      <td>AR-U</td>\n",
       "      <td></td>\n",
       "      <td>NaN</td>\n",
       "      <td>309.14</td>\n",
       "      <td></td>\n",
       "      <td>NaN</td>\n",
       "      <td>true</td>\n",
       "      <td>Soberanía Nacional 140</td>\n",
       "      <td>Hipermercado Carrefour</td>\n",
       "      <td>Trelew</td>\n",
       "      <td>INC S.A.</td>\n",
       "      <td>10</td>\n",
       "      <td>TARAGUI</td>\n",
       "      <td>Yerba Mate con Palo 4Flex Taragui 500 Gr</td>\n",
       "      <td>500.0 gr</td>\n",
       "      <td>2022-06-14</td>\n",
       "      <td>False</td>\n",
       "    </tr>\n",
       "    <tr>\n",
       "      <th>679755</th>\n",
       "      <td>sucursales</td>\n",
       "      <td>1</td>\n",
       "      <td>-43.257504</td>\n",
       "      <td>-65.305489</td>\n",
       "      <td>Trelew</td>\n",
       "      <td>7790387013627</td>\n",
       "      <td>Hipermercado</td>\n",
       "      <td>AR-U</td>\n",
       "      <td></td>\n",
       "      <td>NaN</td>\n",
       "      <td>309.14</td>\n",
       "      <td></td>\n",
       "      <td>NaN</td>\n",
       "      <td>true</td>\n",
       "      <td>Soberanía Nacional 140</td>\n",
       "      <td>Hipermercado Carrefour</td>\n",
       "      <td>Trelew</td>\n",
       "      <td>INC S.A.</td>\n",
       "      <td>10</td>\n",
       "      <td>TARAGUI</td>\n",
       "      <td>Yerba Mate con Palo 4Flex Taragui 500 Gr</td>\n",
       "      <td>500.0 gr</td>\n",
       "      <td>2022-06-16</td>\n",
       "      <td>False</td>\n",
       "    </tr>\n",
       "  </tbody>\n",
       "</table>\n",
       "</div>"
      ],
      "text/plain": [
       "               key bandera_id        lat        lng sucursalnombre  \\\n",
       "561834  sucursales          1 -43.257504 -65.305489         Trelew   \n",
       "586950  sucursales          1 -43.257504 -65.305489         Trelew   \n",
       "665904  sucursales          1 -43.257504 -65.305489         Trelew   \n",
       "672826  sucursales          1 -43.257504 -65.305489         Trelew   \n",
       "679755  sucursales          1 -43.257504 -65.305489         Trelew   \n",
       "\n",
       "                  id_  sucursaltipo provincia promo1_descripcion  \\\n",
       "561834  7790387013627  Hipermercado      AR-U                      \n",
       "586950  7790387013627  Hipermercado      AR-U                      \n",
       "665904  7790387013627  Hipermercado      AR-U                      \n",
       "672826  7790387013627  Hipermercado      AR-U                      \n",
       "679755  7790387013627  Hipermercado      AR-U                      \n",
       "\n",
       "        promo1_precio  preciolista promo2_descripcion  promo2_precio  \\\n",
       "561834            NaN       309.14                               NaN   \n",
       "586950            NaN       309.14                               NaN   \n",
       "665904            NaN       309.14                               NaN   \n",
       "672826            NaN       309.14                               NaN   \n",
       "679755            NaN       309.14                               NaN   \n",
       "\n",
       "       actualizadohoy               direccion      banderadescripcion  \\\n",
       "561834           true  Soberanía Nacional 140  Hipermercado Carrefour   \n",
       "586950           true  Soberanía Nacional 140  Hipermercado Carrefour   \n",
       "665904           true  Soberanía Nacional 140  Hipermercado Carrefour   \n",
       "672826           true  Soberanía Nacional 140  Hipermercado Carrefour   \n",
       "679755           true  Soberanía Nacional 140  Hipermercado Carrefour   \n",
       "\n",
       "       localidad comerciorazonsocial comercioid    marca  \\\n",
       "561834    Trelew            INC S.A.         10  TARAGUI   \n",
       "586950    Trelew            INC S.A.         10  TARAGUI   \n",
       "665904    Trelew            INC S.A.         10  TARAGUI   \n",
       "672826    Trelew            INC S.A.         10  TARAGUI   \n",
       "679755    Trelew            INC S.A.         10  TARAGUI   \n",
       "\n",
       "                                          nombre presentacion      fecha  \\\n",
       "561834  Yerba Mate con Palo 4Flex Taragui 500 Gr     500.0 gr 2022-06-11   \n",
       "586950  Yerba Mate con Palo 4Flex Taragui 500 Gr     500.0 gr 2022-06-12   \n",
       "665904  Yerba Mate con Palo 4Flex Taragui 500 Gr     500.0 gr 2022-06-13   \n",
       "672826  Yerba Mate con Palo 4Flex Taragui 500 Gr     500.0 gr 2022-06-14   \n",
       "679755  Yerba Mate con Palo 4Flex Taragui 500 Gr     500.0 gr 2022-06-16   \n",
       "\n",
       "        aumento  \n",
       "561834     True  \n",
       "586950    False  \n",
       "665904    False  \n",
       "672826    False  \n",
       "679755    False  "
      ]
     },
     "execution_count": 30,
     "metadata": {},
     "output_type": "execute_result"
    }
   ],
   "source": [
    "df_t.head()"
   ]
  },
  {
   "cell_type": "code",
   "execution_count": 31,
   "id": "48692c1e-7d5e-48cf-a03a-1624a6f95ab4",
   "metadata": {},
   "outputs": [
    {
     "data": {
      "text/plain": [
       "Index(['key', 'bandera_id', 'lat', 'lng', 'sucursalnombre', 'id_',\n",
       "       'sucursaltipo', 'provincia', 'promo1_descripcion', 'promo1_precio',\n",
       "       'preciolista', 'promo2_descripcion', 'promo2_precio', 'actualizadohoy',\n",
       "       'direccion', 'banderadescripcion', 'localidad', 'comerciorazonsocial',\n",
       "       'comercioid', 'marca', 'nombre', 'presentacion', 'fecha'],\n",
       "      dtype='object')"
      ]
     },
     "execution_count": 31,
     "metadata": {},
     "output_type": "execute_result"
    }
   ],
   "source": [
    "df.keys()"
   ]
  },
  {
   "cell_type": "code",
   "execution_count": 32,
   "id": "42bd51ba-3c0a-413e-b2ee-1732a259bb4a",
   "metadata": {},
   "outputs": [
    {
     "name": "stdout",
     "output_type": "stream",
     "text": [
      "['COCINERO' 'LIRA' 'TARAGUI' 'CAÑUELAS' 'MAÑANITA' 'FAVORITA' 'MORIXE'\n",
      " 'CRUZ DE MALTA' 'PLAYADITO' 'LA MERCED' 'CASERITA']\n",
      "['384 - BALVANERA' '386 - VILLA LUGANO' '387 - PARQUE AVELLANEDA' ...\n",
      " 'Ituzaingó II' 'Banfield [Maipu 339/337]' 'SuperCentral.Tapalque']\n",
      "['15' '5' '12' '6' '10' '9' '11' '36' '16' '2' '14' '13' '19' '21' '20'\n",
      " '49' '50' '7' '1' '18' '3' '35' '4' '44' '45' '46' '47' '24' '8' '65'\n",
      " '25' '29' '23' '17']\n"
     ]
    }
   ],
   "source": [
    "l_marcas = []\n",
    "l_marcas = df['marca'].unique()\n",
    "\n",
    "l_suc = []\n",
    "l_suc = df['sucursalnombre'].unique()\n",
    "\n",
    "l_comercioid = []\n",
    "l_comercioid = df['comercioid'].unique()\n",
    "\n",
    "\n",
    "print(l_marcas)\n",
    "\n",
    "print(l_suc)\n",
    "\n",
    "print(l_comercioid)"
   ]
  },
  {
   "cell_type": "code",
   "execution_count": 33,
   "id": "10231d59-8954-43b1-8d74-07e0582cc8b0",
   "metadata": {},
   "outputs": [],
   "source": [
    "df2 = df.sort_values(['marca', 'sucursalnombre','comercioid','fecha'],\n",
    "              ascending = [True, True, True, True])"
   ]
  },
  {
   "cell_type": "code",
   "execution_count": 34,
   "id": "0e63fa28-569d-4dd3-ab7e-599e319979e2",
   "metadata": {},
   "outputs": [
    {
     "data": {
      "text/html": [
       "<div>\n",
       "<style scoped>\n",
       "    .dataframe tbody tr th:only-of-type {\n",
       "        vertical-align: middle;\n",
       "    }\n",
       "\n",
       "    .dataframe tbody tr th {\n",
       "        vertical-align: top;\n",
       "    }\n",
       "\n",
       "    .dataframe thead th {\n",
       "        text-align: right;\n",
       "    }\n",
       "</style>\n",
       "<table border=\"1\" class=\"dataframe\">\n",
       "  <thead>\n",
       "    <tr style=\"text-align: right;\">\n",
       "      <th></th>\n",
       "      <th>key</th>\n",
       "      <th>bandera_id</th>\n",
       "      <th>lat</th>\n",
       "      <th>lng</th>\n",
       "      <th>sucursalnombre</th>\n",
       "      <th>id_</th>\n",
       "      <th>sucursaltipo</th>\n",
       "      <th>provincia</th>\n",
       "      <th>promo1_descripcion</th>\n",
       "      <th>promo1_precio</th>\n",
       "      <th>preciolista</th>\n",
       "      <th>promo2_descripcion</th>\n",
       "      <th>promo2_precio</th>\n",
       "      <th>actualizadohoy</th>\n",
       "      <th>direccion</th>\n",
       "      <th>banderadescripcion</th>\n",
       "      <th>localidad</th>\n",
       "      <th>comerciorazonsocial</th>\n",
       "      <th>comercioid</th>\n",
       "      <th>marca</th>\n",
       "      <th>nombre</th>\n",
       "      <th>presentacion</th>\n",
       "      <th>fecha</th>\n",
       "    </tr>\n",
       "  </thead>\n",
       "  <tbody>\n",
       "    <tr>\n",
       "      <th>550504</th>\n",
       "      <td>sucursales</td>\n",
       "      <td>1</td>\n",
       "      <td>-34.597137</td>\n",
       "      <td>-58.497643</td>\n",
       "      <td>1 - VILLA DEL PARQUE</td>\n",
       "      <td>7792590000227</td>\n",
       "      <td>Autoservicio</td>\n",
       "      <td>AR-C</td>\n",
       "      <td></td>\n",
       "      <td>NaN</td>\n",
       "      <td>145.8</td>\n",
       "      <td>(0% de descuento).</td>\n",
       "      <td>145.80</td>\n",
       "      <td>true</td>\n",
       "      <td>Cl Beiro 3146</td>\n",
       "      <td>Supermercados DIA</td>\n",
       "      <td>CAPITAL FEDERAL</td>\n",
       "      <td>DIA Argentina S.A</td>\n",
       "      <td>15</td>\n",
       "      <td>CASERITA</td>\n",
       "      <td>Harina de Trigo 0000 Caserita 1 Kg</td>\n",
       "      <td>1.0 kg</td>\n",
       "      <td>2022-06-11</td>\n",
       "    </tr>\n",
       "    <tr>\n",
       "      <th>573274</th>\n",
       "      <td>sucursales</td>\n",
       "      <td>1</td>\n",
       "      <td>-34.597137</td>\n",
       "      <td>-58.497643</td>\n",
       "      <td>1 - VILLA DEL PARQUE</td>\n",
       "      <td>7792590000227</td>\n",
       "      <td>Autoservicio</td>\n",
       "      <td>AR-C</td>\n",
       "      <td></td>\n",
       "      <td>NaN</td>\n",
       "      <td>145.8</td>\n",
       "      <td>(0% de descuento).</td>\n",
       "      <td>145.80</td>\n",
       "      <td>true</td>\n",
       "      <td>Cl Beiro 3146</td>\n",
       "      <td>Supermercados DIA</td>\n",
       "      <td>CAPITAL FEDERAL</td>\n",
       "      <td>DIA Argentina S.A</td>\n",
       "      <td>15</td>\n",
       "      <td>CASERITA</td>\n",
       "      <td>Harina de Trigo 0000 Caserita 1 Kg</td>\n",
       "      <td>1.0 kg</td>\n",
       "      <td>2022-06-12</td>\n",
       "    </tr>\n",
       "    <tr>\n",
       "      <th>623875</th>\n",
       "      <td>sucursales</td>\n",
       "      <td>1</td>\n",
       "      <td>-34.597137</td>\n",
       "      <td>-58.497643</td>\n",
       "      <td>1 - VILLA DEL PARQUE</td>\n",
       "      <td>7792590000227</td>\n",
       "      <td>Autoservicio</td>\n",
       "      <td>AR-C</td>\n",
       "      <td></td>\n",
       "      <td>NaN</td>\n",
       "      <td>145.8</td>\n",
       "      <td>(15% de descuento). Abonando con tarjeta CREDI...</td>\n",
       "      <td>123.93</td>\n",
       "      <td>true</td>\n",
       "      <td>Cl Beiro 3146</td>\n",
       "      <td>Supermercados DIA</td>\n",
       "      <td>CAPITAL FEDERAL</td>\n",
       "      <td>DIA Argentina S.A</td>\n",
       "      <td>15</td>\n",
       "      <td>CASERITA</td>\n",
       "      <td>Harina de Trigo 0000 Caserita 1 Kg</td>\n",
       "      <td>1.0 kg</td>\n",
       "      <td>2022-06-13</td>\n",
       "    </tr>\n",
       "    <tr>\n",
       "      <th>636589</th>\n",
       "      <td>sucursales</td>\n",
       "      <td>1</td>\n",
       "      <td>-34.597137</td>\n",
       "      <td>-58.497643</td>\n",
       "      <td>1 - VILLA DEL PARQUE</td>\n",
       "      <td>7792590000227</td>\n",
       "      <td>Autoservicio</td>\n",
       "      <td>AR-C</td>\n",
       "      <td></td>\n",
       "      <td>NaN</td>\n",
       "      <td>145.8</td>\n",
       "      <td>(15% de descuento). Abonando con tarjeta de Ba...</td>\n",
       "      <td>123.93</td>\n",
       "      <td>true</td>\n",
       "      <td>Cl Beiro 3146</td>\n",
       "      <td>Supermercados DIA</td>\n",
       "      <td>CAPITAL FEDERAL</td>\n",
       "      <td>DIA Argentina S.A</td>\n",
       "      <td>15</td>\n",
       "      <td>CASERITA</td>\n",
       "      <td>Harina de Trigo 0000 Caserita 1 Kg</td>\n",
       "      <td>1.0 kg</td>\n",
       "      <td>2022-06-14</td>\n",
       "    </tr>\n",
       "    <tr>\n",
       "      <th>648469</th>\n",
       "      <td>sucursales</td>\n",
       "      <td>1</td>\n",
       "      <td>-34.597137</td>\n",
       "      <td>-58.497643</td>\n",
       "      <td>1 - VILLA DEL PARQUE</td>\n",
       "      <td>7792590000227</td>\n",
       "      <td>Autoservicio</td>\n",
       "      <td>AR-C</td>\n",
       "      <td></td>\n",
       "      <td>NaN</td>\n",
       "      <td>145.8</td>\n",
       "      <td>(0% de descuento).</td>\n",
       "      <td>145.80</td>\n",
       "      <td>true</td>\n",
       "      <td>Cl Beiro 3146</td>\n",
       "      <td>Supermercados DIA</td>\n",
       "      <td>CAPITAL FEDERAL</td>\n",
       "      <td>DIA Argentina S.A</td>\n",
       "      <td>15</td>\n",
       "      <td>CASERITA</td>\n",
       "      <td>Harina de Trigo 0000 Caserita 1 Kg</td>\n",
       "      <td>1.0 kg</td>\n",
       "      <td>2022-06-16</td>\n",
       "    </tr>\n",
       "  </tbody>\n",
       "</table>\n",
       "</div>"
      ],
      "text/plain": [
       "               key bandera_id        lat        lng        sucursalnombre  \\\n",
       "550504  sucursales          1 -34.597137 -58.497643  1 - VILLA DEL PARQUE   \n",
       "573274  sucursales          1 -34.597137 -58.497643  1 - VILLA DEL PARQUE   \n",
       "623875  sucursales          1 -34.597137 -58.497643  1 - VILLA DEL PARQUE   \n",
       "636589  sucursales          1 -34.597137 -58.497643  1 - VILLA DEL PARQUE   \n",
       "648469  sucursales          1 -34.597137 -58.497643  1 - VILLA DEL PARQUE   \n",
       "\n",
       "                  id_  sucursaltipo provincia promo1_descripcion  \\\n",
       "550504  7792590000227  Autoservicio      AR-C                      \n",
       "573274  7792590000227  Autoservicio      AR-C                      \n",
       "623875  7792590000227  Autoservicio      AR-C                      \n",
       "636589  7792590000227  Autoservicio      AR-C                      \n",
       "648469  7792590000227  Autoservicio      AR-C                      \n",
       "\n",
       "        promo1_precio  preciolista  \\\n",
       "550504            NaN        145.8   \n",
       "573274            NaN        145.8   \n",
       "623875            NaN        145.8   \n",
       "636589            NaN        145.8   \n",
       "648469            NaN        145.8   \n",
       "\n",
       "                                       promo2_descripcion  promo2_precio  \\\n",
       "550504                                 (0% de descuento).         145.80   \n",
       "573274                                 (0% de descuento).         145.80   \n",
       "623875  (15% de descuento). Abonando con tarjeta CREDI...         123.93   \n",
       "636589  (15% de descuento). Abonando con tarjeta de Ba...         123.93   \n",
       "648469                                 (0% de descuento).         145.80   \n",
       "\n",
       "       actualizadohoy      direccion banderadescripcion        localidad  \\\n",
       "550504           true  Cl Beiro 3146  Supermercados DIA  CAPITAL FEDERAL   \n",
       "573274           true  Cl Beiro 3146  Supermercados DIA  CAPITAL FEDERAL   \n",
       "623875           true  Cl Beiro 3146  Supermercados DIA  CAPITAL FEDERAL   \n",
       "636589           true  Cl Beiro 3146  Supermercados DIA  CAPITAL FEDERAL   \n",
       "648469           true  Cl Beiro 3146  Supermercados DIA  CAPITAL FEDERAL   \n",
       "\n",
       "       comerciorazonsocial comercioid     marca  \\\n",
       "550504   DIA Argentina S.A         15  CASERITA   \n",
       "573274   DIA Argentina S.A         15  CASERITA   \n",
       "623875   DIA Argentina S.A         15  CASERITA   \n",
       "636589   DIA Argentina S.A         15  CASERITA   \n",
       "648469   DIA Argentina S.A         15  CASERITA   \n",
       "\n",
       "                                    nombre presentacion      fecha  \n",
       "550504  Harina de Trigo 0000 Caserita 1 Kg       1.0 kg 2022-06-11  \n",
       "573274  Harina de Trigo 0000 Caserita 1 Kg       1.0 kg 2022-06-12  \n",
       "623875  Harina de Trigo 0000 Caserita 1 Kg       1.0 kg 2022-06-13  \n",
       "636589  Harina de Trigo 0000 Caserita 1 Kg       1.0 kg 2022-06-14  \n",
       "648469  Harina de Trigo 0000 Caserita 1 Kg       1.0 kg 2022-06-16  "
      ]
     },
     "execution_count": 34,
     "metadata": {},
     "output_type": "execute_result"
    }
   ],
   "source": [
    "df2.head()"
   ]
  },
  {
   "cell_type": "code",
   "execution_count": 35,
   "id": "4efd86ec-c98d-4e19-acdb-2c974f6e8e42",
   "metadata": {},
   "outputs": [
    {
     "data": {
      "text/html": [
       "<div>\n",
       "<style scoped>\n",
       "    .dataframe tbody tr th:only-of-type {\n",
       "        vertical-align: middle;\n",
       "    }\n",
       "\n",
       "    .dataframe tbody tr th {\n",
       "        vertical-align: top;\n",
       "    }\n",
       "\n",
       "    .dataframe thead th {\n",
       "        text-align: right;\n",
       "    }\n",
       "</style>\n",
       "<table border=\"1\" class=\"dataframe\">\n",
       "  <thead>\n",
       "    <tr style=\"text-align: right;\">\n",
       "      <th></th>\n",
       "      <th>key</th>\n",
       "      <th>bandera_id</th>\n",
       "      <th>lat</th>\n",
       "      <th>lng</th>\n",
       "      <th>sucursalnombre</th>\n",
       "      <th>id_</th>\n",
       "      <th>sucursaltipo</th>\n",
       "      <th>provincia</th>\n",
       "      <th>promo1_descripcion</th>\n",
       "      <th>promo1_precio</th>\n",
       "      <th>preciolista</th>\n",
       "      <th>promo2_descripcion</th>\n",
       "      <th>promo2_precio</th>\n",
       "      <th>actualizadohoy</th>\n",
       "      <th>direccion</th>\n",
       "      <th>banderadescripcion</th>\n",
       "      <th>localidad</th>\n",
       "      <th>comerciorazonsocial</th>\n",
       "      <th>comercioid</th>\n",
       "      <th>marca</th>\n",
       "      <th>nombre</th>\n",
       "      <th>presentacion</th>\n",
       "      <th>fecha</th>\n",
       "    </tr>\n",
       "  </thead>\n",
       "  <tbody>\n",
       "    <tr>\n",
       "      <th>550504</th>\n",
       "      <td>sucursales</td>\n",
       "      <td>1</td>\n",
       "      <td>-34.597137</td>\n",
       "      <td>-58.497643</td>\n",
       "      <td>1 - VILLA DEL PARQUE</td>\n",
       "      <td>7792590000227</td>\n",
       "      <td>Autoservicio</td>\n",
       "      <td>AR-C</td>\n",
       "      <td></td>\n",
       "      <td>NaN</td>\n",
       "      <td>145.8</td>\n",
       "      <td>(0% de descuento).</td>\n",
       "      <td>145.80</td>\n",
       "      <td>true</td>\n",
       "      <td>Cl Beiro 3146</td>\n",
       "      <td>Supermercados DIA</td>\n",
       "      <td>CAPITAL FEDERAL</td>\n",
       "      <td>DIA Argentina S.A</td>\n",
       "      <td>15</td>\n",
       "      <td>CASERITA</td>\n",
       "      <td>Harina de Trigo 0000 Caserita 1 Kg</td>\n",
       "      <td>1.0 kg</td>\n",
       "      <td>2022-06-11</td>\n",
       "    </tr>\n",
       "    <tr>\n",
       "      <th>573274</th>\n",
       "      <td>sucursales</td>\n",
       "      <td>1</td>\n",
       "      <td>-34.597137</td>\n",
       "      <td>-58.497643</td>\n",
       "      <td>1 - VILLA DEL PARQUE</td>\n",
       "      <td>7792590000227</td>\n",
       "      <td>Autoservicio</td>\n",
       "      <td>AR-C</td>\n",
       "      <td></td>\n",
       "      <td>NaN</td>\n",
       "      <td>145.8</td>\n",
       "      <td>(0% de descuento).</td>\n",
       "      <td>145.80</td>\n",
       "      <td>true</td>\n",
       "      <td>Cl Beiro 3146</td>\n",
       "      <td>Supermercados DIA</td>\n",
       "      <td>CAPITAL FEDERAL</td>\n",
       "      <td>DIA Argentina S.A</td>\n",
       "      <td>15</td>\n",
       "      <td>CASERITA</td>\n",
       "      <td>Harina de Trigo 0000 Caserita 1 Kg</td>\n",
       "      <td>1.0 kg</td>\n",
       "      <td>2022-06-12</td>\n",
       "    </tr>\n",
       "    <tr>\n",
       "      <th>623875</th>\n",
       "      <td>sucursales</td>\n",
       "      <td>1</td>\n",
       "      <td>-34.597137</td>\n",
       "      <td>-58.497643</td>\n",
       "      <td>1 - VILLA DEL PARQUE</td>\n",
       "      <td>7792590000227</td>\n",
       "      <td>Autoservicio</td>\n",
       "      <td>AR-C</td>\n",
       "      <td></td>\n",
       "      <td>NaN</td>\n",
       "      <td>145.8</td>\n",
       "      <td>(15% de descuento). Abonando con tarjeta CREDI...</td>\n",
       "      <td>123.93</td>\n",
       "      <td>true</td>\n",
       "      <td>Cl Beiro 3146</td>\n",
       "      <td>Supermercados DIA</td>\n",
       "      <td>CAPITAL FEDERAL</td>\n",
       "      <td>DIA Argentina S.A</td>\n",
       "      <td>15</td>\n",
       "      <td>CASERITA</td>\n",
       "      <td>Harina de Trigo 0000 Caserita 1 Kg</td>\n",
       "      <td>1.0 kg</td>\n",
       "      <td>2022-06-13</td>\n",
       "    </tr>\n",
       "    <tr>\n",
       "      <th>636589</th>\n",
       "      <td>sucursales</td>\n",
       "      <td>1</td>\n",
       "      <td>-34.597137</td>\n",
       "      <td>-58.497643</td>\n",
       "      <td>1 - VILLA DEL PARQUE</td>\n",
       "      <td>7792590000227</td>\n",
       "      <td>Autoservicio</td>\n",
       "      <td>AR-C</td>\n",
       "      <td></td>\n",
       "      <td>NaN</td>\n",
       "      <td>145.8</td>\n",
       "      <td>(15% de descuento). Abonando con tarjeta de Ba...</td>\n",
       "      <td>123.93</td>\n",
       "      <td>true</td>\n",
       "      <td>Cl Beiro 3146</td>\n",
       "      <td>Supermercados DIA</td>\n",
       "      <td>CAPITAL FEDERAL</td>\n",
       "      <td>DIA Argentina S.A</td>\n",
       "      <td>15</td>\n",
       "      <td>CASERITA</td>\n",
       "      <td>Harina de Trigo 0000 Caserita 1 Kg</td>\n",
       "      <td>1.0 kg</td>\n",
       "      <td>2022-06-14</td>\n",
       "    </tr>\n",
       "    <tr>\n",
       "      <th>648469</th>\n",
       "      <td>sucursales</td>\n",
       "      <td>1</td>\n",
       "      <td>-34.597137</td>\n",
       "      <td>-58.497643</td>\n",
       "      <td>1 - VILLA DEL PARQUE</td>\n",
       "      <td>7792590000227</td>\n",
       "      <td>Autoservicio</td>\n",
       "      <td>AR-C</td>\n",
       "      <td></td>\n",
       "      <td>NaN</td>\n",
       "      <td>145.8</td>\n",
       "      <td>(0% de descuento).</td>\n",
       "      <td>145.80</td>\n",
       "      <td>true</td>\n",
       "      <td>Cl Beiro 3146</td>\n",
       "      <td>Supermercados DIA</td>\n",
       "      <td>CAPITAL FEDERAL</td>\n",
       "      <td>DIA Argentina S.A</td>\n",
       "      <td>15</td>\n",
       "      <td>CASERITA</td>\n",
       "      <td>Harina de Trigo 0000 Caserita 1 Kg</td>\n",
       "      <td>1.0 kg</td>\n",
       "      <td>2022-06-16</td>\n",
       "    </tr>\n",
       "  </tbody>\n",
       "</table>\n",
       "</div>"
      ],
      "text/plain": [
       "               key bandera_id        lat        lng        sucursalnombre  \\\n",
       "550504  sucursales          1 -34.597137 -58.497643  1 - VILLA DEL PARQUE   \n",
       "573274  sucursales          1 -34.597137 -58.497643  1 - VILLA DEL PARQUE   \n",
       "623875  sucursales          1 -34.597137 -58.497643  1 - VILLA DEL PARQUE   \n",
       "636589  sucursales          1 -34.597137 -58.497643  1 - VILLA DEL PARQUE   \n",
       "648469  sucursales          1 -34.597137 -58.497643  1 - VILLA DEL PARQUE   \n",
       "\n",
       "                  id_  sucursaltipo provincia promo1_descripcion  \\\n",
       "550504  7792590000227  Autoservicio      AR-C                      \n",
       "573274  7792590000227  Autoservicio      AR-C                      \n",
       "623875  7792590000227  Autoservicio      AR-C                      \n",
       "636589  7792590000227  Autoservicio      AR-C                      \n",
       "648469  7792590000227  Autoservicio      AR-C                      \n",
       "\n",
       "        promo1_precio  preciolista  \\\n",
       "550504            NaN        145.8   \n",
       "573274            NaN        145.8   \n",
       "623875            NaN        145.8   \n",
       "636589            NaN        145.8   \n",
       "648469            NaN        145.8   \n",
       "\n",
       "                                       promo2_descripcion  promo2_precio  \\\n",
       "550504                                 (0% de descuento).         145.80   \n",
       "573274                                 (0% de descuento).         145.80   \n",
       "623875  (15% de descuento). Abonando con tarjeta CREDI...         123.93   \n",
       "636589  (15% de descuento). Abonando con tarjeta de Ba...         123.93   \n",
       "648469                                 (0% de descuento).         145.80   \n",
       "\n",
       "       actualizadohoy      direccion banderadescripcion        localidad  \\\n",
       "550504           true  Cl Beiro 3146  Supermercados DIA  CAPITAL FEDERAL   \n",
       "573274           true  Cl Beiro 3146  Supermercados DIA  CAPITAL FEDERAL   \n",
       "623875           true  Cl Beiro 3146  Supermercados DIA  CAPITAL FEDERAL   \n",
       "636589           true  Cl Beiro 3146  Supermercados DIA  CAPITAL FEDERAL   \n",
       "648469           true  Cl Beiro 3146  Supermercados DIA  CAPITAL FEDERAL   \n",
       "\n",
       "       comerciorazonsocial comercioid     marca  \\\n",
       "550504   DIA Argentina S.A         15  CASERITA   \n",
       "573274   DIA Argentina S.A         15  CASERITA   \n",
       "623875   DIA Argentina S.A         15  CASERITA   \n",
       "636589   DIA Argentina S.A         15  CASERITA   \n",
       "648469   DIA Argentina S.A         15  CASERITA   \n",
       "\n",
       "                                    nombre presentacion      fecha  \n",
       "550504  Harina de Trigo 0000 Caserita 1 Kg       1.0 kg 2022-06-11  \n",
       "573274  Harina de Trigo 0000 Caserita 1 Kg       1.0 kg 2022-06-12  \n",
       "623875  Harina de Trigo 0000 Caserita 1 Kg       1.0 kg 2022-06-13  \n",
       "636589  Harina de Trigo 0000 Caserita 1 Kg       1.0 kg 2022-06-14  \n",
       "648469  Harina de Trigo 0000 Caserita 1 Kg       1.0 kg 2022-06-16  "
      ]
     },
     "execution_count": 35,
     "metadata": {},
     "output_type": "execute_result"
    }
   ],
   "source": [
    "df2.head()"
   ]
  },
  {
   "cell_type": "markdown",
   "id": "2c33b6eb-052b-4ca9-b21c-a95eff530a85",
   "metadata": {},
   "source": [
    "# Test"
   ]
  },
  {
   "cell_type": "code",
   "execution_count": null,
   "id": "0ee35b87-ec83-4346-b0d1-1cc6d91a7c6a",
   "metadata": {},
   "outputs": [],
   "source": [
    "df2.dtypes"
   ]
  },
  {
   "cell_type": "code",
   "execution_count": null,
   "id": "047f79e1-6a83-4b11-b1e0-ae19014c55cd",
   "metadata": {},
   "outputs": [],
   "source": [
    "df2 = df2.set_index('fecha')"
   ]
  },
  {
   "cell_type": "code",
   "execution_count": null,
   "id": "b9703c47-00e2-411a-aba7-28f101d6ede7",
   "metadata": {},
   "outputs": [],
   "source": [
    "#Fechas faltantes\n",
    "pd.date_range(start = '2022-06-11', end = '2022-08-25').difference(df2.index)"
   ]
  },
  {
   "cell_type": "code",
   "execution_count": null,
   "id": "1077def2-cf74-4239-9b1c-8a0eafabe3d6",
   "metadata": {},
   "outputs": [],
   "source": [
    "df2.reset_index(inplace=True)"
   ]
  },
  {
   "cell_type": "code",
   "execution_count": null,
   "id": "e9220995-8d3b-437d-bbe6-61661dab8bf3",
   "metadata": {},
   "outputs": [],
   "source": [
    "df2.fecha.max()"
   ]
  },
  {
   "cell_type": "code",
   "execution_count": null,
   "id": "a1133fd4-49ca-4114-8a11-4701119a343a",
   "metadata": {},
   "outputs": [],
   "source": [
    "result = (\n",
    "    df2.groupby([\"marca\", \"comercioid\",\"preciolista\"])[\"fecha\"]\n",
    "    .apply(lambda s: pd.date_range(s.min(), s.max()))\n",
    "    .explode()\n",
    "    .reset_index()\n",
    ")"
   ]
  },
  {
   "cell_type": "code",
   "execution_count": null,
   "id": "5305fa4d-d718-4e31-b046-ab1995303816",
   "metadata": {},
   "outputs": [],
   "source": [
    "result.head()"
   ]
  },
  {
   "cell_type": "code",
   "execution_count": null,
   "id": "cccd9911-0866-4a91-9f51-5dad6c356b40",
   "metadata": {},
   "outputs": [],
   "source": [
    "df2.loc[df2['fecha']=='2022-06-15']"
   ]
  },
  {
   "cell_type": "code",
   "execution_count": null,
   "id": "cf6c75f1-3d1e-4c0e-bbba-38e7f3646e40",
   "metadata": {},
   "outputs": [],
   "source": [
    "result.loc[result['fecha']=='2022-06-15']"
   ]
  },
  {
   "cell_type": "code",
   "execution_count": null,
   "id": "9276b2af-c63b-4925-b639-292b129a9278",
   "metadata": {
    "tags": []
   },
   "outputs": [],
   "source": [
    "df2 = (df2.set_index('fecha')\n",
    "        .groupby(['marca','comercioid'])['preciolista']\n",
    "        .apply(lambda x: x.asfreq('d', fill_value=0))\n",
    "        .reset_index()\n",
    "        [['fecha','marca','comercioid','preciolista']])"
   ]
  },
  {
   "cell_type": "code",
   "execution_count": null,
   "id": "6384e62f-11ed-4212-8758-19cf7801c5ab",
   "metadata": {},
   "outputs": [],
   "source": [
    "df2['var_precio_lista'] = (df2['preciolista'].shift()!=df2['preciolista'])\n",
    "df2.head(3)"
   ]
  },
  {
   "cell_type": "markdown",
   "id": "9fe22614-4270-4592-bc07-085a4a282544",
   "metadata": {},
   "source": [
    "# Comenzamos el arbol"
   ]
  },
  {
   "cell_type": "code",
   "execution_count": 36,
   "id": "d5f64702-63f1-4f2a-85e6-84d8150586cf",
   "metadata": {},
   "outputs": [],
   "source": [
    "import numpy as np\n",
    "import pandas as pd\n",
    "from sklearn.model_selection import train_test_split\n",
    "from sklearn.tree import DecisionTreeClassifier, export_graphviz, DecisionTreeRegressor, plot_tree\n",
    "from sklearn.ensemble import RandomForestRegressor, GradientBoostingRegressor\n",
    "from sklearn.metrics import confusion_matrix, accuracy_score, mean_squared_error\n",
    "from sklearn import tree\n",
    "import matplotlib.pyplot as plt\n",
    "\n",
    "%matplotlib inline"
   ]
  },
  {
   "cell_type": "code",
   "execution_count": 37,
   "id": "066866fc-91bf-4954-a2ec-fdae12f613f8",
   "metadata": {},
   "outputs": [
    {
     "data": {
      "text/plain": [
       "Index(['key', 'bandera_id', 'lat', 'lng', 'sucursalnombre', 'id_',\n",
       "       'sucursaltipo', 'provincia', 'promo1_descripcion', 'promo1_precio',\n",
       "       'preciolista', 'promo2_descripcion', 'promo2_precio', 'actualizadohoy',\n",
       "       'direccion', 'banderadescripcion', 'localidad', 'comerciorazonsocial',\n",
       "       'comercioid', 'marca', 'nombre', 'presentacion', 'fecha'],\n",
       "      dtype='object')"
      ]
     },
     "execution_count": 37,
     "metadata": {},
     "output_type": "execute_result"
    }
   ],
   "source": [
    "df2.keys()"
   ]
  },
  {
   "cell_type": "code",
   "execution_count": 38,
   "id": "3e676cb5-50c6-4d59-802d-926619f1a5c7",
   "metadata": {},
   "outputs": [],
   "source": [
    "df3 = df2.copy()"
   ]
  },
  {
   "cell_type": "code",
   "execution_count": 39,
   "id": "1253fa6b-8d89-489b-830c-92eac4876b91",
   "metadata": {},
   "outputs": [
    {
     "data": {
      "text/html": [
       "<div>\n",
       "<style scoped>\n",
       "    .dataframe tbody tr th:only-of-type {\n",
       "        vertical-align: middle;\n",
       "    }\n",
       "\n",
       "    .dataframe tbody tr th {\n",
       "        vertical-align: top;\n",
       "    }\n",
       "\n",
       "    .dataframe thead th {\n",
       "        text-align: right;\n",
       "    }\n",
       "</style>\n",
       "<table border=\"1\" class=\"dataframe\">\n",
       "  <thead>\n",
       "    <tr style=\"text-align: right;\">\n",
       "      <th></th>\n",
       "      <th>key</th>\n",
       "      <th>bandera_id</th>\n",
       "      <th>lat</th>\n",
       "      <th>lng</th>\n",
       "      <th>sucursalnombre</th>\n",
       "      <th>id_</th>\n",
       "      <th>sucursaltipo</th>\n",
       "      <th>provincia</th>\n",
       "      <th>promo1_descripcion</th>\n",
       "      <th>promo1_precio</th>\n",
       "      <th>preciolista</th>\n",
       "      <th>promo2_descripcion</th>\n",
       "      <th>promo2_precio</th>\n",
       "      <th>actualizadohoy</th>\n",
       "      <th>direccion</th>\n",
       "      <th>banderadescripcion</th>\n",
       "      <th>localidad</th>\n",
       "      <th>comerciorazonsocial</th>\n",
       "      <th>comercioid</th>\n",
       "      <th>marca</th>\n",
       "      <th>nombre</th>\n",
       "      <th>presentacion</th>\n",
       "      <th>fecha</th>\n",
       "    </tr>\n",
       "  </thead>\n",
       "  <tbody>\n",
       "    <tr>\n",
       "      <th>550504</th>\n",
       "      <td>sucursales</td>\n",
       "      <td>1</td>\n",
       "      <td>-34.597137</td>\n",
       "      <td>-58.497643</td>\n",
       "      <td>1 - VILLA DEL PARQUE</td>\n",
       "      <td>7792590000227</td>\n",
       "      <td>Autoservicio</td>\n",
       "      <td>AR-C</td>\n",
       "      <td></td>\n",
       "      <td>NaN</td>\n",
       "      <td>145.8</td>\n",
       "      <td>(0% de descuento).</td>\n",
       "      <td>145.80</td>\n",
       "      <td>true</td>\n",
       "      <td>Cl Beiro 3146</td>\n",
       "      <td>Supermercados DIA</td>\n",
       "      <td>CAPITAL FEDERAL</td>\n",
       "      <td>DIA Argentina S.A</td>\n",
       "      <td>15</td>\n",
       "      <td>CASERITA</td>\n",
       "      <td>Harina de Trigo 0000 Caserita 1 Kg</td>\n",
       "      <td>1.0 kg</td>\n",
       "      <td>2022-06-11</td>\n",
       "    </tr>\n",
       "    <tr>\n",
       "      <th>573274</th>\n",
       "      <td>sucursales</td>\n",
       "      <td>1</td>\n",
       "      <td>-34.597137</td>\n",
       "      <td>-58.497643</td>\n",
       "      <td>1 - VILLA DEL PARQUE</td>\n",
       "      <td>7792590000227</td>\n",
       "      <td>Autoservicio</td>\n",
       "      <td>AR-C</td>\n",
       "      <td></td>\n",
       "      <td>NaN</td>\n",
       "      <td>145.8</td>\n",
       "      <td>(0% de descuento).</td>\n",
       "      <td>145.80</td>\n",
       "      <td>true</td>\n",
       "      <td>Cl Beiro 3146</td>\n",
       "      <td>Supermercados DIA</td>\n",
       "      <td>CAPITAL FEDERAL</td>\n",
       "      <td>DIA Argentina S.A</td>\n",
       "      <td>15</td>\n",
       "      <td>CASERITA</td>\n",
       "      <td>Harina de Trigo 0000 Caserita 1 Kg</td>\n",
       "      <td>1.0 kg</td>\n",
       "      <td>2022-06-12</td>\n",
       "    </tr>\n",
       "    <tr>\n",
       "      <th>623875</th>\n",
       "      <td>sucursales</td>\n",
       "      <td>1</td>\n",
       "      <td>-34.597137</td>\n",
       "      <td>-58.497643</td>\n",
       "      <td>1 - VILLA DEL PARQUE</td>\n",
       "      <td>7792590000227</td>\n",
       "      <td>Autoservicio</td>\n",
       "      <td>AR-C</td>\n",
       "      <td></td>\n",
       "      <td>NaN</td>\n",
       "      <td>145.8</td>\n",
       "      <td>(15% de descuento). Abonando con tarjeta CREDI...</td>\n",
       "      <td>123.93</td>\n",
       "      <td>true</td>\n",
       "      <td>Cl Beiro 3146</td>\n",
       "      <td>Supermercados DIA</td>\n",
       "      <td>CAPITAL FEDERAL</td>\n",
       "      <td>DIA Argentina S.A</td>\n",
       "      <td>15</td>\n",
       "      <td>CASERITA</td>\n",
       "      <td>Harina de Trigo 0000 Caserita 1 Kg</td>\n",
       "      <td>1.0 kg</td>\n",
       "      <td>2022-06-13</td>\n",
       "    </tr>\n",
       "  </tbody>\n",
       "</table>\n",
       "</div>"
      ],
      "text/plain": [
       "               key bandera_id        lat        lng        sucursalnombre  \\\n",
       "550504  sucursales          1 -34.597137 -58.497643  1 - VILLA DEL PARQUE   \n",
       "573274  sucursales          1 -34.597137 -58.497643  1 - VILLA DEL PARQUE   \n",
       "623875  sucursales          1 -34.597137 -58.497643  1 - VILLA DEL PARQUE   \n",
       "\n",
       "                  id_  sucursaltipo provincia promo1_descripcion  \\\n",
       "550504  7792590000227  Autoservicio      AR-C                      \n",
       "573274  7792590000227  Autoservicio      AR-C                      \n",
       "623875  7792590000227  Autoservicio      AR-C                      \n",
       "\n",
       "        promo1_precio  preciolista  \\\n",
       "550504            NaN        145.8   \n",
       "573274            NaN        145.8   \n",
       "623875            NaN        145.8   \n",
       "\n",
       "                                       promo2_descripcion  promo2_precio  \\\n",
       "550504                                 (0% de descuento).         145.80   \n",
       "573274                                 (0% de descuento).         145.80   \n",
       "623875  (15% de descuento). Abonando con tarjeta CREDI...         123.93   \n",
       "\n",
       "       actualizadohoy      direccion banderadescripcion        localidad  \\\n",
       "550504           true  Cl Beiro 3146  Supermercados DIA  CAPITAL FEDERAL   \n",
       "573274           true  Cl Beiro 3146  Supermercados DIA  CAPITAL FEDERAL   \n",
       "623875           true  Cl Beiro 3146  Supermercados DIA  CAPITAL FEDERAL   \n",
       "\n",
       "       comerciorazonsocial comercioid     marca  \\\n",
       "550504   DIA Argentina S.A         15  CASERITA   \n",
       "573274   DIA Argentina S.A         15  CASERITA   \n",
       "623875   DIA Argentina S.A         15  CASERITA   \n",
       "\n",
       "                                    nombre presentacion      fecha  \n",
       "550504  Harina de Trigo 0000 Caserita 1 Kg       1.0 kg 2022-06-11  \n",
       "573274  Harina de Trigo 0000 Caserita 1 Kg       1.0 kg 2022-06-12  \n",
       "623875  Harina de Trigo 0000 Caserita 1 Kg       1.0 kg 2022-06-13  "
      ]
     },
     "execution_count": 39,
     "metadata": {},
     "output_type": "execute_result"
    }
   ],
   "source": [
    "df3.head(3)"
   ]
  },
  {
   "cell_type": "code",
   "execution_count": 40,
   "id": "d0a0834d-1874-4f7e-885f-8c80e1426ada",
   "metadata": {},
   "outputs": [
    {
     "data": {
      "text/plain": [
       "(1153800, 23)"
      ]
     },
     "execution_count": 40,
     "metadata": {},
     "output_type": "execute_result"
    }
   ],
   "source": [
    "df3.shape"
   ]
  },
  {
   "cell_type": "code",
   "execution_count": 41,
   "id": "a40daf35-6dd1-4ff9-9954-4d197e89b8fa",
   "metadata": {},
   "outputs": [
    {
     "data": {
      "text/plain": [
       "298"
      ]
     },
     "execution_count": 41,
     "metadata": {},
     "output_type": "execute_result"
    }
   ],
   "source": [
    "df3['promo1_precio'].nunique()"
   ]
  },
  {
   "cell_type": "code",
   "execution_count": 42,
   "id": "333d9269-aa51-4394-bf1b-3b680e8e4e65",
   "metadata": {},
   "outputs": [
    {
     "data": {
      "text/plain": [
       "161"
      ]
     },
     "execution_count": 42,
     "metadata": {},
     "output_type": "execute_result"
    }
   ],
   "source": [
    "df3['promo2_precio'].nunique()"
   ]
  },
  {
   "cell_type": "code",
   "execution_count": 43,
   "id": "cfa5cfa5-e21e-4263-a6bc-6d3edcc17aba",
   "metadata": {},
   "outputs": [
    {
     "data": {
      "text/plain": [
       "key                            object\n",
       "bandera_id                     object\n",
       "lat                           float64\n",
       "lng                           float64\n",
       "sucursalnombre                 object\n",
       "id_                            object\n",
       "sucursaltipo                   object\n",
       "provincia                      object\n",
       "promo1_descripcion             object\n",
       "promo1_precio                 float64\n",
       "preciolista                   float64\n",
       "promo2_descripcion             object\n",
       "promo2_precio                 float64\n",
       "actualizadohoy                 object\n",
       "direccion                      object\n",
       "banderadescripcion             object\n",
       "localidad                      object\n",
       "comerciorazonsocial            object\n",
       "comercioid                     object\n",
       "marca                          object\n",
       "nombre                         object\n",
       "presentacion                   object\n",
       "fecha                  datetime64[ns]\n",
       "dtype: object"
      ]
     },
     "execution_count": 43,
     "metadata": {},
     "output_type": "execute_result"
    }
   ],
   "source": [
    "df3.dtypes"
   ]
  },
  {
   "cell_type": "code",
   "execution_count": 44,
   "id": "2f34c489-bf57-4970-a34a-14975033799f",
   "metadata": {},
   "outputs": [
    {
     "data": {
      "text/plain": [
       "Index(['key', 'bandera_id', 'lat', 'lng', 'sucursalnombre', 'id_',\n",
       "       'sucursaltipo', 'provincia', 'promo1_descripcion', 'promo1_precio',\n",
       "       'preciolista', 'promo2_descripcion', 'promo2_precio', 'actualizadohoy',\n",
       "       'direccion', 'banderadescripcion', 'localidad', 'comerciorazonsocial',\n",
       "       'comercioid', 'marca', 'nombre', 'presentacion', 'fecha'],\n",
       "      dtype='object')"
      ]
     },
     "execution_count": 44,
     "metadata": {},
     "output_type": "execute_result"
    }
   ],
   "source": [
    "df3.keys()"
   ]
  },
  {
   "cell_type": "code",
   "execution_count": 45,
   "id": "e05ab436-421e-4dc0-86ae-518689c76ec7",
   "metadata": {},
   "outputs": [],
   "source": [
    "df3 = df3.set_index('fecha')\n"
   ]
  },
  {
   "cell_type": "code",
   "execution_count": 46,
   "id": "296aef27-11a1-47d9-8f63-2c6e9db09a9b",
   "metadata": {},
   "outputs": [
    {
     "data": {
      "text/plain": [
       "DatetimeIndex(['2022-06-15', '2022-06-20', '2022-06-27', '2022-07-07',\n",
       "               '2022-07-22', '2022-08-01', '2022-08-02', '2022-08-07',\n",
       "               '2022-08-08', '2022-08-13', '2022-08-15', '2022-08-20'],\n",
       "              dtype='datetime64[ns]', freq=None)"
      ]
     },
     "execution_count": 46,
     "metadata": {},
     "output_type": "execute_result"
    }
   ],
   "source": [
    "pd.date_range(start = '2022-06-11', end = '2022-08-25').difference(df3.index)"
   ]
  },
  {
   "cell_type": "code",
   "execution_count": 47,
   "id": "6246cd3a-5cd3-4bf6-9631-9167b13b3e19",
   "metadata": {},
   "outputs": [],
   "source": [
    "fechas_l = pd.date_range(start = '2022-06-11', end = '2022-08-25').difference(df3.index)"
   ]
  },
  {
   "cell_type": "code",
   "execution_count": 48,
   "id": "1a54a3f3-9230-4dbf-b0bb-b37e5f2671e1",
   "metadata": {
    "tags": []
   },
   "outputs": [],
   "source": [
    "df3 = df3.reset_index('fecha')"
   ]
  },
  {
   "cell_type": "code",
   "execution_count": null,
   "id": "6fa93270-922f-486c-985f-7abc76b67e61",
   "metadata": {},
   "outputs": [
    {
     "name": "stderr",
     "output_type": "stream",
     "text": [
      "<ipython-input-49-86076d34135b>:9: FutureWarning: The frame.append method is deprecated and will be removed from pandas in a future version. Use pandas.concat instead.\n",
      "  df3 = df3.append(df_temp)\n",
      "<ipython-input-49-86076d34135b>:9: FutureWarning: The frame.append method is deprecated and will be removed from pandas in a future version. Use pandas.concat instead.\n",
      "  df3 = df3.append(df_temp)\n",
      "<ipython-input-49-86076d34135b>:9: FutureWarning: The frame.append method is deprecated and will be removed from pandas in a future version. Use pandas.concat instead.\n",
      "  df3 = df3.append(df_temp)\n",
      "<ipython-input-49-86076d34135b>:9: FutureWarning: The frame.append method is deprecated and will be removed from pandas in a future version. Use pandas.concat instead.\n",
      "  df3 = df3.append(df_temp)\n",
      "<ipython-input-49-86076d34135b>:9: FutureWarning: The frame.append method is deprecated and will be removed from pandas in a future version. Use pandas.concat instead.\n",
      "  df3 = df3.append(df_temp)\n",
      "<ipython-input-49-86076d34135b>:9: FutureWarning: The frame.append method is deprecated and will be removed from pandas in a future version. Use pandas.concat instead.\n",
      "  df3 = df3.append(df_temp)\n",
      "<ipython-input-49-86076d34135b>:9: FutureWarning: The frame.append method is deprecated and will be removed from pandas in a future version. Use pandas.concat instead.\n",
      "  df3 = df3.append(df_temp)\n",
      "<ipython-input-49-86076d34135b>:9: FutureWarning: The frame.append method is deprecated and will be removed from pandas in a future version. Use pandas.concat instead.\n",
      "  df3 = df3.append(df_temp)\n"
     ]
    }
   ],
   "source": [
    "for fecha in fechas_l:\n",
    "    fecha_falt = fecha\n",
    "    fecha_ant = fecha + timedelta(days=-1)\n",
    "    df3 = df3.set_index('fecha')\n",
    "    df_temp = df3.loc[fecha_ant]\n",
    "    df_temp.reset_index(inplace=True)\n",
    "    df_temp = df_temp.replace([fecha_ant],fecha)\n",
    "    df3 = df3.reset_index('fecha')\n",
    "    df3 = df3.append(df_temp)"
   ]
  },
  {
   "cell_type": "code",
   "execution_count": null,
   "id": "edc23c4a-4dd2-4880-963c-611f06068b24",
   "metadata": {},
   "outputs": [],
   "source": []
  },
  {
   "cell_type": "code",
   "execution_count": null,
   "id": "2c8b7601-2f42-4208-b233-e7c08c437c4f",
   "metadata": {},
   "outputs": [],
   "source": []
  },
  {
   "cell_type": "code",
   "execution_count": null,
   "id": "0d43e12b-1ea7-497f-8161-1534f1a196cb",
   "metadata": {},
   "outputs": [],
   "source": []
  },
  {
   "cell_type": "code",
   "execution_count": null,
   "id": "25d3d23b-f352-4e29-b8fa-78cb4c7a8942",
   "metadata": {},
   "outputs": [],
   "source": []
  },
  {
   "cell_type": "code",
   "execution_count": null,
   "id": "4ea22391-ea0a-4bb6-abda-e0cf2012a385",
   "metadata": {},
   "outputs": [],
   "source": []
  },
  {
   "cell_type": "code",
   "execution_count": null,
   "id": "cd29ea36-744d-4e5e-b52b-6750cdecc364",
   "metadata": {},
   "outputs": [],
   "source": []
  },
  {
   "cell_type": "code",
   "execution_count": null,
   "id": "90ba06d2-0843-4bc3-a39c-04d8c92b4f8e",
   "metadata": {},
   "outputs": [],
   "source": [
    "df3.reset_index(inplace=True)"
   ]
  },
  {
   "cell_type": "code",
   "execution_count": null,
   "id": "f8c6ef59-e839-4246-a57d-406d6233a5be",
   "metadata": {},
   "outputs": [],
   "source": [
    "fechas_l[5]"
   ]
  },
  {
   "cell_type": "code",
   "execution_count": null,
   "id": "46652b23-3ef1-4dbb-a9a6-5643407c38f3",
   "metadata": {},
   "outputs": [],
   "source": [
    "Julio_31= fechas_l[5] + timedelta(days=-1)\n",
    "Julio_31"
   ]
  },
  {
   "cell_type": "code",
   "execution_count": null,
   "id": "be89fe1b-50dc-4f11-bbba-c91baadf886c",
   "metadata": {
    "tags": []
   },
   "outputs": [],
   "source": [
    "df_temp.loc['fecha_ant']"
   ]
  },
  {
   "cell_type": "code",
   "execution_count": null,
   "id": "61029675-040c-416a-96ab-b9f2a0ff7f8d",
   "metadata": {},
   "outputs": [],
   "source": []
  },
  {
   "cell_type": "code",
   "execution_count": null,
   "id": "66c64f9a-9c60-4fb2-a052-3e5dbe83bd67",
   "metadata": {},
   "outputs": [],
   "source": []
  },
  {
   "cell_type": "code",
   "execution_count": null,
   "id": "b3ef5ecd-d4fc-40de-8f54-a8714a775180",
   "metadata": {},
   "outputs": [],
   "source": []
  },
  {
   "cell_type": "code",
   "execution_count": null,
   "id": "0cc30199-179b-4556-a254-95bc8228f6ce",
   "metadata": {},
   "outputs": [],
   "source": []
  },
  {
   "cell_type": "code",
   "execution_count": null,
   "id": "a580f3fc-0e3d-453d-9133-139140023daf",
   "metadata": {},
   "outputs": [],
   "source": []
  },
  {
   "cell_type": "code",
   "execution_count": null,
   "id": "f2fc264a-814a-4118-b2ba-1c4944cf09fc",
   "metadata": {},
   "outputs": [],
   "source": []
  },
  {
   "cell_type": "code",
   "execution_count": null,
   "id": "b9ba6ba1-ab8c-4888-ac79-a303ed0265b6",
   "metadata": {
    "tags": []
   },
   "outputs": [],
   "source": [
    "for fecha in fechas_l:\n",
    "    fecha_falt = fecha\n",
    "    print(fecha_falt)\n",
    "    fecha_ant = fecha + timedelta(days=-1)\n",
    "    print(fecha_ant)\n",
    "    df_temp = df3.set_index('fecha')\n",
    "    df_temp = df_temp.loc[fecha_ant]\n",
    "    df_temp.reset_index(inplace=True,drop=True)\n",
    "    df_temp = df_temp.replace([fecha_ant],fecha_falt)\n",
    "    df3.reset_index(inplace=True,drop=True)\n",
    "    df3 = pd.concat([df3, df_temp], axis=0)\n",
    "    df_temp.head(1)\n",
    "    "
   ]
  },
  {
   "cell_type": "code",
   "execution_count": null,
   "id": "b6cfcf9a-2a3d-40aa-b14b-0b88e5c210f8",
   "metadata": {},
   "outputs": [],
   "source": []
  },
  {
   "cell_type": "code",
   "execution_count": null,
   "id": "18cd6b24-24d2-4a8b-bc67-bd7d6d0c0717",
   "metadata": {},
   "outputs": [],
   "source": [
    "df3.head()\n"
   ]
  },
  {
   "cell_type": "code",
   "execution_count": null,
   "id": "4c1a42f8-2d0d-4bf0-ae11-f7ecd39a8c36",
   "metadata": {
    "tags": []
   },
   "outputs": [],
   "source": [
    "df_temp = df3.set_index('fecha')\n"
   ]
  },
  {
   "cell_type": "code",
   "execution_count": null,
   "id": "e4233244-3e56-4593-b1f8-20f2abbb0029",
   "metadata": {},
   "outputs": [],
   "source": [
    "df3.head()"
   ]
  },
  {
   "cell_type": "code",
   "execution_count": null,
   "id": "ef2360d5-35ec-4caa-a078-399ff397c7ab",
   "metadata": {},
   "outputs": [],
   "source": [
    "fecha_falt = fechas_l[0]\n",
    "print(fecha_falt)\n",
    "fecha_ant = fechas_l[0] + timedelta(days=-1)\n",
    "print(fecha_ant)\n",
    "df_temp = df3.set_index('fecha')\n",
    "df_temp = df_temp.loc[fecha_ant]\n",
    "df_temp.reset_index(inplace=True)\n",
    "df_temp = df_temp.replace([fecha_ant],fecha_falt)\n",
    "#df3.reset_index(inplace=True)\n",
    "df3 = pd.concat([df3, df_temp], axis=0)\n",
    "df_temp.head(1)"
   ]
  },
  {
   "cell_type": "code",
   "execution_count": null,
   "id": "64461de5-b147-4266-b31e-7b33cf24f374",
   "metadata": {},
   "outputs": [],
   "source": [
    "df3.head()"
   ]
  },
  {
   "cell_type": "markdown",
   "id": "895dec3f-feae-4e82-8b06-9830642ee5b9",
   "metadata": {},
   "source": [
    "# Prueba MANUAL"
   ]
  },
  {
   "cell_type": "code",
   "execution_count": null,
   "id": "e3bab6c2-8cfd-4c75-93d2-923734f522a4",
   "metadata": {},
   "outputs": [],
   "source": [
    "DatetimeIndex(['2022-06-15', '2022-06-20', '2022-06-27', '2022-07-07',\n",
    "               '2022-07-22', '2022-08-01', '2022-08-02', '2022-08-07',\n",
    "               '2022-08-08', '2022-08-13', '2022-08-15', '2022-08-20'],\n",
    "              dtype='datetime64[ns]', freq=None)"
   ]
  },
  {
   "cell_type": "code",
   "execution_count": null,
   "id": "4039de84-9918-4262-8c55-630bc8692047",
   "metadata": {
    "tags": []
   },
   "outputs": [],
   "source": [
    "df3 = df3.set_index('fecha')\n",
    "df_temp = df3.loc['2022-06-14']\n",
    "df_temp.reset_index(inplace=True)\n",
    "df_temp = df_temp.replace(['2022-06-14'],'2022-06-15')\n",
    "df3 = df3.reset_index('fecha')\n",
    "df3 = df3.append(df_temp)"
   ]
  },
  {
   "cell_type": "code",
   "execution_count": null,
   "id": "ff76af96-45cc-4a17-802b-438c593c8aee",
   "metadata": {
    "tags": []
   },
   "outputs": [],
   "source": [
    "df3 = df3.set_index('fecha')\n",
    "df_temp = df3.loc['2022-06-19']\n",
    "df_temp.reset_index(inplace=True)\n",
    "df_temp = df_temp.replace(['2022-06-19'],'2022-06-20')\n",
    "df3 = df3.reset_index('fecha')\n",
    "df3 = df3.append(df_temp)"
   ]
  },
  {
   "cell_type": "code",
   "execution_count": null,
   "id": "310810b8-d5e2-42c1-a06b-fe21c088b8d5",
   "metadata": {},
   "outputs": [],
   "source": [
    "df3 = df3.set_index('fecha')\n",
    "df_temp = df3.loc['2022-07-31']\n",
    "df_temp.reset_index(inplace=True)\n",
    "df_temp = df_temp.replace(['2022-07-31'],'2022-08-01')\n",
    "df3 = df3.reset_index('fecha')\n",
    "df3 = df3.append(df_temp)"
   ]
  },
  {
   "cell_type": "code",
   "execution_count": null,
   "id": "91105824-a912-45ac-8679-d3d92fe00cc1",
   "metadata": {},
   "outputs": [],
   "source": [
    "df3 = df3.set_index('fecha')\n",
    "df_temp = df3.loc['2022-07-31']\n",
    "df_temp.reset_index(inplace=True)\n",
    "df_temp = df_temp.replace(['2022-07-31'],'2022-08-01')\n",
    "df3 = df3.reset_index('fecha')\n",
    "df3 = df3.append(df_temp)"
   ]
  },
  {
   "cell_type": "code",
   "execution_count": null,
   "id": "c4db2884-31f2-456e-bd2c-951aafbf1f99",
   "metadata": {},
   "outputs": [],
   "source": [
    "for fecha in fechas_l:\n",
    "    fecha_falt = fecha\n",
    "    fecha_ant = fecha + timedelta(days=-1)\n",
    "    df3 = df3.set_index('fecha')\n",
    "    df_temp = df3.loc[fecha_ant]\n",
    "    df_temp.reset_index(inplace=True)\n",
    "    df_temp = df_temp.replace([fecha_ant],fecha)\n",
    "    df3 = df3.reset_index('fecha')\n",
    "    df3 = df3.append(df_temp)"
   ]
  },
  {
   "cell_type": "code",
   "execution_count": null,
   "id": "022f1006-8a77-4d91-899c-6e6c2b3893da",
   "metadata": {
    "tags": []
   },
   "outputs": [],
   "source": [
    "#df3 = df3.set_index('fecha')\n",
    "df_temp = df3.loc['2022-06-14']\n",
    "df_temp.head(1)"
   ]
  },
  {
   "cell_type": "code",
   "execution_count": null,
   "id": "2c773ffb-ff25-4ad2-b5e2-6a4736cf0a8a",
   "metadata": {},
   "outputs": [],
   "source": [
    "df_temp = df3.loc['2022-06-14']\n",
    "df_temp.reset_index(inplace=True)\n",
    "df_temp.head(3)"
   ]
  },
  {
   "cell_type": "code",
   "execution_count": null,
   "id": "754fc870-aef7-47a7-91ba-944b8dc1a1d0",
   "metadata": {},
   "outputs": [],
   "source": [
    "df_temp = df_temp.replace(['2022-06-14'],'2022-06-15')\n",
    "df_temp.head()"
   ]
  },
  {
   "cell_type": "code",
   "execution_count": null,
   "id": "0cf9fbfd-e314-495a-99f6-6f0e11bfeabd",
   "metadata": {},
   "outputs": [],
   "source": [
    "df4 = df3.copy()\n",
    "df4.reset_index(inplace=True)"
   ]
  },
  {
   "cell_type": "code",
   "execution_count": null,
   "id": "10b65a9e-3da3-47cb-b743-8738cc9173d8",
   "metadata": {},
   "outputs": [],
   "source": [
    "df4.head()"
   ]
  },
  {
   "cell_type": "code",
   "execution_count": null,
   "id": "0988720c-b83a-4e9d-8470-9d48a430028a",
   "metadata": {},
   "outputs": [],
   "source": [
    "df4.append(df_temp)"
   ]
  },
  {
   "cell_type": "code",
   "execution_count": null,
   "id": "d2e460ef-2c4e-4272-b849-512f7a279a8c",
   "metadata": {},
   "outputs": [],
   "source": []
  },
  {
   "cell_type": "code",
   "execution_count": null,
   "id": "ea0b67a6-5c05-49aa-9472-048d5c34ecc8",
   "metadata": {},
   "outputs": [],
   "source": []
  },
  {
   "cell_type": "code",
   "execution_count": null,
   "id": "c60435e8-696b-482a-93f1-61f6cc3e1e2d",
   "metadata": {},
   "outputs": [],
   "source": []
  },
  {
   "cell_type": "code",
   "execution_count": null,
   "id": "b958a71f-db48-4810-9849-65ccc69728a6",
   "metadata": {},
   "outputs": [],
   "source": [
    "df3.reset_index(inplace=True)"
   ]
  },
  {
   "cell_type": "code",
   "execution_count": null,
   "id": "9dda7573-f6b3-4b10-a6a8-f8c37da6fd03",
   "metadata": {},
   "outputs": [],
   "source": [
    "df3 = (\n",
    "    df3.groupby(['key', 'bandera_id', 'lat', 'lng', 'sucursalnombre', 'id_',\n",
    "       'sucursaltipo', 'provincia', 'promo1_descripcion', 'promo1_precio',\n",
    "       'preciolista', 'promo2_descripcion', 'promo2_precio', 'actualizadohoy',\n",
    "       'direccion', 'banderadescripcion', 'localidad', 'comerciorazonsocial',\n",
    "       'comercioid', 'marca', 'nombre', 'presentacion',\n",
    "       'var_precio_lista'])[\"fecha\"]\n",
    "    .apply(lambda s: pd.date_range('2022-06-11', '2022-08-25'))\n",
    "    .explode()\n",
    "    .reset_index()\n",
    ")"
   ]
  },
  {
   "cell_type": "code",
   "execution_count": null,
   "id": "5932a040-c3f6-45fc-97dd-6e86b1f5a10b",
   "metadata": {},
   "outputs": [],
   "source": [
    "df3.keys()"
   ]
  },
  {
   "cell_type": "code",
   "execution_count": null,
   "id": "07901cef-1cf3-49dd-acd5-7b6d9454c4e3",
   "metadata": {},
   "outputs": [],
   "source": [
    "df3.dtypes"
   ]
  },
  {
   "cell_type": "code",
   "execution_count": null,
   "id": "00eae77b-b730-4049-b7ee-1272413d7a24",
   "metadata": {},
   "outputs": [],
   "source": [
    "df3 = df3.set_index('fecha')"
   ]
  },
  {
   "cell_type": "code",
   "execution_count": null,
   "id": "047b5723-36b7-4024-a977-459dc64c2720",
   "metadata": {},
   "outputs": [],
   "source": [
    "df3.index"
   ]
  },
  {
   "cell_type": "code",
   "execution_count": null,
   "id": "e93f5055-b278-4eb6-b99f-1e2700267bb6",
   "metadata": {},
   "outputs": [],
   "source": [
    "#Fechas faltantes\n",
    "pd.date_range(start = '2022-06-11', end = '2022-08-25').difference(df3.index)"
   ]
  },
  {
   "cell_type": "code",
   "execution_count": null,
   "id": "dc8c3f55-25db-488b-9de9-a90964bfb80a",
   "metadata": {},
   "outputs": [],
   "source": [
    "df3.shape"
   ]
  },
  {
   "cell_type": "code",
   "execution_count": null,
   "id": "ac5d9fbc-e03e-4280-8ff3-b418f471c689",
   "metadata": {},
   "outputs": [],
   "source": [
    "df3.reset_index(inplace=True)"
   ]
  },
  {
   "cell_type": "code",
   "execution_count": null,
   "id": "3c5bb3d9-66a6-48bf-aafa-16aa42024bee",
   "metadata": {},
   "outputs": [],
   "source": [
    "df3.loc[df3['fecha']=='2022-08-07']"
   ]
  },
  {
   "cell_type": "code",
   "execution_count": null,
   "id": "f038d0fe-1955-44fa-b4fe-802c1254c836",
   "metadata": {},
   "outputs": [],
   "source": [
    "df3"
   ]
  },
  {
   "cell_type": "code",
   "execution_count": null,
   "id": "6c1aa76f-779e-4fd1-a265-db425a5b5aa8",
   "metadata": {},
   "outputs": [],
   "source": []
  },
  {
   "cell_type": "code",
   "execution_count": null,
   "id": "d634383c-6e2a-429a-b6cf-ac50e1c3686b",
   "metadata": {},
   "outputs": [],
   "source": [
    "df3.var_precio_lista = df3.var_precio_lista.map({True:\"Si\",False:\"No\"})\n",
    "df3.head()"
   ]
  },
  {
   "cell_type": "code",
   "execution_count": null,
   "id": "592f7f11-775a-4412-ab3c-4ed025235a08",
   "metadata": {},
   "outputs": [],
   "source": [
    "df3.sucursalnombre = pd.factorize(df3.sucursalnombre)[0]\n"
   ]
  },
  {
   "cell_type": "code",
   "execution_count": null,
   "id": "b6dae949-033d-4cd4-ae54-a91b2baae32c",
   "metadata": {},
   "outputs": [],
   "source": [
    "df3.sucursaltipo = pd.factorize(df3.sucursaltipo)[0]"
   ]
  },
  {
   "cell_type": "code",
   "execution_count": null,
   "id": "c1d99993-2e10-4619-90f5-1e1a502db080",
   "metadata": {},
   "outputs": [],
   "source": [
    "df3.provincia = pd.factorize(df3.provincia)[0]"
   ]
  },
  {
   "cell_type": "code",
   "execution_count": null,
   "id": "b1b90620-f598-46ac-971f-d32af0c2d92c",
   "metadata": {},
   "outputs": [],
   "source": [
    "df3.banderadescripcion = pd.factorize(df3.banderadescripcion)[0]"
   ]
  },
  {
   "cell_type": "code",
   "execution_count": null,
   "id": "d2479423-8d3e-4b7b-b24f-1bf96a1b2ea5",
   "metadata": {},
   "outputs": [],
   "source": [
    "df3.localidad = pd.factorize(df3.localidad)[0]"
   ]
  },
  {
   "cell_type": "code",
   "execution_count": null,
   "id": "c1f1e392-ce29-4e94-b577-eb99efe165ba",
   "metadata": {},
   "outputs": [],
   "source": [
    "df3.comerciorazonsocial = pd.factorize(df3.comerciorazonsocial)[0]"
   ]
  },
  {
   "cell_type": "code",
   "execution_count": null,
   "id": "3025f882-edaf-4765-8b47-48e13859d4df",
   "metadata": {},
   "outputs": [],
   "source": [
    "df3.marca = pd.factorize(df3.marca)[0]"
   ]
  },
  {
   "cell_type": "code",
   "execution_count": null,
   "id": "0c1a3265-8ff7-43e3-bc89-750e8ebbfe86",
   "metadata": {},
   "outputs": [],
   "source": [
    "df3.fecha = df['fecha'].apply(lambda x: x.value)"
   ]
  },
  {
   "cell_type": "code",
   "execution_count": null,
   "id": "e8328706-fa64-4e4f-ae17-289f498c2b44",
   "metadata": {},
   "outputs": [],
   "source": [
    "df3['HayPromo1'] = np.where(df3['promo1_precio']>0,1,0)"
   ]
  },
  {
   "cell_type": "code",
   "execution_count": null,
   "id": "f25acc2d-528a-47b4-b5c7-5cdb8c277569",
   "metadata": {},
   "outputs": [],
   "source": [
    "df3['HayPromo2'] = np.where(df3['promo2_precio']>0,1,0)"
   ]
  },
  {
   "cell_type": "code",
   "execution_count": null,
   "id": "0a642112-4e98-4814-9a30-b83e2fba52c9",
   "metadata": {},
   "outputs": [],
   "source": [
    "df3.dtypes"
   ]
  },
  {
   "cell_type": "code",
   "execution_count": null,
   "id": "51fae55c-4413-4dc9-b433-b8ad6d598ab8",
   "metadata": {},
   "outputs": [],
   "source": [
    "df3.shape"
   ]
  },
  {
   "cell_type": "code",
   "execution_count": null,
   "id": "76e53204-400f-4485-ab17-5669f4a9faf8",
   "metadata": {},
   "outputs": [],
   "source": [
    "df3.head()"
   ]
  },
  {
   "cell_type": "code",
   "execution_count": null,
   "id": "12fdb405-cade-40a2-b95c-1495aa625481",
   "metadata": {},
   "outputs": [],
   "source": [
    "df3.keys()"
   ]
  },
  {
   "cell_type": "code",
   "execution_count": null,
   "id": "edcfd479-754a-44c6-b798-6a8ccd1149c1",
   "metadata": {},
   "outputs": [],
   "source": [
    "df3 = (\n",
    "    df3.groupby(['key', 'bandera_id', 'lat', 'lng', 'sucursalnombre', 'id_',\n",
    "       'sucursaltipo', 'provincia', 'promo1_descripcion', 'promo1_precio',\n",
    "       'preciolista', 'promo2_descripcion', 'promo2_precio', 'actualizadohoy',\n",
    "       'direccion', 'banderadescripcion', 'localidad', 'comerciorazonsocial',\n",
    "       'comercioid', 'marca', 'nombre', 'presentacion',\n",
    "       'var_precio_lista', 'HayPromo1', 'HayPromo2'])[\"fecha\"]\n",
    "    .apply(lambda s: pd.date_range(s.min(), s.max()))\n",
    "    .explode()\n",
    "    .reset_index()\n",
    ")"
   ]
  },
  {
   "cell_type": "code",
   "execution_count": null,
   "id": "a07a020d-59c2-487f-8acf-51492d48b7bd",
   "metadata": {},
   "outputs": [],
   "source": [
    "df3.dtypes"
   ]
  },
  {
   "cell_type": "code",
   "execution_count": null,
   "id": "08420806-e7a5-4963-b00f-9978e8bd6c59",
   "metadata": {},
   "outputs": [],
   "source": [
    "df3 = df3.sort_values(['fecha'],\n",
    "              ascending = [True])\n",
    "df3.head()"
   ]
  },
  {
   "cell_type": "code",
   "execution_count": null,
   "id": "371f2993-0b76-4d7e-b056-d77efd5c2906",
   "metadata": {},
   "outputs": [],
   "source": [
    "for col in df3:\n",
    "    df3[col] = df3[col].fillna(0)"
   ]
  },
  {
   "cell_type": "code",
   "execution_count": null,
   "id": "dc5d91f2-a1fa-4fd8-9af8-1f230197a3b1",
   "metadata": {},
   "outputs": [],
   "source": [
    "df3.shape"
   ]
  },
  {
   "cell_type": "code",
   "execution_count": null,
   "id": "eb181016-e120-4cef-af50-103ba0459095",
   "metadata": {},
   "outputs": [],
   "source": [
    "# we first split the dataset into training (200 samples) and test sets.\n",
    "X = df3[[\"lat\",\"lng\",\"sucursalnombre\",\"sucursaltipo\",\"provincia\",\"preciolista\",\"banderadescripcion\",\"localidad\",\"comerciorazonsocial\",\"marca\",\"fecha\"]]\n",
    "y = df3.HayPromo1\n",
    "train_size = 1000000\n",
    "X_train, X_test, y_train, y_test = train_test_split(X, y, train_size=train_size, \n",
    "                                    test_size=X.shape[0]-train_size, random_state=0)"
   ]
  },
  {
   "cell_type": "code",
   "execution_count": null,
   "id": "8c519e68-8cf9-4c8d-a9a7-ea18eb78d182",
   "metadata": {},
   "outputs": [],
   "source": [
    "X.head()"
   ]
  },
  {
   "cell_type": "code",
   "execution_count": null,
   "id": "b6408105-e89c-4589-bc6a-0b0d4620461d",
   "metadata": {},
   "outputs": [],
   "source": [
    "# to build a tree, we could use 'gini' or 'entropy' as split criterion at each node. \n",
    "# here we use an example use 'gini' and with a few other hyperparameters.\n",
    "criteria = \"gini\" \n",
    "max_depth = 6 \n",
    "min_sample_leaf = 4\n",
    "clf_gini = DecisionTreeClassifier(criterion=criteria, random_state=100,\n",
    "                                max_depth=max_depth, min_samples_leaf=min_sample_leaf)\n",
    "clf_gini.fit(X_train, y_train)\n",
    "print(clf_gini.score(X_train, y_train))"
   ]
  },
  {
   "cell_type": "code",
   "execution_count": null,
   "id": "6661a466-5e46-4fef-b6a1-a2c6896336c0",
   "metadata": {},
   "outputs": [],
   "source": [
    "import os\n",
    "path = os.getcwd()\n",
    "path\n"
   ]
  },
  {
   "cell_type": "code",
   "execution_count": null,
   "id": "56373998-018d-4790-941a-c467c08f3f31",
   "metadata": {},
   "outputs": [],
   "source": [
    "# one attractive feature of a tree is visulization. \n",
    "\n",
    "plt.figure(figsize=(160,80))  # customize according to the size of your tree\n",
    "plot_tree(clf_gini, feature_names = X_train.columns)\n",
    "plt.savefig(path+'/data/arbol_1.png',bbox_inches='tight')\n",
    "plt.show()\n"
   ]
  },
  {
   "cell_type": "code",
   "execution_count": null,
   "id": "fc072644-5921-4258-bade-94f4ac95a59d",
   "metadata": {},
   "outputs": [],
   "source": [
    "# let us build the confusion matrix to evaluate the model in accuracy for both training and test datasets.\n",
    "# we could also compute more metrics such as precision, recall, f1-score, etc.\n",
    "y_pred_train = clf_gini.predict(X_train)\n",
    "cm = pd.DataFrame(confusion_matrix(y_train, y_pred_train).T, index=['No', 'Yes'], columns=['No', 'Yes'])\n",
    "print(cm)\n",
    "print(\"Train Accuracy is \", accuracy_score(y_train,y_pred_train)*100)\n",
    "\n",
    "\n",
    "y_pred = clf_gini.predict(X_test)\n",
    "cm = pd.DataFrame(confusion_matrix(y_test, y_pred).T, index=['No', 'Yes'], columns=['No', 'Yes'])\n",
    "print(cm)\n",
    "print(\"Test Accuracy is \", accuracy_score(y_test,y_pred)*100)"
   ]
  },
  {
   "cell_type": "code",
   "execution_count": null,
   "id": "cd3b4f86-04dd-4637-8659-f1020cc8ebc0",
   "metadata": {},
   "outputs": [],
   "source": []
  },
  {
   "cell_type": "code",
   "execution_count": null,
   "id": "1725cab5-3980-43d5-8740-55f8ad75a201",
   "metadata": {},
   "outputs": [],
   "source": []
  },
  {
   "cell_type": "code",
   "execution_count": null,
   "id": "b7395fa6-51f3-4705-8a29-657744d2ef3d",
   "metadata": {},
   "outputs": [],
   "source": []
  },
  {
   "cell_type": "code",
   "execution_count": null,
   "id": "a682f401-aa2d-424f-9d40-ad60c162def9",
   "metadata": {},
   "outputs": [],
   "source": []
  },
  {
   "cell_type": "code",
   "execution_count": null,
   "id": "7f7b014f-69e5-4fbb-9cf9-abeab310583e",
   "metadata": {},
   "outputs": [],
   "source": []
  },
  {
   "cell_type": "code",
   "execution_count": null,
   "id": "9002b946-58b3-42f4-bf8b-49feecb3be60",
   "metadata": {},
   "outputs": [],
   "source": []
  },
  {
   "cell_type": "code",
   "execution_count": null,
   "id": "8f7bd26d-019a-420d-8cda-e7d2b7f4b9c8",
   "metadata": {},
   "outputs": [],
   "source": [
    "df_t.head()"
   ]
  },
  {
   "cell_type": "code",
   "execution_count": null,
   "id": "12e65411-5e77-42bf-97fd-855e74f2fa0b",
   "metadata": {},
   "outputs": [],
   "source": [
    "df_t.shape"
   ]
  },
  {
   "cell_type": "code",
   "execution_count": null,
   "id": "ae20f2cc-f617-4e1e-bfe9-b578cc5cbca4",
   "metadata": {},
   "outputs": [],
   "source": [
    "df_t.aumento = df_t.aumento.map({True:\"Si\",False:\"No\"})"
   ]
  },
  {
   "cell_type": "code",
   "execution_count": null,
   "id": "8c9c4b94-d305-463b-9a92-81588e70e1c2",
   "metadata": {},
   "outputs": [],
   "source": [
    "df_t.head()"
   ]
  },
  {
   "cell_type": "code",
   "execution_count": null,
   "id": "0cfb36ae-20ca-4fab-b853-4d9f84449b58",
   "metadata": {},
   "outputs": [],
   "source": [
    "# we first split the dataset into training (200 samples) and test sets.\n",
    "X = df_t[[\"preciolista\",\"comercioid\"]]\n",
    "y = df_t.aumento\n",
    "train_size = 50\n",
    "X_train, X_test, y_train, y_test = train_test_split(X, y, train_size=train_size, \n",
    "                                    test_size=X.shape[0]-train_size, random_state=0)"
   ]
  },
  {
   "cell_type": "code",
   "execution_count": null,
   "id": "09810f19-8559-4ed1-9bfe-6cbbd861be25",
   "metadata": {},
   "outputs": [],
   "source": [
    "# to build a tree, we could use 'gini' or 'entropy' as split criterion at each node. \n",
    "# here we use an example use 'gini' and with a few other hyperparameters.\n",
    "criteria = \"gini\" \n",
    "max_depth = 6 \n",
    "min_sample_leaf = 4\n",
    "clf_gini = DecisionTreeClassifier(criterion=criteria, random_state=100,\n",
    "                                max_depth=max_depth, min_samples_leaf=min_sample_leaf)\n",
    "clf_gini.fit(X_train, y_train)\n",
    "print(clf_gini.score(X_train, y_train))"
   ]
  },
  {
   "cell_type": "code",
   "execution_count": null,
   "id": "060685c9-7b41-44db-92eb-37cf07f80802",
   "metadata": {},
   "outputs": [],
   "source": [
    "# one attractive feature of a tree is visulization. \n",
    "plt.figure(figsize=(40,20))  # customize according to the size of your tree\n",
    "plot_tree(clf_gini, feature_names = X_train.columns)\n",
    "plt.show()"
   ]
  },
  {
   "cell_type": "code",
   "execution_count": null,
   "id": "eb380350-e7a8-464c-98f1-4a9cb7494017",
   "metadata": {},
   "outputs": [],
   "source": [
    "# let us build the confusion matrix to evaluate the model in accuracy for both training and test datasets.\n",
    "# we could also compute more metrics such as precision, recall, f1-score, etc.\n",
    "y_pred_train = clf_gini.predict(X_train)\n",
    "cm = pd.DataFrame(confusion_matrix(y_train, y_pred_train).T, index=['No', 'Yes'], columns=['No', 'Yes'])\n",
    "print(cm)\n",
    "print(\"Train Accuracy is \", accuracy_score(y_train,y_pred_train)*100)\n",
    "\n",
    "\n",
    "y_pred = clf_gini.predict(X_test)\n",
    "cm = pd.DataFrame(confusion_matrix(y_test, y_pred).T, index=['No', 'Yes'], columns=['No', 'Yes'])\n",
    "print(cm)\n",
    "print(\"Test Accuracy is \", accuracy_score(y_test,y_pred)*100)\n",
    "\n",
    "\"\"\"\n",
    "The test accuracy of our model is significant lower than our training result, this may indicate overfitting. \n",
    "we can go back and change the hyperparameters in the training process to reduce the dimension of the parameter space.\n",
    "\"\"\""
   ]
  },
  {
   "cell_type": "code",
   "execution_count": null,
   "id": "8a83fb1d-145b-4dd6-acbd-ccffaf9d0c18",
   "metadata": {},
   "outputs": [],
   "source": [
    "# we reused the previous train and test sets.\n",
    "all_features = X_train.shape[1]\n",
    "regr_bagging = RandomForestRegressor(max_features=all_features, random_state=1)\n",
    "regr_bagging.fit(X_train, y_train)"
   ]
  },
  {
   "cell_type": "code",
   "execution_count": null,
   "id": "1ef88882-707b-4937-adfa-652738c0b2fe",
   "metadata": {},
   "outputs": [],
   "source": []
  }
 ],
 "metadata": {
  "kernelspec": {
   "display_name": "Python 3",
   "language": "python",
   "name": "python3"
  },
  "language_info": {
   "codemirror_mode": {
    "name": "ipython",
    "version": 3
   },
   "file_extension": ".py",
   "mimetype": "text/x-python",
   "name": "python",
   "nbconvert_exporter": "python",
   "pygments_lexer": "ipython3",
   "version": "3.8.8"
  }
 },
 "nbformat": 4,
 "nbformat_minor": 5
}
